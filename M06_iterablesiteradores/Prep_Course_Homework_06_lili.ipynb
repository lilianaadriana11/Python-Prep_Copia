{
 "cells": [
  {
   "attachments": {},
   "cell_type": "markdown",
   "metadata": {},
   "source": [
    "## Iteradores e iterables"
   ]
  },
  {
   "attachments": {},
   "cell_type": "markdown",
   "metadata": {},
   "source": [
    "1) A partir de una lista vacía, utilizar un ciclo while para cargar allí números negativos del -15 al -1"
   ]
  },
  {
   "cell_type": "code",
   "execution_count": 41,
   "metadata": {},
   "outputs": [
    {
     "name": "stdout",
     "output_type": "stream",
     "text": [
      "[-15, -14, -13, -12, -11, -10, -9, -8, -7, -6, -5, -4, -3, -2, -1]\n"
     ]
    }
   ],
   "source": [
    "lista = []\n",
    "i= -15\n",
    "while i < 0:\n",
    "    #print(lista)\n",
    "    lista.append(i)\n",
    "    i+=1\n",
    "print(lista)\n",
    "\n"
   ]
  },
  {
   "attachments": {},
   "cell_type": "markdown",
   "metadata": {},
   "source": [
    "2) ¿Con un ciclo while sería posible recorrer la lista para imprimir sólo los números pares?"
   ]
  },
  {
   "cell_type": "code",
   "execution_count": 57,
   "metadata": {},
   "outputs": [
    {
     "name": "stdout",
     "output_type": "stream",
     "text": [
      "[-15, -14, -13, -12, -11, -10, -9, -8, -7, -6, -5, -4, -3, -2, -1]\n",
      "\n",
      " longitud de la lista : lista (-15 , -1) 15\n",
      "\n",
      "-14\n",
      "-12\n",
      "-10\n",
      "-8\n",
      "-6\n",
      "-4\n",
      "-2\n"
     ]
    }
   ],
   "source": [
    "lista = []\n",
    "i= -15\n",
    "while i < 0:\n",
    "    #print(lista)\n",
    "    lista.append(i)\n",
    "    i+=1\n",
    "print(lista)\n",
    "print(f'\\n longitud de la lista : lista (-15 , -1) {len(lista)}\\n')\n",
    "\n",
    "i= 1\n",
    "while i < len(lista):\n",
    "    print(lista[i])\n",
    "    i+=2\n"
   ]
  },
  {
   "cell_type": "code",
   "execution_count": 61,
   "metadata": {},
   "outputs": [
    {
     "name": "stdout",
     "output_type": "stream",
     "text": [
      "15\n",
      "-14\n",
      "-12\n",
      "-10\n",
      "-8\n",
      "-6\n",
      "-4\n",
      "-2\n",
      "[-14, -12, -10, -8, -6, -4, -2]\n"
     ]
    }
   ],
   "source": [
    "# Guardar los pares en una lista\n",
    "pares = []\n",
    "print(len(lista))\n",
    "\n",
    "i= 1\n",
    "while i < len(lista):\n",
    "    print(lista[i])\n",
    "    pares.append(lista[i])\n",
    "    i+=2\n",
    "print(pares)"
   ]
  },
  {
   "attachments": {},
   "cell_type": "markdown",
   "metadata": {},
   "source": [
    "3) Resolver el punto anterior sin utilizar un ciclo while"
   ]
  },
  {
   "cell_type": "code",
   "execution_count": 72,
   "metadata": {},
   "outputs": [
    {
     "name": "stdout",
     "output_type": "stream",
     "text": [
      "[-15, -14, -13, -12, -11, -10, -9, -8, -7, -6, -5, -4, -3, -2, -1]\n"
     ]
    }
   ],
   "source": [
    "pares = []\n",
    "i= 0\n",
    "for i in lista:\n",
    "    pares.append(lista[i])\n",
    "print(pares)"
   ]
  },
  {
   "attachments": {},
   "cell_type": "markdown",
   "metadata": {},
   "source": [
    "4) Utilizar el iterable para recorrer sólo los primeros 3 elementos"
   ]
  },
  {
   "cell_type": "code",
   "execution_count": 73,
   "metadata": {},
   "outputs": [
    {
     "name": "stdout",
     "output_type": "stream",
     "text": [
      "[-15, -14, -13]\n"
     ]
    }
   ],
   "source": [
    "primeros_tres = []\n",
    "i= 0\n",
    "for i in range(0 , 3):\n",
    "    primeros_tres.append(lista[i])\n",
    "print(primeros_tres)"
   ]
  },
  {
   "attachments": {},
   "cell_type": "markdown",
   "metadata": {},
   "source": [
    "5) Utilizar la función **enumerate** para obtener dentro del iterable, tambien el índice al que corresponde el elemento"
   ]
  },
  {
   "cell_type": "code",
   "execution_count": 78,
   "metadata": {},
   "outputs": [
    {
     "name": "stdout",
     "output_type": "stream",
     "text": [
      "(0, -15)\n",
      "(1, -14)\n",
      "(2, -13)\n",
      "(3, -12)\n",
      "(4, -11)\n",
      "(5, -10)\n",
      "(6, -9)\n",
      "(7, -8)\n",
      "(8, -7)\n",
      "(9, -6)\n",
      "(10, -5)\n",
      "(11, -4)\n",
      "(12, -3)\n",
      "(13, -2)\n",
      "(14, -1)\n"
     ]
    }
   ],
   "source": [
    "for i in enumerate(lista):\n",
    "    print(i)"
   ]
  },
  {
   "attachments": {},
   "cell_type": "markdown",
   "metadata": {},
   "source": [
    "6) Dada la siguiente lista de números enteros entre 1 y 20, crear un ciclo donde se completen los valores faltantes: lista = [1,2,5,7,8,10,13,14,15,17,20]"
   ]
  },
  {
   "cell_type": "code",
   "execution_count": 11,
   "metadata": {},
   "outputs": [
    {
     "name": "stdout",
     "output_type": "stream",
     "text": [
      " [1, 2, 5, 7, 8, 10, 13, 14, 15, 17, 20, 3, 4, 6, 9, 11, 12, 16, 18, 19]\n",
      "\n",
      "[1, 2, 3, 4, 5, 6, 7, 8, 9, 10, 11, 12, 13, 14, 15, 16, 17, 18, 19, 20]\n"
     ]
    }
   ],
   "source": [
    "lista_2 = [1,2,5,7,8,10,13,14,15,17,20]\n",
    "marca_lista_2 = iter(lista_2)\n",
    "maximo = 21\n",
    "\n",
    "#i = 0\n",
    "for i in range(1, maximo): # Numeros que deberian haber en la lista\n",
    "    if not i in lista_2 :\n",
    "        lista_2.append(i)\n",
    "        #print(f'  i   {i}')\n",
    "print(f' {lista_2}\\n')\n",
    "print(sorted(lista_2))\n"
   ]
  },
  {
   "attachments": {},
   "cell_type": "markdown",
   "metadata": {},
   "source": [
    "7) La sucesión de Fibonacci es un listado de números que sigue la fórmula: <br>\n",
    "n<sub>0</sub> = 0<br>\n",
    "n<sub>1</sub> = 1<br>\n",
    "n<sub>i</sub> = n<sub>i-1</sub> + n<sub>i-2</sub><br>\n",
    "Crear una lista con los primeros treinta números de la sucesión.<br>"
   ]
  },
  {
   "cell_type": "code",
   "execution_count": 75,
   "metadata": {},
   "outputs": [
    {
     "name": "stdout",
     "output_type": "stream",
     "text": [
      "a30 = [0, 1, 1, 2, 3, 5, 8, 13, 21, 34, 55, 89, 144, 233, 377, 610, 987, 1597, 2584, 4181, 6765, 10946, 17711, 28657, 46368, 75025, 121393, 196418, 317811, 514229, 832040]\n"
     ]
    }
   ],
   "source": [
    "# Sucesion de Fibonacci\n",
    "n =  30\n",
    "a0 = 0\n",
    "a1 = 1\n",
    "San = [a0, a1]\n",
    "\n",
    "for i in range (2 , n+1):\n",
    "    ai = San[i-1] + San[i-2]\n",
    "    San.append(ai)\n",
    "print( f'a{i} = {San}')"
   ]
  },
  {
   "attachments": {},
   "cell_type": "markdown",
   "metadata": {},
   "source": [
    "8) Realizar la suma de todos elementos de la lista del punto anterior"
   ]
  },
  {
   "cell_type": "code",
   "execution_count": 76,
   "metadata": {},
   "outputs": [
    {
     "name": "stdout",
     "output_type": "stream",
     "text": [
      "Los 3 terminos son [0, 1, 1]\n",
      "Los 4 terminos son [0, 1, 1, 2]\n",
      "Los 5 terminos son [0, 1, 1, 2, 3]\n",
      "Los 6 terminos son [0, 1, 1, 2, 3, 5]\n",
      "Los 7 terminos son [0, 1, 1, 2, 3, 5, 8]\n",
      "La suma de los 7 terminos es 20\n",
      "\n",
      "a6 = [0, 1, 1, 2, 3, 5, 8]\n"
     ]
    }
   ],
   "source": [
    "# Sucesion de Fibonacci\n",
    "n =  6\n",
    "\n",
    "a0 = 0\n",
    "a1 = 1\n",
    "San = [a0, a1]\n",
    "suma_an = 0\n",
    "\n",
    "for i in range (2 , n+1):\n",
    "    ai = San[i-1] + San[i-2]\n",
    "    San.append(ai)\n",
    "\n",
    "    suma_an = suma_an + ai\n",
    "    \n",
    "    print( f'Los {i+1} terminos son {San}')    \n",
    "print( f'La suma de los {i+1} terminos es {suma_an+1}\\n')\n",
    "print( f'a{i} = {San}')"
   ]
  },
  {
   "attachments": {},
   "cell_type": "markdown",
   "metadata": {},
   "source": [
    "9) La proporción aurea se expresa con una proporción matemática que nace el número irracional Phi= 1,618… que los griegos llamaron número áureo. El cuál se puede aproximar con la sucesión de Fibonacci. Con la lista del ejercicio anterior, imprimir el cociente de los últimos 5 pares de dos números contiguos:<br>\n",
    "Donde i es la cantidad total de elementos<br>\n",
    "n<sub>i-1</sub> / n<sub>i</sub><br>\n",
    "n<sub>i-2</sub> / n<sub>i-1</sub><br>\n",
    "n<sub>i-3</sub> / n<sub>i-2</sub><br>\n",
    "n<sub>i-4</sub> / n<sub>i-3</sub><br>\n",
    "n<sub>i-5</sub> / n<sub>i-4</sub><br>\n",
    " "
   ]
  },
  {
   "cell_type": "code",
   "execution_count": 23,
   "metadata": {},
   "outputs": [
    {
     "name": "stdout",
     "output_type": "stream",
     "text": [
      "R30 = [0, 1.0, 2.0, 1.5, 1.6666666666666667, 1.6, 1.625, 1.6153846153846154, 1.619047619047619, 1.6176470588235294, 1.6181818181818182, 1.6179775280898876, 1.6180555555555556, 1.6180257510729614, 1.6180371352785146, 1.618032786885246, 1.618034447821682, 1.6180338134001253, 1.618034055727554, 1.6180339631667064, 1.6180339985218033, 1.618033985017358, 1.6180339901755971, 1.618033988205325, 1.618033988957902, 1.6180339886704431, 1.6180339887802426, 1.618033988738303, 1.6180339887543225, 1.6180339887482036]\n",
      "a30 = [0, 1, 1, 2, 3, 5, 8, 13, 21, 34, 55, 89, 144, 233, 377, 610, 987, 1597, 2584, 4181, 6765, 10946, 17711, 28657, 46368, 75025, 121393, 196418, 317811, 514229, 832040]\n"
     ]
    }
   ],
   "source": [
    "# Sucesion de Fibonacci\n",
    "n =  30\n",
    "\n",
    "a0 = 0\n",
    "a1 = 1\n",
    "San = [a0, a1]\n",
    "Ri = 0\n",
    "Rn = [0]\n",
    "\n",
    "for i in range (2 , n+1):\n",
    "    ai = San[i-1] + San[i-2]\n",
    "    San.append(ai) #sucecion de Fibonacci\n",
    "    \n",
    "    Ri = San[i]/San[i-1]\n",
    "    Rn.append(Ri)\n",
    "\n",
    "print( f'R{i} = {Rn}')\n",
    "print( f'a{i} = {San}')"
   ]
  },
  {
   "cell_type": "code",
   "execution_count": 32,
   "metadata": {},
   "outputs": [
    {
     "name": "stdout",
     "output_type": "stream",
     "text": [
      "pares (26 /25) :  121393 / 75025 es 1.618033988957902 \n",
      "pares (27 /26) :  196418 / 121393 es 1.6180339886704431 \n",
      "pares (28 /27) :  317811 / 196418 es 1.6180339887802426 \n",
      "pares (29 /28) :  514229 / 317811 es 1.618033988738303 \n",
      "pares (30 /29) :  832040 / 514229 es 1.6180339887543225 \n",
      "[1.618033988957902, 1.6180339886704431, 1.6180339887802426, 1.618033988738303, 1.6180339887543225]\n"
     ]
    }
   ],
   "source": [
    "n = 30\n",
    "Rn =[]\n",
    "Ri = 0\n",
    "i = 25\n",
    "while i <  n :\n",
    "    Ri = San[i]/San[i-1]\n",
    "    Rn.append(Ri)\n",
    "    i+=1\n",
    "    print(f'pares ({i} /{i-1}) :  {San[i]} / {San[i-1]} es {Ri} ' )   \n",
    "print(Rn)\n",
    "    \n"
   ]
  },
  {
   "attachments": {},
   "cell_type": "markdown",
   "metadata": {},
   "source": [
    "10) A partir de la variable cadena ya dada, mostrar en qué posiciones aparece la letra \"n\"<br>\n",
    "cadena = 'Hola Mundo. Esto es una practica del lenguaje de programación Python'"
   ]
  },
  {
   "cell_type": "code",
   "execution_count": 91,
   "metadata": {},
   "outputs": [
    {
     "name": "stdout",
     "output_type": "stream",
     "text": [
      "Tamano de cadena 68\n",
      " 7\n",
      " 21\n",
      " 39\n",
      " 60\n",
      " 67\n"
     ]
    }
   ],
   "source": [
    "cadena = 'Hola Mundo. Esto es una practica del lenguaje de programación Python'\n",
    "print(f'Tamano de cadena {len(cadena)}')\n",
    "marca_lista_2 = iter(cadena)\n",
    "\n",
    "for i in range(0, len(cadena)): # Numeros que deberian haber en la lista\n",
    "    #print(f' {i}')\n",
    "    if cadena[i] == 'n':\n",
    "        print(f' {i}')\n"
   ]
  },
  {
   "attachments": {},
   "cell_type": "markdown",
   "metadata": {},
   "source": [
    "11) Crear un diccionario e imprimir sus claves utilizando un iterador"
   ]
  },
  {
   "cell_type": "code",
   "execution_count": 102,
   "metadata": {},
   "outputs": [
    {
     "name": "stdout",
     "output_type": "stream",
     "text": [
      "Tamano del diccionario 5\n",
      "uno\n",
      "dos\n",
      "tres\n",
      "cuatro\n",
      "cinco\n"
     ]
    }
   ],
   "source": [
    "n = 0\n",
    "ej_diccionario = {'uno':'une' , 'dos': 'deux' , 'tres' : 'trois' , 'cuatro' : 'quatre' , 'cinco' : 'cinq'}\n",
    "marca_ej_diccionario = iter(ej_diccionario)\n",
    "print(f'Tamano del diccionario {len(ej_diccionario)}')\n",
    "for i in range (0, len(ej_diccionario)):\n",
    "    n = next(marca_ej_diccionario)\n",
    "    \n",
    "    print(n)\n",
    "\n"
   ]
  },
  {
   "attachments": {},
   "cell_type": "markdown",
   "metadata": {},
   "source": [
    "12) Convertir en una lista la variable \"cadena\" del punto 10 y luego recorrerla con un iterador "
   ]
  },
  {
   "cell_type": "code",
   "execution_count": 105,
   "metadata": {},
   "outputs": [
    {
     "name": "stdout",
     "output_type": "stream",
     "text": [
      "Tamano de cadena 68\n",
      " ['H', 'o', 'l', 'a', ' ', 'M', 'u', 'n', 'd', 'o', '.', ' ', 'E', 's', 't', 'o', ' ', 'e', 's', ' ', 'u', 'n', 'a', ' ', 'p', 'r', 'a', 'c', 't', 'i', 'c', 'a', ' ', 'd', 'e', 'l', ' ', 'l', 'e', 'n', 'g', 'u', 'a', 'j', 'e', ' ', 'd', 'e', ' ', 'p', 'r', 'o', 'g', 'r', 'a', 'm', 'a', 'c', 'i', 'ó', 'n', ' ', 'P', 'y', 't', 'h', 'o', 'n']\n"
     ]
    }
   ],
   "source": [
    "cadena = 'Hola Mundo. Esto es una practica del lenguaje de programación Python'\n",
    "print(f'Tamano de cadena {len(cadena)}')\n",
    "marca_lista_2 = iter(cadena)\n",
    "\n",
    "var_cadena = []\n",
    "for i in range(0, len(cadena)): # Numeros que deberian haber en la lista\n",
    "    var_cadena.append(cadena[i])\n",
    "print(f' {var_cadena}')\n",
    "\n"
   ]
  },
  {
   "attachments": {},
   "cell_type": "markdown",
   "metadata": {},
   "source": [
    "13) Crear dos listas y unirlas en una tupla utilizando la función zip"
   ]
  },
  {
   "cell_type": "code",
   "execution_count": 118,
   "metadata": {},
   "outputs": [
    {
     "name": "stdout",
     "output_type": "stream",
     "text": [
      "<class 'zip'>\n",
      "(1, 10)\n",
      "(5, 11)\n",
      "(6, 15)\n",
      "(7, 21)\n",
      "(8, 22)\n"
     ]
    }
   ],
   "source": [
    "lista_1 = [1 ,  5, 6, 7 , 8]\n",
    "lista_2 = [10, 11, 15, 21, 22 , 50, 100]\n",
    "\n",
    "Combinacion_listas_en_tupla = zip(lista_1, lista_2)\n",
    "print(type(Combinacion_listas_en_tupla))\n",
    "\n",
    "for elemento_tupla in Combinacion_listas_en_tupla:\n",
    "    print(elemento_tupla)"
   ]
  },
  {
   "attachments": {},
   "cell_type": "markdown",
   "metadata": {},
   "source": [
    "14) A partir de la siguiente lista de números, crear una nueva sólo si el número es divisible por 7<br>\n",
    "lis = [18,21,29,32,35,42,56,60,63,71,84,90,91,100]"
   ]
  },
  {
   "cell_type": "code",
   "execution_count": 117,
   "metadata": {},
   "outputs": [
    {
     "name": "stdout",
     "output_type": "stream",
     "text": [
      "[21, 35, 42, 56, 63, 84, 91]\n"
     ]
    }
   ],
   "source": [
    "list = [18,21,29,32,35,42,56,60,63,71,84,90,91,100]\n",
    "list_div_7 = []\n",
    "\n",
    "for i in range(0, len(list)):\n",
    "    if list[i] % 7 == 0:\n",
    "        list_div_7.append(list[i])\n",
    "print(list_div_7)\n"
   ]
  },
  {
   "cell_type": "code",
   "execution_count": 119,
   "metadata": {},
   "outputs": [
    {
     "name": "stdout",
     "output_type": "stream",
     "text": [
      "[21, 35, 42, 56, 63, 84, 91]\n"
     ]
    }
   ],
   "source": [
    "list = [18,21,29,32,35,42,56,60,63,71,84,90,91,100]\n",
    "list_div_7_2= [ i for i in range(0, len(list)) if list[i] % 7 == 0]\n",
    "print(list_div_7)"
   ]
  },
  {
   "attachments": {},
   "cell_type": "markdown",
   "metadata": {},
   "source": [
    "15) A partir de la lista de a continuación, contar la cantidad total de elementos que contiene, teniendo en cuenta que un elemento de la lista podría ser otra lista:<br>\n",
    "lis = [[1,2,3,4],'rojo','verde',[True,False,False],['uno','dos','tres']]"
   ]
  },
  {
   "cell_type": "code",
   "execution_count": 13,
   "metadata": {},
   "outputs": [
    {
     "name": "stdout",
     "output_type": "stream",
     "text": [
      " el sub_elemento [1, 2, 3, 4] tiene tamano  4\n",
      " el sub_elemento rojo tiene tamano  4\n",
      " el sub_elemento verde tiene tamano  5\n",
      " el sub_elemento [True, False, False] tiene tamano  3\n",
      " el sub_elemento ['uno', 'dos', 'tres'] tiene tamano  3\n",
      "19\n"
     ]
    }
   ],
   "source": [
    "list_elem = []\n",
    "STam = 0\n",
    "lis = [[1,2,3,4],'rojo','verde',[True,False,False],['uno','dos','tres']]\n",
    "marca_lis = iter(lis)\n",
    "for sub_elemento in marca_lis:\n",
    "    tam = len(sub_elemento)\n",
    "    print(f' el sub_elemento {sub_elemento} tiene tamano  {tam}')\n",
    "    STam = STam + tam\n",
    "    \n",
    "print(STam)"
   ]
  },
  {
   "attachments": {},
   "cell_type": "markdown",
   "metadata": {},
   "source": [
    "16) Tomar la lista del punto anterior y convertir cada elemento en una lista si no lo es"
   ]
  },
  {
   "cell_type": "code",
   "execution_count": 21,
   "metadata": {},
   "outputs": [
    {
     "name": "stdout",
     "output_type": "stream",
     "text": [
      " el sub_elemento [1, 2, 3, 4] tiene tamano  4 el tipo de dato es <class 'list'>\n",
      " el sub_elemento rojo tiene tamano  4 el tipo de dato es <class 'str'>\n",
      " el sub_elemento ['r', 'o', 'j', 'o'] tiene tamano  4 AHORA el tiepo de dato es <class 'list'>\n",
      " el sub_elemento verde tiene tamano  5 el tipo de dato es <class 'str'>\n",
      " el sub_elemento ['v', 'e', 'r', 'd', 'e'] tiene tamano  5 AHORA el tiepo de dato es <class 'list'>\n",
      " el sub_elemento [True, False, False] tiene tamano  3 el tipo de dato es <class 'list'>\n",
      " el sub_elemento ['uno', 'dos', 'tres'] tiene tamano  3 el tipo de dato es <class 'list'>\n",
      "0\n"
     ]
    }
   ],
   "source": [
    "list_elem = []\n",
    "STam = 0\n",
    "lis = [[1,2,3,4],'rojo','verde',[True,False,False],['uno','dos','tres']]\n",
    "marca_lis = iter(lis)\n",
    "for sub_elemento in marca_lis:\n",
    "    tam = len(sub_elemento)\n",
    "    print(f' el sub_elemento {sub_elemento} tiene tamano  {tam} el tipo de dato es {type(sub_elemento)}')\n",
    "    if type(sub_elemento) == list:\n",
    "        continue\n",
    "    else :\n",
    "        sub_elemento = list(sub_elemento)\n",
    "        print(f' el sub_elemento {sub_elemento} tiene tamano  {tam} AHORA el tipo de dato es {type(sub_elemento)}')\n",
    "\n",
    "print(STam)\n",
    "    \n"
   ]
  }
 ],
 "metadata": {
  "interpreter": {
   "hash": "c85384e4cb51c8b72350f3a8712cc8351fdc3955e32a27f9b60c6242ab125f01"
  },
  "kernelspec": {
   "display_name": "Python 3 (ipykernel)",
   "language": "python",
   "name": "python3"
  },
  "language_info": {
   "codemirror_mode": {
    "name": "ipython",
    "version": 3
   },
   "file_extension": ".py",
   "mimetype": "text/x-python",
   "name": "python",
   "nbconvert_exporter": "python",
   "pygments_lexer": "ipython3",
   "version": "3.12.2"
  }
 },
 "nbformat": 4,
 "nbformat_minor": 4
}
