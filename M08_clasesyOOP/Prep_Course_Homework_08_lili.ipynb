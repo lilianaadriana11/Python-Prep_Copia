{
 "cells": [
  {
   "attachments": {},
   "cell_type": "markdown",
   "metadata": {},
   "source": [
    "## Clases y Programación Orientada a Objetos"
   ]
  },
  {
   "attachments": {},
   "cell_type": "markdown",
   "metadata": {},
   "source": [
    "1) Crear la clase vehículo que contenga los atributos:<br>\n",
    "Color<br>\n",
    "Si es moto, auto, camioneta ó camión<br>\n",
    "Cilindrada del motor"
   ]
  },
  {
   "cell_type": "code",
   "execution_count": 4,
   "metadata": {},
   "outputs": [],
   "source": [
    "# A traves de la Clase se contruyen vario objeto, por ejemplo vehiculos\n",
    "class vehiculo:\n",
    "    def __init__ (self, color, tipo, cilindraje) : # para incluir lo atributos de la clase.\n",
    "        self.color = color\n",
    "        self.tipo = tipo\n",
    "        self.cilindraje = cilindraje\n",
    "\n"
   ]
  },
  {
   "attachments": {},
   "cell_type": "markdown",
   "metadata": {},
   "source": [
    "2) A la clase Vehiculo creada en el punto 1, agregar los siguientes métodos:<br>\n",
    "Acelerar<br>\n",
    "Frenar<br>\n",
    "Doblar<br>"
   ]
  },
  {
   "cell_type": "code",
   "execution_count": 9,
   "metadata": {},
   "outputs": [],
   "source": [
    "# A traves de la Clase se contruyen vario objeto, por ejemplo vehiculos\n",
    "class vehiculo:\n",
    "    def __init__(self, color, tipo, cilindraje) : # para incluir lo atributos de la clase\n",
    "        self.color = color\n",
    "        self.tipo = tipo\n",
    "        self.cilindraje = cilindraje\n",
    "        self.velocidad = 0\n",
    "        self.direccion = 0\n",
    "        self.grados = 0\n",
    "\n",
    "    def Acelerar (self, vel) :\n",
    "        self.velocidad += vel\n",
    "\n",
    "    def Frenar (self, vel) :\n",
    "        self.velocidad -= vel\n",
    "\n",
    "    def Doblar_derecha (self, grados) :\n",
    "        self.grados += grados\n",
    "    \n",
    "    def Doblar_izquierda (self, grados) :\n",
    "        self.grados -=grados"
   ]
  },
  {
   "attachments": {},
   "cell_type": "markdown",
   "metadata": {},
   "source": [
    "3) Instanciar 3 objetos de la clase vehículo y ejecutar sus métodos, probar luego el resultado"
   ]
  },
  {
   "cell_type": "code",
   "execution_count": 10,
   "metadata": {},
   "outputs": [],
   "source": [
    "# Se Crean los tres objetos\n",
    "vehiculo1 = vehiculo('gris', 'automovil' , '1.8')\n",
    "vehiculo2 = vehiculo('azul', 'moto' , '0.8')\n",
    "vehiculo3 = vehiculo('rojo', 'camion' , '3.0')\n"
   ]
  },
  {
   "cell_type": "code",
   "execution_count": 11,
   "metadata": {},
   "outputs": [],
   "source": [
    "vehiculo1.Acelerar(40)\n",
    "vehiculo2.Acelerar(60)\n",
    "vehiculo3.Acelerar(80)\n",
    "\n",
    "vehiculo1.Doblar_derecha(98)\n",
    "vehiculo2.Doblar_derecha(0)\n",
    "vehiculo3.Doblar_izquierda(98)\n",
    "\n",
    "vehiculo1.Frenar(40)\n",
    "vehiculo2.Frenar(60)\n",
    "vehiculo3.Frenar(80)\n"
   ]
  },
  {
   "attachments": {},
   "cell_type": "markdown",
   "metadata": {},
   "source": [
    "4) Agregar a la clase Vehiculo, un método que muestre su estado, es decir, a que velocidad se encuentra y su dirección. Y otro método que muestre color, tipo y cilindrada"
   ]
  },
  {
   "cell_type": "code",
   "execution_count": 22,
   "metadata": {},
   "outputs": [],
   "source": [
    "# A traves de la Clase se contruyen vario objeto, por ejemplo vehiculos\n",
    "class vehiculo:\n",
    "    def __init__(self, color, tipo, cilindraje) : # para incluir lo atributos de la clase.\n",
    "        self.color = color\n",
    "        self.tipo = tipo\n",
    "        self.cilindraje = cilindraje\n",
    "        self.velocidad = 0\n",
    "\n",
    "        self.orientacion = 90\n",
    "        self.direccion  = 'Centro'\n",
    "\n",
    "    def Acelerar (self, vel) :\n",
    "        self.velocidad += vel\n",
    "\n",
    "\n",
    "    def Frenar (self, vel) :\n",
    "        self.velocidad -= vel\n",
    "\n",
    "    def Doblar_derecha (self, grados) :\n",
    "        self.orientacion +=grados\n",
    "    \n",
    "    def Doblar_izquierda (self, grados) :\n",
    "        self.orientacion -=grados   \n",
    "    \n",
    "    def estado (self) :\n",
    "        if self.orientacion > 90:\n",
    "            self.direccion = 'Derecha'\n",
    "        elif self.orientacion < 90:\n",
    "            self.direccion = 'Izquierda'\n",
    "        else :\n",
    "            self.direccion = 'Centro'\n",
    "        print ( f'La velocidad de vehiculo es {self.velocidad} y la direccion es {self.direccion} ')\n",
    "\n",
    "    def presentar (self) :\n",
    "        print ( f'El color del Vehiculo es {self.color}, es tipo {self.tipo} y tiene un cilindraje de {self.cilindraje} cm3')"
   ]
  },
  {
   "cell_type": "code",
   "execution_count": 23,
   "metadata": {},
   "outputs": [],
   "source": [
    "# Se Crean los tres objetos\n",
    "vehiculo1 = vehiculo('gris', 'automovil' , '1.8')\n",
    "vehiculo2 = vehiculo('azul', 'moto' , '0.8')\n",
    "vehiculo3 = vehiculo('rojo', 'camion' , '3.0')"
   ]
  },
  {
   "cell_type": "code",
   "execution_count": 28,
   "metadata": {},
   "outputs": [],
   "source": [
    "vehiculo1.Acelerar(40)\n",
    "vehiculo2.Acelerar(60)\n",
    "vehiculo3.Acelerar(80)\n",
    "\n",
    "vehiculo1.Doblar_derecha(98)\n",
    "vehiculo2.Doblar_derecha(0)\n",
    "vehiculo3.Doblar_izquierda(98)\n",
    "\n",
    "vehiculo1.Frenar(20)\n",
    "vehiculo2.Frenar(10)\n",
    "vehiculo3.Frenar(20)\n"
   ]
  },
  {
   "cell_type": "code",
   "execution_count": 36,
   "metadata": {},
   "outputs": [
    {
     "name": "stdout",
     "output_type": "stream",
     "text": [
      "Vehiculo1\n",
      "La velocidad de vehiculo es 20 y la direccion es Derecha \n",
      "El color del Vehiculo es gris, es tipo automovil y tiene un cilindraje de 1.8 cm3\n",
      "\n",
      "Vehiculo2\n",
      "La velocidad de vehiculo es 50 y la direccion es Centro \n",
      "El color del Vehiculo es azul, es tipo moto y tiene un cilindraje de 0.8 cm3\n",
      "\n",
      "Vehiculo3\n",
      "La velocidad de vehiculo es 60 y la direccion es Izquierda \n",
      "El color del Vehiculo es rojo, es tipo camion y tiene un cilindraje de 3.0 cm3\n"
     ]
    }
   ],
   "source": [
    "print('Vehiculo1')\n",
    "vehiculo1.estado()\n",
    "vehiculo1.presentar()\n",
    "print('\\nVehiculo2')\n",
    "vehiculo2.estado()\n",
    "vehiculo2.presentar()\n",
    "print('\\nVehiculo3')\n",
    "vehiculo3.estado()\n",
    "vehiculo3.presentar()"
   ]
  },
  {
   "attachments": {},
   "cell_type": "markdown",
   "metadata": {},
   "source": [
    "5) Crear una clase que permita utilizar las funciones creadas en la práctica del módulo 7<br>\n",
    "Verificar Primo<br>\n",
    "Valor modal<br>\n",
    "Conversión grados<br>\n",
    "Factorial<br>"
   ]
  },
  {
   "cell_type": "code",
   "execution_count": 98,
   "metadata": {},
   "outputs": [],
   "source": [
    "class Operaciones_M7: # evalua numero primo y factorial\n",
    "    def __init__(self)-> None:\n",
    "        pass\n",
    "\n",
    "    #------------------------------------------------------------------------------------------\n",
    "    def evalua_primo(self, x:int):\n",
    "        numero_primo = True\n",
    "        for i in range(2, x): # Evalua hasta x-1, excluyendo el 2\n",
    "            #print(i)\n",
    "            if x % i == 0:\n",
    "                numero_primo = False\n",
    "                break # si encuetra un divisor se detiene el for\n",
    "        #return numero_primo\n",
    "        print(f'{x} es primo : {numero_primo}')\n",
    "\n",
    "    #------------------------------------------------------------------------------------------\n",
    "    def modas_preCourse (self, lista_x):\n",
    "\n",
    "        valores = []\n",
    "        frecuencia = []\n",
    "\n",
    "        # Armar los vectores de: Datos unicos y frecuencias\n",
    "        for elemento in lista_x:\n",
    "            if elemento in valores :\n",
    "            \n",
    "                i = valores.index(elemento) # tomar en cuenta la posicion del elemento en el vector valores\n",
    "                frecuencia[i] += 1\n",
    "            \n",
    "            else :\n",
    "                frecuencia.append(1)\n",
    "                valores.append(elemento)\n",
    "\n",
    "        #print(F'Vector de elementos unicos {valores}')\n",
    "        #print(F'Vector de Frecuencia {frecuencia}\\n')    \n",
    "\n",
    "        #Halla la moda y su frecuencia\n",
    "        moda = valores [0] # es el valor de la posicion 0 de Valores. por que\n",
    "        maxima_frecuencia = frecuencia[0]  # es el valor de la posicion 0 de Valores. por que\n",
    "\n",
    "        modas = []\n",
    "        for i in range(0 , len(valores)):\n",
    "            if frecuencia[i] >= maxima_frecuencia: # cuando esto no se da, va a la siguiente i\n",
    "                #print (f'Antes de la desicion la moda es {moda} con una frecuencia de {maxima_frecuencia}')\n",
    "                moda = valores[i]\n",
    "                modas.append(moda)\n",
    "                maxima_frecuencia = frecuencia[i]\n",
    "                #maxima_moda = valores[0]\n",
    "        #print (f'Las modas son {modas} con una frecuencia de {maxima_frecuencia}')        \n",
    "\n",
    "\n",
    "        # Selecciona el mayor entre dos numeros\n",
    "        maxima_moda = 0\n",
    "        \n",
    "        # Selecciona el mayor entre dos numeros\n",
    "        if len(modas)>=2:\n",
    "            for i in modas :\n",
    "                \n",
    "                if i > maxima_moda:\n",
    "                    \n",
    "                    moda = i\n",
    "                    maxima_moda = moda\n",
    "                else :\n",
    "                    moda = maxima_moda\n",
    "            print(f'La moda con mayor valor es {moda}')\n",
    "\n",
    "\n",
    "        else : \n",
    "            print (f'La moda es {moda} con una frecuencia de {maxima_frecuencia}')\n",
    "\n",
    "    #------------------------------------------------------------------------------------------\n",
    "    def convertidor_temperatura (self, unidades_entrada, temperatura_entrada, unidades_salida ) :\n",
    "\n",
    "        unidadess = unidades_entrada.upper()\n",
    "        unidades ='°'+ unidadess\n",
    "\n",
    "        unidades_salidas = unidades_salida.upper()\n",
    "        unidades_salida  ='°'+ unidades_salidas\n",
    "        \n",
    "        #print(f'Las unidades de la temperatura {unidades} se transforman a {unidades_salida}')\n",
    "\n",
    "        temperatura_C = int(temperatura_entrada)\n",
    "        temperatura_F = int(temperatura_entrada)\n",
    "        temperatura_K = int(temperatura_entrada)\n",
    "\n",
    "        if unidades == unidades_salida :\n",
    "            print(f'{temperatura_entrada} {unidades}  equivale a {temperatura_entrada} {unidades} ' )\n",
    "        \n",
    "        elif unidades == \"°C\" :\n",
    "            \n",
    "            if unidades_salida == \"°F\":\n",
    "                temperatura = (((temperatura_C * 9)/5) + 32)\n",
    "                #print(f'{temperatura_C} {unidades}  equivale a {temperatura_F} °F' )\n",
    "            \n",
    "            elif unidades_salida == \"°K\" :\n",
    "                temperatura = int((temperatura_C + 273.15))\n",
    "\n",
    "            else :\n",
    "                print(f'Indique las unidades de salida como : \"C\" , \"F\"  o \"K\"   \\n')\n",
    "        \n",
    "\n",
    "        elif unidades == \"°F\" :\n",
    "\n",
    "            if unidades_salida == \"°C\":\n",
    "                temperatura = (((temperatura_F -32 ) * 5)/9)\n",
    "\n",
    "            elif unidades_salida == \"°K\" :\n",
    "                temperatura = int((temperatura_F -32)*5/9 + 273.15)\n",
    "\n",
    "            else :\n",
    "                print(f'Indique las unidades de salida como : \"C\" , \"F\"  o \"K\"   \\n')\n",
    "            \n",
    "        elif unidades == \"°K\" :\n",
    "            \n",
    "            if unidades_salida == \"°F\" :    \n",
    "                temperatura = ((((temperatura_K - 273.15 ) * 9/5) + 32))\n",
    "\n",
    "            \n",
    "            elif unidades_salida == \"°C\":\n",
    "                temperatura = int(temperatura_K - 273.15)\n",
    "\n",
    "            else :\n",
    "                print(f'Indique las unidades de salida como : \"C\" , \"F\"  o \"K\"   \\n')\n",
    "                \n",
    "        else:\n",
    "            print(f'Seleccione las unidades entrada como : \"C\" , \"F\"  o \"K\"   \\n')\n",
    "        \n",
    "        print(f' {temperatura_entrada}{unidades} equivalen a {temperatura}{unidades_salida}')\n",
    "\n",
    "\n",
    "    #------------------------------------------------------------------------------------------\n",
    "    def factorial (self, num : int) :\n",
    "        '''\n",
    "        Calcula el factorial de un numero\n",
    "        num : numero entero mayor o igual a 1, (no strting, no float)\n",
    "        '''\n",
    "        x = num\n",
    "        i = x\n",
    "        if type(num) == int :\n",
    "            if num > 0 :\n",
    "                while i > 2:\n",
    "                    x = x *(i-1)\n",
    "                    #print('En el paso' , i , ' x ', i-1 ,'el factorial es ', x )\n",
    "                    i -= 1\n",
    "                print(f'El factorial de  {num}  es  {x}' ) # usar memlayout.com para ver el paso a paso de las salidas del codigo\n",
    "        \n"
   ]
  },
  {
   "attachments": {},
   "cell_type": "markdown",
   "metadata": {},
   "source": [
    "6) Probar las funciones incorporadas en la clase del punto 5"
   ]
  },
  {
   "cell_type": "code",
   "execution_count": 99,
   "metadata": {},
   "outputs": [
    {
     "name": "stdout",
     "output_type": "stream",
     "text": [
      "\n",
      " ---Evalua si es primo\n",
      "8 es primo : False\n",
      "\n",
      " ---Identifica la moda\n",
      "La moda es 1 con una frecuencia de 4\n",
      "\n",
      " ---Convierte una temperatura a otra metrica\n",
      " 8°F equivalen a -13.333333333333334°C\n",
      "\n",
      " ---Halla el factorial de un numero\n",
      "El factorial de  8  es  40320\n"
     ]
    }
   ],
   "source": [
    "# funcionamiento de la clase para las funciones originales\n",
    "op = Operaciones_M7()\n",
    "x = 8\n",
    "datos = [ 1 , 1 , 1 , 1 , 9 , 9 , 9 ,   8 , 8 ,   8]\n",
    "\n",
    "print(f'\\n ---Evalua si es primo')\n",
    "op.evalua_primo(x)\n",
    "\n",
    "print(f'\\n ---Identifica la moda')\n",
    "op.modas_preCourse(datos)\n",
    "\n",
    "print(f'\\n ---Convierte una temperatura a otra metrica')\n",
    "op.convertidor_temperatura('F', x, 'c')\n",
    "\n",
    "print(f'\\n ---Halla el factorial de un numero')\n",
    "op.factorial(x)\n",
    "\n",
    "\n"
   ]
  },
  {
   "attachments": {},
   "cell_type": "markdown",
   "metadata": {},
   "source": [
    "7) Es necesario que la clase creada en el punto 5 contenga una lista, sobre la cual se apliquen las funciones incorporadas"
   ]
  },
  {
   "cell_type": "code",
   "execution_count": 5,
   "metadata": {},
   "outputs": [],
   "source": [
    "class Operaciones_M7_lista: #recopilacion de funciones desarrolladas en M7 - opera sobre una lista de numeros\n",
    "    def __init__(self, lista_x) :\n",
    "        self.lista_x = lista_x\n",
    "        pass\n",
    "    \n",
    "\n",
    "    def evalua_primo (self) :\n",
    "        for elemento in self.lista_x :\n",
    "           self.__evalua_primo(elemento) == True \n",
    "\n",
    "    \n",
    "    \n",
    "    def convertidor_temperatura(self, unidades_entrada , unidades_salida) :\n",
    "        for elemento in self.lista_x :\n",
    "            self.__convertidor_temperatura (  unidades_entrada , elemento,  unidades_salida )# tengo duda sobre los parametros de entrada (unidades)\n",
    "\n",
    "\n",
    "\n",
    "    def factorial (self) :\n",
    "        for elemento in self.lista_x :\n",
    "            self.__factorial(elemento)\n",
    "            \n",
    "\n",
    "\n",
    "    #------------------------------------------------------------------------------------------\n",
    "    def __evalua_primo(self, x:int):\n",
    "        numero_primo = True\n",
    "        for i in range(2, x): # Evalua hasta x-1, excluyendo el 2\n",
    "            #print(i)\n",
    "            if x % i == 0:\n",
    "                numero_primo = False\n",
    "                break # si encuetra un divisor se detiene el for\n",
    "        #return numero_primo\n",
    "        print(f'{x} es primo : {numero_primo}')\n",
    "\n",
    "    #------------------------------------------------------------------------------------------\n",
    "    def modas_preCourse (self, lista_x):\n",
    "\n",
    "        valores = []\n",
    "        frecuencia = []\n",
    "\n",
    "        # Armar los vectores de: Datos unicos y frecuencias\n",
    "        for elemento in lista_x:\n",
    "            if elemento in valores :\n",
    "            \n",
    "                i = valores.index(elemento) # tomar en cuenta la posicion del elemento en el vector valores\n",
    "                frecuencia[i] += 1\n",
    "            \n",
    "            else :\n",
    "                frecuencia.append(1)\n",
    "                valores.append(elemento)\n",
    "\n",
    "        #print(F'Vector de elementos unicos {valores}')\n",
    "        #print(F'Vector de Frecuencia {frecuencia}\\n')    \n",
    "\n",
    "        #Halla la moda y su frecuencia\n",
    "        moda = valores [0] # es el valor de la posicion 0 de Valores. por que\n",
    "        maxima_frecuencia = frecuencia[0]  # es el valor de la posicion 0 de Valores. por que\n",
    "\n",
    "        modas = []\n",
    "        for i in range(0 , len(valores)):\n",
    "            if frecuencia[i] >= maxima_frecuencia: # cuando esto no se da, va a la siguiente i\n",
    "                #print (f'Antes de la desicion la moda es {moda} con una frecuencia de {maxima_frecuencia}')\n",
    "                moda = valores[i]\n",
    "                modas.append(moda)\n",
    "                maxima_frecuencia = frecuencia[i]\n",
    "                #maxima_moda = valores[0]\n",
    "        #print (f'Las modas son {modas} con una frecuencia de {maxima_frecuencia}')        \n",
    "\n",
    "\n",
    "        # Selecciona el mayor entre dos numeros\n",
    "        maxima_moda = 0\n",
    "        \n",
    "        # Selecciona el mayor entre dos numeros\n",
    "        if len(modas)>=2:\n",
    "            for i in modas :\n",
    "                \n",
    "                if i > maxima_moda:\n",
    "                    \n",
    "                    moda = i\n",
    "                    maxima_moda = moda\n",
    "                else :\n",
    "                    moda = maxima_moda\n",
    "            print(f'La moda con mayor valor es {moda}')\n",
    "\n",
    "\n",
    "        else : \n",
    "            print (f'La moda es {moda} con una frecuencia de {maxima_frecuencia}')\n",
    "\n",
    "    #------------------------------------------------------------------------------------------\n",
    "    def __convertidor_temperatura (self, unidades_entrada: str, temperatura_entrada, unidades_salida: str ) :\n",
    "\n",
    "        unidadess = unidades_entrada.upper()\n",
    "        unidades ='°'+ unidadess\n",
    "\n",
    "        unidades_salidas = unidades_salida.upper()\n",
    "        unidades_salida  ='°'+ unidades_salidas\n",
    "        \n",
    "        #print(f'Las unidades de la temperatura {unidades} se transforman a {unidades_salida}')\n",
    "\n",
    "        temperatura_C = int(temperatura_entrada)\n",
    "        temperatura_F = int(temperatura_entrada)\n",
    "        temperatura_K = int(temperatura_entrada)\n",
    "\n",
    "        if unidades == unidades_salida :\n",
    "            print(f'{temperatura_entrada} {unidades}  equivale a {temperatura_entrada} {unidades} ' )\n",
    "        \n",
    "        elif unidades == \"°C\" :\n",
    "            \n",
    "            if unidades_salida == \"°F\":\n",
    "                temperatura = (((temperatura_C * 9)/5) + 32)\n",
    "                #print(f'{temperatura_C} {unidades}  equivale a {temperatura_F} °F' )\n",
    "            \n",
    "            elif unidades_salida == \"°K\" :\n",
    "                temperatura = int((temperatura_C + 273.15))\n",
    "\n",
    "            else :\n",
    "                print(f'Indique las unidades de salida como : \"C\" , \"F\"  o \"K\"   \\n')\n",
    "        \n",
    "\n",
    "        elif unidades == \"°F\" :\n",
    "\n",
    "            if unidades_salida == \"°C\":\n",
    "                temperatura = (((temperatura_F -32 ) * 5)/9)\n",
    "\n",
    "            elif unidades_salida == \"°K\" :\n",
    "                temperatura = int((temperatura_F -32)*5/9 + 273.15)\n",
    "\n",
    "            else :\n",
    "                print(f'Indique las unidades de salida como : \"C\" , \"F\"  o \"K\"   \\n')\n",
    "            \n",
    "        elif unidades == \"°K\" :\n",
    "            \n",
    "            if unidades_salida == \"°F\" :    \n",
    "                temperatura = ((((temperatura_K - 273.15 ) * 9/5) + 32))\n",
    "\n",
    "            \n",
    "            elif unidades_salida == \"°C\":\n",
    "                temperatura = int(temperatura_K - 273.15)\n",
    "\n",
    "            else :\n",
    "                print(f'Indique las unidades de salida como : \"C\" , \"F\"  o \"K\"   \\n')\n",
    "                \n",
    "        else:\n",
    "            print(f'Seleccione las unidades entrada como : \"C\" , \"F\"  o \"K\"   \\n')\n",
    "        \n",
    "        print(f' {temperatura_entrada}{unidades} equivalen a {temperatura}{unidades_salida}')\n",
    "        \n",
    "        #return f' {temperatura_entrada}{unidades} equivalen a {temperatura}{unidades_salida}'\n",
    "\n",
    "\n",
    "    #------------------------------------------------------------------------------------------\n",
    "    def __factorial (self, num : int) :\n",
    "        '''\n",
    "        Calcula el factorial de un numero\n",
    "        num : numero entero mayor o igual a 1, (no strting, no float)\n",
    "        '''\n",
    "        x = num\n",
    "        i = x\n",
    "        if type(num) == int :\n",
    "            if num > 0 :\n",
    "                while i > 2:\n",
    "                    x = x *(i-1)\n",
    "                    #print('En el paso' , i , ' x ', i-1 ,'el factorial es ', x )\n",
    "                    i -= 1\n",
    "                print(f'El factorial de  {num}  es  {x}' ) # \n",
    "                #return f'El factorial de  {num}  es  {x}'\n",
    "        else : \n",
    "            #return f'Error, ingrese un numero entero mayor a 1'\n",
    "            print(f'Error, ingrese un numero entero mayor a 1')\n",
    "        \n"
   ]
  },
  {
   "cell_type": "code",
   "execution_count": 8,
   "metadata": {},
   "outputs": [
    {
     "name": "stdout",
     "output_type": "stream",
     "text": [
      "\n",
      " --- Evalua si es primo\n",
      "\n",
      " --- Identifica la moda\n",
      "\n",
      " --- Convierte una temperatura a otra metrica\n",
      "\n",
      " --- Halla el factorial de un numero\n",
      "El factorial de  4  es  24\n",
      "El factorial de  3  es  6\n",
      "El factorial de  4  es  24\n",
      "El factorial de  5  es  120\n",
      "El factorial de  6  es  720\n",
      "El factorial de  7  es  5040\n",
      "El factorial de  7  es  5040\n",
      "El factorial de  8  es  40320\n",
      "El factorial de  8  es  40320\n",
      "El factorial de  8  es  40320\n",
      "El factorial de  8  es  40320\n",
      "El factorial de  8  es  40320\n"
     ]
    }
   ],
   "source": [
    "# Funcionamiento de la clase para las funciones evaluadas en un lista de numeros em el mismo Scrit\n",
    "\n",
    "lista =  [4 , 3 , 4 , 5 , 6 , 7 , 7 , 8 , 8 , 8 , 8 , 8]\n",
    "\n",
    "pb = Operaciones_M7_lista(lista)\n",
    "\n",
    "print(f'\\n --- Evalua si es primo')\n",
    "#pb.evalua_primo()\n",
    "\n",
    "print(f'\\n --- Identifica la moda')\n",
    "#pb.modas_preCourse(lista)\n",
    "\n",
    "print(f'\\n --- Convierte una temperatura a otra metrica')\n",
    "#pb.convertidor_temperatura('F' , 'C')\n",
    "\n",
    "print(f'\\n --- Halla el factorial de un numero')\n",
    "pb.factorial()\n",
    "\n",
    "\n"
   ]
  },
  {
   "attachments": {},
   "cell_type": "markdown",
   "metadata": {},
   "source": [
    "8) Crear un archivo .py aparte y ubicar allí la clase generada en el punto anterior. Luego realizar la importación del módulo y probar alguna de sus funciones"
   ]
  },
  {
   "cell_type": "code",
   "execution_count": 9,
   "metadata": {},
   "outputs": [
    {
     "name": "stdout",
     "output_type": "stream",
     "text": [
      "4 es primo : False\n",
      "5 es primo : True\n",
      "4 es primo : False\n",
      "5 es primo : True\n",
      "6 es primo : False\n",
      "1 es primo : True\n",
      "None\n"
     ]
    }
   ],
   "source": [
    "# Se crea el archivo \"metodos_math_preCourse.py\" se renombre la Clase como \"Operaciones_PreCurso_SoyHenr\"\n",
    "import metodos_math_preCourse as met\n",
    "\n",
    "lista = [ 4 , 5 , 4 , 5 , 6 , 1]\n",
    "bb = met.Operaciones_PreCurso_SoyHenry(lista)\n",
    "bb_primo = bb.evalua_primo()\n",
    "print(bb_primo)\n"
   ]
  },
  {
   "cell_type": "code",
   "execution_count": 10,
   "metadata": {},
   "outputs": [
    {
     "name": "stdout",
     "output_type": "stream",
     "text": [
      "La moda con mayor valor es 5\n",
      "None\n"
     ]
    }
   ],
   "source": [
    "bb_resultado = bb.modas_preCourse(lista)\n",
    "print(bb_resultado )"
   ]
  },
  {
   "cell_type": "code",
   "execution_count": 12,
   "metadata": {},
   "outputs": [
    {
     "name": "stdout",
     "output_type": "stream",
     "text": [
      " 4°F equivalen a -15.555555555555555°C\n",
      " 5°F equivalen a -15.0°C\n",
      " 4°F equivalen a -15.555555555555555°C\n",
      " 5°F equivalen a -15.0°C\n",
      " 6°F equivalen a -14.444444444444445°C\n",
      " 1°F equivalen a -17.22222222222222°C\n",
      "None\n"
     ]
    }
   ],
   "source": [
    "bb_resultado  = bb.convertidor_temperatura('f', 'c')\n",
    "print(bb_resultado )"
   ]
  },
  {
   "cell_type": "code",
   "execution_count": 14,
   "metadata": {},
   "outputs": [
    {
     "name": "stdout",
     "output_type": "stream",
     "text": [
      "El factorial de  4  es  24\n",
      "El factorial de  5  es  120\n",
      "El factorial de  4  es  24\n",
      "El factorial de  5  es  120\n",
      "El factorial de  6  es  720\n",
      "El factorial de  1  es  1\n",
      "None\n"
     ]
    }
   ],
   "source": [
    "bb_resultado  = bb.factorial()\n",
    "print(bb_resultado )"
   ]
  },
  {
   "cell_type": "markdown",
   "metadata": {},
   "source": [
    "OTROS EJERCICIOS DIR- SYS.PACH"
   ]
  },
  {
   "cell_type": "code",
   "execution_count": 4,
   "metadata": {},
   "outputs": [
    {
     "name": "stdout",
     "output_type": "stream",
     "text": [
      "['c:\\\\LILIANA PORTATIL hP 2023\\\\TRABAJO\\\\SoyHenry\\\\Pre-Course\\\\M08_clasesyOOP', 'c:\\\\Users\\\\USUARIO\\\\AppData\\\\Local\\\\Programs\\\\Python\\\\Python312\\\\python312.zip', 'c:\\\\Users\\\\USUARIO\\\\AppData\\\\Local\\\\Programs\\\\Python\\\\Python312\\\\DLLs', 'c:\\\\Users\\\\USUARIO\\\\AppData\\\\Local\\\\Programs\\\\Python\\\\Python312\\\\Lib', 'c:\\\\Users\\\\USUARIO\\\\AppData\\\\Local\\\\Programs\\\\Python\\\\Python312', '', 'C:\\\\Users\\\\USUARIO\\\\AppData\\\\Roaming\\\\Python\\\\Python312\\\\site-packages', 'C:\\\\Users\\\\USUARIO\\\\AppData\\\\Roaming\\\\Python\\\\Python312\\\\site-packages\\\\win32', 'C:\\\\Users\\\\USUARIO\\\\AppData\\\\Roaming\\\\Python\\\\Python312\\\\site-packages\\\\win32\\\\lib', 'C:\\\\Users\\\\USUARIO\\\\AppData\\\\Roaming\\\\Python\\\\Python312\\\\site-packages\\\\Pythonwin', 'c:\\\\Users\\\\USUARIO\\\\AppData\\\\Local\\\\Programs\\\\Python\\\\Python312\\\\Lib\\\\site-packages']\n"
     ]
    }
   ],
   "source": [
    "#modulos y sys.path\n",
    "#sys.pact es una lista de rutas para buscar modulos\n",
    "# que hay en sys.path\n",
    "\n",
    "import sys\n",
    "print(sys.path)"
   ]
  },
  {
   "cell_type": "code",
   "execution_count": 6,
   "metadata": {},
   "outputs": [
    {
     "name": "stdout",
     "output_type": "stream",
     "text": [
      "El factorial de  4  es  24\n",
      "El factorial de  5  es  120\n",
      "El factorial de  4  es  24\n",
      "El factorial de  5  es  120\n",
      "El factorial de  6  es  720\n",
      "El factorial de  1  es  1\n",
      "None\n"
     ]
    }
   ],
   "source": [
    "\n",
    "import metodos_math_preCourse  as met\n",
    "\n",
    "lista = [ 4 , 5 , 4 , 5 , 6 , 1]\n",
    "\n",
    "bb = met.Operaciones_PreCurso_SoyHenry(lista)\n",
    "\n",
    "bb_resultado  = bb.factorial()\n",
    "print(bb_resultado )\n"
   ]
  },
  {
   "cell_type": "code",
   "execution_count": 3,
   "metadata": {},
   "outputs": [],
   "source": [
    "# importar el modulo desde otra direccion\n",
    "# 1. agregar la direcion a mi SYS\n",
    "import sys\n",
    "sys.path.append(r'C:/Users/USUARIO/OneDrive/Escritorio/metodos_math_preCourse')\n",
    "\n"
   ]
  },
  {
   "cell_type": "code",
   "execution_count": 5,
   "metadata": {},
   "outputs": [
    {
     "name": "stdout",
     "output_type": "stream",
     "text": [
      "['c:\\\\LILIANA PORTATIL hP 2023\\\\TRABAJO\\\\SoyHenry\\\\Pre-Course\\\\M08_clasesyOOP', 'c:\\\\Users\\\\USUARIO\\\\AppData\\\\Local\\\\Programs\\\\Python\\\\Python312\\\\python312.zip', 'c:\\\\Users\\\\USUARIO\\\\AppData\\\\Local\\\\Programs\\\\Python\\\\Python312\\\\DLLs', 'c:\\\\Users\\\\USUARIO\\\\AppData\\\\Local\\\\Programs\\\\Python\\\\Python312\\\\Lib', 'c:\\\\Users\\\\USUARIO\\\\AppData\\\\Local\\\\Programs\\\\Python\\\\Python312', '', 'C:\\\\Users\\\\USUARIO\\\\AppData\\\\Roaming\\\\Python\\\\Python312\\\\site-packages', 'C:\\\\Users\\\\USUARIO\\\\AppData\\\\Roaming\\\\Python\\\\Python312\\\\site-packages\\\\win32', 'C:\\\\Users\\\\USUARIO\\\\AppData\\\\Roaming\\\\Python\\\\Python312\\\\site-packages\\\\win32\\\\lib', 'C:\\\\Users\\\\USUARIO\\\\AppData\\\\Roaming\\\\Python\\\\Python312\\\\site-packages\\\\Pythonwin', 'c:\\\\Users\\\\USUARIO\\\\AppData\\\\Local\\\\Programs\\\\Python\\\\Python312\\\\Lib\\\\site-packages', 'C:/Users/USUARIO/OneDrive/Escritorio/metodos_math_preCourse', 'C:/Users/USUARIO/OneDrive/Escritorio/metodos_math_preCourse']\n"
     ]
    }
   ],
   "source": [
    "print(sys.path)"
   ]
  },
  {
   "cell_type": "code",
   "execution_count": 6,
   "metadata": {},
   "outputs": [
    {
     "name": "stdout",
     "output_type": "stream",
     "text": [
      "El factorial de  4  es  24\n",
      "El factorial de  5  es  120\n",
      "El factorial de  4  es  24\n",
      "El factorial de  5  es  120\n",
      "El factorial de  6  es  720\n",
      "El factorial de  1  es  1\n",
      "None\n"
     ]
    }
   ],
   "source": [
    "# 2. importar el modulo desde la nueva direccion\n",
    "import metodos_math_preCourse  as met2\n",
    "\n",
    "lista = [ 4 , 5 , 4 , 5 , 6 , 1]\n",
    "\n",
    "bb = met2.Operaciones_PreCurso_SoyHenry(lista)\n",
    "\n",
    "bb_resultado  = bb.factorial()\n",
    "print(bb_resultado )"
   ]
  },
  {
   "cell_type": "code",
   "execution_count": 6,
   "metadata": {},
   "outputs": [
    {
     "name": "stdout",
     "output_type": "stream",
     "text": [
      "['In', 'Operaciones_M7_lista', 'Out', '_', '__', '___', '__builtin__', '__builtins__', '__doc__', '__loader__', '__name__', '__package__', '__spec__', '__vsc_ipynb_file__', '_dh', '_i', '_i1', '_i2', '_i3', '_i4', '_i5', '_i6', '_ih', '_ii', '_iii', '_oh', 'exit', 'get_ipython', 'open', 'quit']\n"
     ]
    }
   ],
   "source": [
    "print(dir())"
   ]
  },
  {
   "cell_type": "code",
   "execution_count": 3,
   "metadata": {},
   "outputs": [
    {
     "name": "stdout",
     "output_type": "stream",
     "text": [
      "Automatically created module for IPython interactive environment\n"
     ]
    }
   ],
   "source": [
    "print(__doc__)"
   ]
  },
  {
   "cell_type": "code",
   "execution_count": 7,
   "metadata": {},
   "outputs": [
    {
     "name": "stdout",
     "output_type": "stream",
     "text": [
      "['In', 'Operaciones_M7_lista', 'Out', '_', '__', '___', '__builtin__', '__builtins__', '__doc__', '__loader__', '__name__', '__package__', '__spec__', '__vsc_ipynb_file__', '_dh', '_i', '_i1', '_i2', '_i3', '_i4', '_i5', '_i6', '_i7', '_ih', '_ii', '_iii', '_oh', 'exit', 'get_ipython', 'metodos_math_preCourse', 'open', 'quit']\n"
     ]
    }
   ],
   "source": [
    "import metodos_math_preCourse\n",
    "print(dir())"
   ]
  }
 ],
 "metadata": {
  "interpreter": {
   "hash": "c85384e4cb51c8b72350f3a8712cc8351fdc3955e32a27f9b60c6242ab125f01"
  },
  "kernelspec": {
   "display_name": "Python 3 (ipykernel)",
   "language": "python",
   "name": "python3"
  },
  "language_info": {
   "codemirror_mode": {
    "name": "ipython",
    "version": 3
   },
   "file_extension": ".py",
   "mimetype": "text/x-python",
   "name": "python",
   "nbconvert_exporter": "python",
   "pygments_lexer": "ipython3",
   "version": "3.12.2"
  }
 },
 "nbformat": 4,
 "nbformat_minor": 4
}
