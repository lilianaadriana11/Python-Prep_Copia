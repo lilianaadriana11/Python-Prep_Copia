{
 "cells": [
  {
   "attachments": {},
   "cell_type": "markdown",
   "metadata": {},
   "source": [
    "## Flujos de Control"
   ]
  },
  {
   "attachments": {},
   "cell_type": "markdown",
   "metadata": {},
   "source": [
    "1) Crear una variable que contenga un elemento del conjunto de números enteros y luego imprimir por pantalla si es mayor o menor a cero"
   ]
  },
  {
   "cell_type": "code",
   "execution_count": 5,
   "metadata": {},
   "outputs": [
    {
     "name": "stdout",
     "output_type": "stream",
     "text": [
      "x es menor a 0\n"
     ]
    }
   ],
   "source": [
    "x = -2\n",
    "\n",
    "if x > 0:\n",
    "    print( 'x es mayor a 0')\n",
    "else:\n",
    "    print( 'x es menor a 0')"
   ]
  },
  {
   "attachments": {},
   "cell_type": "markdown",
   "metadata": {},
   "source": [
    "2) Crear dos variables y un condicional que informe si son del mismo tipo de dato"
   ]
  },
  {
   "cell_type": "code",
   "execution_count": 7,
   "metadata": {},
   "outputs": [
    {
     "name": "stdout",
     "output_type": "stream",
     "text": [
      "x1 y X2 tiene diferentes formato de dato\n"
     ]
    }
   ],
   "source": [
    "x1 = \"2\"\n",
    "x2 = 2\n",
    "\n",
    "if type(x1) == type(x2):\n",
    "    print( 'x1 y X2 tiene el mismo formato de dato')\n",
    "else :\n",
    "        print( 'x1 y X2 tiene diferentes formato de dato')\n"
   ]
  },
  {
   "attachments": {},
   "cell_type": "markdown",
   "metadata": {},
   "source": [
    "3) Para los valores enteros del 1 al 20, imprimir por pantalla si es par o impar"
   ]
  },
  {
   "cell_type": "code",
   "execution_count": 12,
   "metadata": {},
   "outputs": [
    {
     "name": "stdout",
     "output_type": "stream",
     "text": [
      "el numero analizado  1 es impar\n",
      "el numero analizado  2 es par\n",
      "el numero analizado  3 es impar\n",
      "el numero analizado  4 es par\n",
      "el numero analizado  5 es impar\n",
      "el numero analizado  6 es par\n",
      "el numero analizado  7 es impar\n",
      "el numero analizado  8 es par\n",
      "el numero analizado  9 es impar\n",
      "el numero analizado  10 es par\n",
      "el numero analizado  11 es impar\n",
      "el numero analizado  12 es par\n",
      "el numero analizado  13 es impar\n",
      "el numero analizado  14 es par\n",
      "el numero analizado  15 es impar\n",
      "el numero analizado  16 es par\n",
      "el numero analizado  17 es impar\n",
      "el numero analizado  18 es par\n",
      "el numero analizado  19 es impar\n",
      "el numero analizado  20 es par\n"
     ]
    }
   ],
   "source": [
    "x = 0\n",
    "for i in range (0,20):\n",
    "    x=i+1\n",
    "    if x%2 == 0:\n",
    "        print(\"el numero analizado \", x,'es par' )\n",
    "    else: \n",
    "         print(\"el numero analizado \", x,'es impar' )\n",
    "    \n"
   ]
  },
  {
   "attachments": {},
   "cell_type": "markdown",
   "metadata": {},
   "source": [
    "4) En un ciclo for mostrar para los valores entre 0 y 5 el resultado de elevarlo a la potencia igual a 3"
   ]
  },
  {
   "cell_type": "code",
   "execution_count": 15,
   "metadata": {},
   "outputs": [
    {
     "name": "stdout",
     "output_type": "stream",
     "text": [
      "El resultado de  0 a la 3 es 0\n",
      "El resultado de  1 a la 3 es 1\n",
      "El resultado de  2 a la 3 es 8\n",
      "El resultado de  3 a la 3 es 27\n",
      "El resultado de  4 a la 3 es 64\n",
      "El resultado de  5 a la 3 es 125\n"
     ]
    }
   ],
   "source": [
    "x = 0\n",
    "for i in range(0 , 6):\n",
    "    #print('x es ', i)\n",
    "    x = i**3\n",
    "    print('El resultado de ', i, 'a la 3 es', x)\n",
    "    x = x+1\n",
    "\n"
   ]
  },
  {
   "attachments": {},
   "cell_type": "markdown",
   "metadata": {},
   "source": [
    "5) Crear una variable que contenga un número entero y realizar un ciclo for la misma cantidad de ciclos"
   ]
  },
  {
   "cell_type": "code",
   "execution_count": 53,
   "metadata": {},
   "outputs": [
    {
     "name": "stdout",
     "output_type": "stream",
     "text": [
      "Ciclo 1 de for\n",
      "Ciclo 2 de for\n",
      "Ciclo 3 de for\n",
      "Ciclo 4 de for\n",
      "Ciclo 5 de for\n"
     ]
    }
   ],
   "source": [
    "x = 5\n",
    "for i in range(1, x+1):\n",
    "    print('Ciclo' , i, 'de for')\n",
    "    x=x+1\n"
   ]
  },
  {
   "attachments": {},
   "cell_type": "markdown",
   "metadata": {},
   "source": [
    "6) Utilizar un ciclo while para realizar el factorial de un número guardado en una variable, sólo si la variable contiene un número entero mayor a 0"
   ]
  },
  {
   "cell_type": "code",
   "execution_count": 23,
   "metadata": {},
   "outputs": [
    {
     "name": "stdout",
     "output_type": "stream",
     "text": [
      "Paso  1 del ciclo while\n",
      "Paso  2 del ciclo while\n",
      "Paso  3 del ciclo while\n",
      "Paso  4 del ciclo while\n",
      "Paso  5 del ciclo while\n",
      "Paso  6 del ciclo while\n"
     ]
    }
   ],
   "source": [
    "\n",
    "# el bucle While repite una accion siempre que su condicion sea verdadera\n",
    "x = 1 # comienza el ciclo en 1\n",
    "while x <= 6:\n",
    "    print('Paso ', x , 'del ciclo while')\n",
    "    x=x+1\n"
   ]
  },
  {
   "cell_type": "code",
   "execution_count": 30,
   "metadata": {},
   "outputs": [
    {
     "name": "stdout",
     "output_type": "stream",
     "text": [
      "El factorial de  6 es  720\n"
     ]
    }
   ],
   "source": [
    "# \n",
    "num = 6\n",
    "x = num \n",
    "i = x\n",
    "while i > 2:\n",
    "    x = x *( i-1)\n",
    "    #print('En el paso' , i , 'x ',i-1 ,'el factorial es ', x )\n",
    "    i -= 1\n",
    "print('El factorial de ' , num ,'es ', x )    "
   ]
  },
  {
   "cell_type": "code",
   "execution_count": 33,
   "metadata": {},
   "outputs": [
    {
     "name": "stdout",
     "output_type": "stream",
     "text": [
      "El factorial de  5 es  120\n"
     ]
    }
   ],
   "source": [
    "num = 5\n",
    "x = num\n",
    "i = x\n",
    "if type(num) == int:\n",
    "    if num > 0 :\n",
    "        while i > 2:\n",
    "            x = x *(i-1)\n",
    "            #print('En el paso' , i , ' x ', i-1 ,'el factorial es ', x )\n",
    "            i -= 1\n",
    "        print(f'El factorial de  {num}  es  {x}' ) # usar memlayout.com para ver el paso a paso de las salidas del codigo        "
   ]
  },
  {
   "attachments": {},
   "cell_type": "markdown",
   "metadata": {},
   "source": [
    "7) Crear un ciclo for dentro de un ciclo while"
   ]
  },
  {
   "cell_type": "code",
   "execution_count": 34,
   "metadata": {},
   "outputs": [
    {
     "name": "stdout",
     "output_type": "stream",
     "text": [
      "Ciclo 1 de while\n",
      "Ciclo 1 de 1 del for\n",
      "Ciclo 2 de while\n",
      "Ciclo 1 de 2 del for\n",
      "Ciclo 2 de 2 del for\n",
      "Ciclo 3 de while\n",
      "Ciclo 1 de 3 del for\n",
      "Ciclo 2 de 3 del for\n",
      "Ciclo 3 de 3 del for\n",
      "Ciclo 4 de while\n",
      "Ciclo 1 de 4 del for\n",
      "Ciclo 2 de 4 del for\n",
      "Ciclo 3 de 4 del for\n",
      "Ciclo 4 de 4 del for\n",
      "Ciclo 5 de while\n",
      "Ciclo 1 de 5 del for\n",
      "Ciclo 2 de 5 del for\n",
      "Ciclo 3 de 5 del for\n",
      "Ciclo 4 de 5 del for\n",
      "Ciclo 5 de 5 del for\n"
     ]
    }
   ],
   "source": [
    "# Hace tantos ciclos for como While\n",
    "\n",
    "x=1\n",
    "while x <= 5:\n",
    "    print( 'Ciclo' , x ,'de while')\n",
    "    for i in range(1, x+1):\n",
    "        print('Ciclo' , i, 'de', x,'del for')\n",
    "        #i=i+1\n",
    "    x=x+1\n",
    "\n"
   ]
  },
  {
   "attachments": {},
   "cell_type": "markdown",
   "metadata": {},
   "source": [
    "8) Crear un ciclo while dentro de un ciclo for"
   ]
  },
  {
   "cell_type": "code",
   "execution_count": 87,
   "metadata": {},
   "outputs": [
    {
     "name": "stdout",
     "output_type": "stream",
     "text": [
      "el numero analizado  2 es par\n",
      "el numero analizado  4 es par\n",
      "el numero analizado  6 es par\n"
     ]
    }
   ],
   "source": [
    "x = 6\n",
    "for i in range (0,x+1):\n",
    "    #print(\"el numero analizado \", i )\n",
    "    while i > 1 and i%2 == 0:\n",
    "        print(\"el numero analizado \", i, 'es par' )\n",
    "        i+=1\n",
    "\n",
    "\n",
    "\n",
    "  "
   ]
  },
  {
   "attachments": {},
   "cell_type": "markdown",
   "metadata": {},
   "source": [
    "9) Imprimir los números primos existentes entre 0 y 30"
   ]
  },
  {
   "cell_type": "code",
   "execution_count": 12,
   "metadata": {},
   "outputs": [
    {
     "name": "stdout",
     "output_type": "stream",
     "text": [
      " 2 es True\n",
      " 3 es True\n",
      " 5 es True\n",
      " 7 es True\n"
     ]
    }
   ],
   "source": [
    "# saber si es primo\n",
    "numero = 0\n",
    "x = 1\n",
    "limite = 10\n",
    "while x < limite+1:\n",
    "    for i in range (2, x):\n",
    "        if x == 2 :\n",
    "            #print (f'{x} es primo')\n",
    "            numero =True\n",
    "        elif x % i != 0 :\n",
    "            #print (f'{x} es primo no es divisible por {i} ')\n",
    "            True\n",
    "        else :\n",
    "            #print (f'{x} No es primo, es divisible por {i}')\n",
    "            numero =False\n",
    "            \n",
    "\n",
    "    if numero  :\n",
    "        print(f' {x} es {numero}')\n",
    "    else: \n",
    "        numero = True\n",
    "    x+=1\n"
   ]
  },
  {
   "attachments": {},
   "cell_type": "markdown",
   "metadata": {},
   "source": [
    "10) ¿Se puede mejorar el proceso del punto 9? Utilizar las sentencias break y/ó continue para tal fin"
   ]
  },
  {
   "cell_type": "code",
   "execution_count": 39,
   "metadata": {},
   "outputs": [
    {
     "name": "stdout",
     "output_type": "stream",
     "text": [
      "1 es : True\n",
      "2 es : True\n",
      "3 es : True\n",
      "5 es : True\n"
     ]
    }
   ],
   "source": [
    "#Imprime los números primos  entre 1 y 30\n",
    "# Se sabe la condicion para que no sean primos, entonces\n",
    "#Se asume que todos son primos y luego se cambian los numeros que no son primos\n",
    "#rango de analisis (1 , 30)\n",
    "numero = True\n",
    "x = 1\n",
    "limite = 6\n",
    "while x < limite:\n",
    "    #print (x)\n",
    "    # declarar el vector de divisores entre el rando de analisis\n",
    "    for i in range (2, x):\n",
    "        #print(numero, 'es :  ', x , 'es' , i)\n",
    "        if x % i == 0:\n",
    "            numero = False\n",
    "            break\n",
    "        #print(numero , ': '  x , 'es' , i)\n",
    "    if numero :\n",
    "        print (x, 'es :', numero)\n",
    "    else: \n",
    "        numero = True\n",
    "    x += 1"
   ]
  },
  {
   "attachments": {},
   "cell_type": "markdown",
   "metadata": {},
   "source": [
    "11) En los puntos 9 y 10, se diseño un código que encuentra números primos y además se lo optimizó. ¿Es posible saber en qué medida se optimizó?"
   ]
  },
  {
   "cell_type": "code",
   "execution_count": 192,
   "metadata": {},
   "outputs": [
    {
     "name": "stdout",
     "output_type": "stream",
     "text": [
      "1 es : True\n",
      "2 es : True\n",
      "True :  el divisor de  2 es 2\n",
      "3 es : True\n",
      "True :  el divisor de  3 es 2\n",
      "True :  el divisor de  4 es 2\n",
      "True :  el divisor de  4 es 3\n",
      "True :  el divisor de  4 es 4\n",
      "5 es : True\n",
      "Cantidad de ciclos con Break: 5\n"
     ]
    }
   ],
   "source": [
    "\n",
    "# con Break\n",
    "ciclos_sin_break = 0\n",
    "numero = True\n",
    "x = 1\n",
    "limite =6\n",
    "while x < limite:\n",
    "    #print (x)\n",
    "    # declarar el vector de divisores entre el rando de analisis\n",
    "    for i in range (2, x):\n",
    "        ciclos_sin_break += 1\n",
    "        print(numero, ':  el divisor de ', x-1 , 'es' , i)\n",
    "        if x % i == 0:\n",
    "            numero = False\n",
    "            break\n",
    "        #print(numero, ':  el divisor de ', x , 'es' , i)\n",
    "    if numero :\n",
    "        print (x, 'es :', numero)\n",
    "    else: \n",
    "        numero = True\n",
    "    x += 1\n",
    "\n",
    "print('Cantidad de ciclos con Break: ' + str(ciclos_sin_break))"
   ]
  },
  {
   "attachments": {},
   "cell_type": "markdown",
   "metadata": {},
   "source": [
    "12) Si la cantidad de números que se evalúa es mayor a treinta, esa optimización crece?"
   ]
  },
  {
   "cell_type": "code",
   "execution_count": 43,
   "metadata": {},
   "outputs": [
    {
     "name": "stdout",
     "output_type": "stream",
     "text": [
      "1 es : True\n",
      "2 es : True\n",
      "3 es : True\n",
      "5 es : True\n",
      "  ==== Cantidad de ciclos sin Break: 10\n",
      "________________________________________ \n",
      "1 es : True\n",
      "2 es : True\n",
      "3 es : True\n",
      "5 es : True\n",
      "  ==== Cantidad de ciclos con Break: 6\n"
     ]
    }
   ],
   "source": [
    "\n",
    "# sin Break\n",
    "ciclos_sin_break = 0\n",
    "numero = True\n",
    "x = 1\n",
    "limite = 7\n",
    "while x < limite:\n",
    "    #print (x)\n",
    "    # declarar el vector de divisores entre el rando de analisis\n",
    "    for i in range (2, x):\n",
    "        ciclos_sin_break += 1\n",
    "        \n",
    "        #print(numero, ':  ', x-1 , 'es' , i)\n",
    "        if x % i == 0:\n",
    "            numero = False\n",
    "            \n",
    "        #print(numero, ':   ', x , 'es' , i)\n",
    "    if numero :\n",
    "        print (x, 'es :', numero)\n",
    "    else: \n",
    "        numero = True\n",
    "    x += 1\n",
    "\n",
    "print('  ==== Cantidad de ciclos sin Break: ' + str(ciclos_sin_break))\n",
    "print('________________________________________ ' )\n",
    "# con Break\n",
    "ciclos_sin_break = 0\n",
    "numero = True\n",
    "x = 1\n",
    "\n",
    "while x < limite:\n",
    "    #print (x)\n",
    "    # declarar el vector de divisores entre el rando de analisis\n",
    "    for i in range (2, x):\n",
    "        ciclos_sin_break += 1\n",
    "        #print(numero, ':  ', x-1 , 'es' , i)\n",
    "        if x % i == 0:\n",
    "            numero = False\n",
    "            break # salta el ciclo FOR cuando encuentra un divisor exacto \n",
    "        #print(numero, ':   ', x , 'es' , i)\n",
    "    if numero :\n",
    "        print (x, 'es :', numero)\n",
    "    else: \n",
    "        numero = True\n",
    "    x += 1\n",
    "\n",
    "print('  ==== Cantidad de ciclos con Break: ' + str(ciclos_sin_break))"
   ]
  },
  {
   "attachments": {},
   "cell_type": "markdown",
   "metadata": {},
   "source": [
    "13) Aplicando continue, armar un ciclo while que solo imprima los valores divisibles por 12, dentro del rango de números de 100 a 300"
   ]
  },
  {
   "cell_type": "code",
   "execution_count": 10,
   "metadata": {},
   "outputs": [
    {
     "name": "stdout",
     "output_type": "stream",
     "text": [
      "108\n",
      "120\n",
      "132\n",
      "144\n",
      "156\n",
      "168\n",
      "180\n",
      "192\n",
      "204\n",
      "216\n",
      "228\n",
      "240\n",
      "252\n",
      "264\n",
      "276\n",
      "288\n",
      "300\n"
     ]
    }
   ],
   "source": [
    "# imprima los valores divisibles por 12, dentro del rango de números de 100 a 300\n",
    "\n",
    "'''\n",
    "for i in range(100,301):\n",
    "    if i%12 ==0:\n",
    "        print(i)\n",
    "# continue encuentra que aun no se cumple la condición y sigue el algoritmo\n",
    "'''\n",
    "x = 100\n",
    "while x <= 300:\n",
    "    x+=1\n",
    "    if x % 12 !=0 :\n",
    "        continue\n",
    "    print(x)"
   ]
  },
  {
   "attachments": {},
   "cell_type": "markdown",
   "metadata": {},
   "source": [
    "14) Utilizar la función **input()** que permite hacer ingresos por teclado, para encontrar números primos y dar la opción al usario de buscar el siguiente"
   ]
  },
  {
   "cell_type": "code",
   "execution_count": 1,
   "metadata": {},
   "outputs": [],
   "source": [
    "\n",
    "#numero = True\n",
    "x = 1\n",
    "limite = int(input('¿Rango de numeros primos que quieres conseguir?'))\n",
    "while x < limite:\n",
    "    #print (x)\n",
    "    # declarar el vector de divisores entre el rando de analisis\n",
    "    for i in range (2, x):\n",
    "        #print(numero, 'es :  ', x , 'es' , i)\n",
    "        if x % i == 0:\n",
    "            numero = False\n",
    "            break\n",
    "        #print(numero , ': '  x , 'es' , i)\n",
    "    if numero :\n",
    "        print (x, 'es :', numero)\n",
    "        #siguinte = input('siguinte Primo')\n",
    "\n",
    "        #if siguinte != 'si' :\n",
    "        #    break\n",
    "    else: \n",
    "        numero = True\n",
    "    x += 1\n",
    "\n"
   ]
  },
  {
   "attachments": {},
   "cell_type": "markdown",
   "metadata": {},
   "source": [
    "15) Crear un ciclo while que encuentre dentro del rango de 100 a 300 el primer número divisible por 3 y además múltiplo de 6"
   ]
  },
  {
   "cell_type": "code",
   "execution_count": 15,
   "metadata": {},
   "outputs": [
    {
     "name": "stdout",
     "output_type": "stream",
     "text": [
      "102 es multiplo de 6 y de 3\n",
      "108 es multiplo de 6 y de 3\n",
      "114 es multiplo de 6 y de 3\n",
      "120 es multiplo de 6 y de 3\n",
      "126 es multiplo de 6 y de 3\n",
      "132 es multiplo de 6 y de 3\n",
      "138 es multiplo de 6 y de 3\n",
      "144 es multiplo de 6 y de 3\n",
      "150 es multiplo de 6 y de 3\n"
     ]
    }
   ],
   "source": [
    "i = 99\n",
    "while i <=150:\n",
    "    i+=1\n",
    "    if  i % 6 == 0 :\n",
    "        print (i, 'es multiplo de 6 y de 3')"
   ]
  }
 ],
 "metadata": {
  "interpreter": {
   "hash": "c85384e4cb51c8b72350f3a8712cc8351fdc3955e32a27f9b60c6242ab125f01"
  },
  "kernelspec": {
   "display_name": "Python 3 (ipykernel)",
   "language": "python",
   "name": "python3"
  },
  "language_info": {
   "codemirror_mode": {
    "name": "ipython",
    "version": 3
   },
   "file_extension": ".py",
   "mimetype": "text/x-python",
   "name": "python",
   "nbconvert_exporter": "python",
   "pygments_lexer": "ipython3",
   "version": "3.12.2"
  }
 },
 "nbformat": 4,
 "nbformat_minor": 4
}
