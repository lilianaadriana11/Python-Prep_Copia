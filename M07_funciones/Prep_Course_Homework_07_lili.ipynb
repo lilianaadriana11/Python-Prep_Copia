{
 "cells": [
  {
   "attachments": {},
   "cell_type": "markdown",
   "metadata": {},
   "source": [
    "## Funciones"
   ]
  },
  {
   "attachments": {},
   "cell_type": "markdown",
   "metadata": {},
   "source": [
    "1) Crear una función que reciba un número como parámetro y devuelva True si es primo y False si no lo es"
   ]
  },
  {
   "cell_type": "code",
   "execution_count": 8,
   "metadata": {},
   "outputs": [
    {
     "name": "stdout",
     "output_type": "stream",
     "text": [
      "True\n"
     ]
    }
   ],
   "source": [
    "# Funcion para saber si x es primo\n",
    "#todos son primos excepto si tienen un divisor diferenta a 1 y al número mismo\n",
    "def evalua_primo(x:int):\n",
    "    numero_primo = True\n",
    "    for i in range(2, x): # Evalua hasta x-1, excluyendo el 2\n",
    "        #print(i)\n",
    "        if x % i == 0:\n",
    "            numero_primo = False\n",
    "            break # si encuetra un duvisor se detiene el for\n",
    "    return numero_primo\n",
    "\n",
    "print(evalua_primo(7))"
   ]
  },
  {
   "attachments": {},
   "cell_type": "markdown",
   "metadata": {},
   "source": [
    "2) Utilizando la función del punto 1, realizar otra función que reciba de parámetro una lista de números y devuelva sólo aquellos que son primos en otra lista"
   ]
  },
  {
   "cell_type": "code",
   "execution_count": null,
   "metadata": {},
   "outputs": [
    {
     "name": "stdout",
     "output_type": "stream",
     "text": [
      "lista de primos es [7, 3, 2, 13]\n"
     ]
    }
   ],
   "source": [
    "lista_x = [4, 8, 7, 3, 2, 13, 20, 15]\n",
    "primos =[]\n",
    "for x in lista_x :\n",
    "    if evalua_primo(x) == True :\n",
    "        primos.append(x)\n",
    "print(f'lista de primos es {primos}' )"
   ]
  },
  {
   "cell_type": "code",
   "execution_count": 11,
   "metadata": {},
   "outputs": [
    {
     "name": "stdout",
     "output_type": "stream",
     "text": [
      "Los primos de esta lista son\n",
      "(None, [7, 3, 2, 13])\n"
     ]
    }
   ],
   "source": [
    "\n",
    "def lista_primos (lista_x:list) :\n",
    "    primos =[]\n",
    "    for x in lista_x :\n",
    "        numero_primo = True\n",
    "        for i in range(2, x): # Evalua hasta x-1, excluyendo el 2\n",
    "            #print(i)\n",
    "            if x % i == 0:\n",
    "                numero_primo = False\n",
    "                \n",
    "                break # si encuetra un duvisor se detiene el for\n",
    "        #print(f'{x} : {numero_primo}')\n",
    "        if numero_primo == True :\n",
    "            primos.append(x)\n",
    "    return print('Los primos de esta lista son') , primos\n",
    "\n",
    "\n",
    "lista_x = [4, 8, 7, 3, 2, 13, 20, 15]\n",
    "\n",
    "print(lista_primos(lista_x))"
   ]
  },
  {
   "cell_type": "code",
   "execution_count": null,
   "metadata": {},
   "outputs": [
    {
     "name": "stdout",
     "output_type": "stream",
     "text": [
      "Los primos de esta lista son\n",
      "(None, [7, 3, 2, 13])\n"
     ]
    }
   ],
   "source": [
    "\n",
    "def lista_primos (lista_x) :\n",
    "    primos =[]\n",
    "    for x in lista_x :\n",
    "        numero_primo = True\n",
    "        for i in range(2, x): # Evalua hasta x-1, excluyendo el 2\n",
    "            #print(i)\n",
    "            if x % i == 0:\n",
    "                numero_primo = False\n",
    "                \n",
    "                break # si encuetra un duvisor se detiene el for\n",
    "        #print(f'{x} : {numero_primo}')\n",
    "        if numero_primo == True :\n",
    "            primos.append(x)\n",
    "    return print('Los primos de esta lista son') , primos\n",
    "\n",
    "\n",
    "lista_x = [4, 8, 7, 3, 2, 13, 20, 15]\n",
    "print(lista_primos(lista_x))"
   ]
  },
  {
   "attachments": {},
   "cell_type": "markdown",
   "metadata": {},
   "source": [
    "3) Crear una función que al recibir una lista de números, devuelva el que más se repite y cuántas veces lo hace. Si hay más de un \"más repetido\", que devuelva cualquiera"
   ]
  },
  {
   "cell_type": "code",
   "execution_count": null,
   "metadata": {},
   "outputs": [],
   "source": [
    "lista_x = [4, 8, 7, 4, 2, 13, 4, 15]\n",
    "frecuencia = []\n",
    "for j in range(0, len(lista_x)+1):\n",
    "    num = 1\n",
    "    for i in range(j+1, len(lista_x)):\n",
    "        #print(f'{lista_x[j]} j = {j}')\n",
    "        #print(f'{lista_x[i]} i = {i}')  \n",
    "        if lista_x[j]== lista_x[i] :\n",
    "            num+=1\n",
    "        else:\n",
    "            i+=1\n",
    "    #print(f'El numero {lista_x[j]} se repute {num} veces')\n",
    "    frecuencia.append(num)\n",
    "print(frecuencia)\n",
    "\n",
    "list_frecuencia  = ([lista_x] + [frecuencia])\n",
    "print(list_frecuencia)\n",
    "\n",
    "i = 0\n",
    "x = 0\n",
    "y = 0\n",
    "print(len(list_frecuencia[0]))\n",
    "print((list_frecuencia[0]))\n",
    "print((list_frecuencia[1]))\n",
    "\n",
    "'''\n",
    "while i < len(list_frecuencia[1]):\n",
    "\n",
    "    x = list_frecuencia[1]\n",
    "    print(x , y)\n",
    "    if x > y :\n",
    "       y == x\n",
    "    \n",
    "    i+=1\n",
    "    print(f'El maximo es {x}')\n",
    "'''        \n",
    "\n",
    "  "
   ]
  },
  {
   "cell_type": "code",
   "execution_count": 247,
   "metadata": {},
   "outputs": [
    {
     "name": "stdout",
     "output_type": "stream",
     "text": [
      "5\n"
     ]
    }
   ],
   "source": [
    "# Selecciona el mayor entre dos numeros\n",
    "a = 3\n",
    "b = 5\n",
    "maximo = a\n",
    "if a > b:\n",
    "    maximo = a\n",
    "    print(a)\n",
    "else :\n",
    "    print(b)\n",
    "\n",
    "# "
   ]
  },
  {
   "cell_type": "code",
   "execution_count": 68,
   "metadata": {},
   "outputs": [
    {
     "name": "stdout",
     "output_type": "stream",
     "text": [
      "El vector de datos unicos es [24, 28, 27, 125, 22] \n",
      "El vector de frecuencias  es [2, 1, 1, 4, 1] \n",
      "\n",
      "Diccionario de unicos y frecuencias {24: 2, 28: 1, 27: 1, 125: 4, 22: 1} \n",
      "\n",
      " Compara 2 con  0 la moda es 24\n",
      "  2 tiene 2 repeticiones\n",
      " Compara 4 con  2 la moda es 24\n",
      "  4 tiene 4 repeticiones\n",
      " la moda es 22 con  4 repeticiones\n"
     ]
    }
   ],
   "source": [
    "lista_x = [24, 28, 27, 125, 22, 125, 24, 125, 125]\n",
    "#lista_x = [4, 8, 7, 4]\n",
    "x = [lista_x[0]]\n",
    "for i in range(0, len(lista_x)) :\n",
    "    for j in range(i+1, len(lista_x)) :\n",
    "        #print(f'{lista_x[i]} , {lista_x[j]}')\n",
    "        if lista_x[i] != lista_x[j] and lista_x[j] not in x :\n",
    "            x.append(lista_x[j])\n",
    "print(f'El vector de datos unicos es {x} ')\n",
    "\n",
    "#x= x[0]\n",
    "frec = []\n",
    "unico = 0\n",
    "for unico in x : \n",
    "    q=0\n",
    "    for num in lista_x :\n",
    "        #print(f' {unico}  ,  {num} ')\n",
    "        if unico == num :\n",
    "            q+=1\n",
    "            #print(f' {unico}  ,  {num} , {q} \\n')\n",
    "    frec.append(q)\n",
    "print(f'El vector de frecuencias  es {frec} \\n')\n",
    "\n",
    "x_frec = [x , frec] # Datos y frecuencia\n",
    "\n",
    "x_frec = dict(zip((x) , frec)) # Datos y frecuencia\n",
    "\n",
    "print(f'Diccionario de unicos y frecuencias {x_frec} \\n')\n",
    "maximo = 0\n",
    "moda = x[0]\n",
    "for i in x_frec:\n",
    "    if x_frec[i] > maximo :\n",
    "        print(f' Compara {x_frec[i]} con  {maximo } la moda es {moda}')\n",
    "        moda  == i\n",
    "        maximo  = x_frec[i]\n",
    "        conteo = x_frec[i]\n",
    "        print(f'  {x_frec[i]} tiene {conteo} repeticiones')\n",
    "print(f' la moda es {i} con  {conteo} repeticiones')"
   ]
  },
  {
   "cell_type": "code",
   "execution_count": 40,
   "metadata": {},
   "outputs": [
    {
     "ename": "TypeError",
     "evalue": "'int' object is not subscriptable",
     "output_type": "error",
     "traceback": [
      "\u001b[1;31m---------------------------------------------------------------------------\u001b[0m",
      "\u001b[1;31mTypeError\u001b[0m                                 Traceback (most recent call last)",
      "Cell \u001b[1;32mIn[40], line 13\u001b[0m\n\u001b[0;32m     11\u001b[0m \u001b[38;5;66;03m#Se examina cada dato unico de lista_x se van juentando en el dicionario \u001b[39;00m\n\u001b[0;32m     12\u001b[0m \u001b[38;5;28;01mif\u001b[39;00m \u001b[38;5;129;01mnot\u001b[39;00m clave \u001b[38;5;129;01min\u001b[39;00m unicos : \u001b[38;5;66;03m# si el valor aun no es una clave se da una freciencia de 1\u001b[39;00m\n\u001b[1;32m---> 13\u001b[0m     \u001b[38;5;28mprint\u001b[39m(\u001b[43munico\u001b[49m\u001b[43m[\u001b[49m\u001b[43mclave\u001b[49m\u001b[43m]\u001b[49m) \n\u001b[0;32m     15\u001b[0m \u001b[38;5;250m\u001b[39m\u001b[38;5;124;03m'''    unico[clave] = 1\u001b[39;00m\n\u001b[0;32m     16\u001b[0m \u001b[38;5;124;03melse : # si el valor ya se encuentra en el diccionario se suma 1 a la freciencia \u001b[39;00m\n\u001b[0;32m     17\u001b[0m \u001b[38;5;124;03m    unico[clave] += 1\u001b[39;00m\n\u001b[0;32m     18\u001b[0m \u001b[38;5;124;03mprint(unicos)\u001b[39;00m\n\u001b[0;32m     19\u001b[0m \u001b[38;5;124;03m'''\u001b[39;00m\n",
      "\u001b[1;31mTypeError\u001b[0m: 'int' object is not subscriptable"
     ]
    }
   ],
   "source": [
    "#INTENTAR OTRO CAMINO\n",
    "#Encontrar el numero que mas se repite\n",
    "\n",
    "lista_x = [24, 28, 27, 125, 22, 125, 24, 125, 125]\n",
    "#el numero se declara como una clave de un diccionario\n",
    "\n",
    "unicos = {}\n",
    "\n",
    "for numero in lista_x:\n",
    "    clave = str(numero)\n",
    "    #Se examina cada dato unico de lista_x se van juentando en el dicionario \n",
    "    if not clave in unicos : # si el valor aun no es una clave se da una freciencia de 1\n",
    "        print(unico[clave]) \n",
    "\n",
    "    '''    unico[clave] = 1\n",
    "    else : # si el valor ya se encuentra en el diccionario se suma 1 a la frecuencia \n",
    "        unico[clave] += 1\n",
    "    print(unicos)\n",
    "    '''\n"
   ]
  },
  {
   "attachments": {},
   "cell_type": "markdown",
   "metadata": {},
   "source": [
    "4) A la función del punto 3, agregar un parámetro más, que permita elegir si se requiere el menor o el mayor de los mas repetidos."
   ]
  },
  {
   "cell_type": "code",
   "execution_count": null,
   "metadata": {},
   "outputs": [],
   "source": []
  },
  {
   "attachments": {},
   "cell_type": "markdown",
   "metadata": {},
   "source": [
    "5) Crear una función que convierta entre grados Celsius, Farenheit y Kelvin<br>\n",
    "Fórmula 1\t: (°C × 9/5) + 32 = °F<br>\n",
    "Fórmula 2\t: °C + 273.15 = °K<br>\n",
    "Debe recibir 3 parámetros: el valor, la medida de orígen y la medida de destino\n"
   ]
  },
  {
   "cell_type": "code",
   "execution_count": 13,
   "metadata": {},
   "outputs": [
    {
     "name": "stdout",
     "output_type": "stream",
     "text": [
      "Las unidades de la temperatura a transformar °C\n",
      "0 °C  equivale a 32.0 °F  \n",
      "0 °C  equivale a 273 °K  \n",
      "\n"
     ]
    }
   ],
   "source": [
    "\n",
    "def convertidor_temperatura (unidades, temperatura ) :\n",
    "\n",
    "    #temperatura = 0\n",
    "    #unidades = \"K\"\n",
    "\n",
    "    unidadess = unidades.upper()\n",
    "    unidades ='°'+ unidadess\n",
    "\n",
    "   \n",
    "    print(f'Las unidades de la temperatura a transformar {unidades}')\n",
    "\n",
    "    temperatura_C = int(temperatura)\n",
    "    temperatura_F = int(temperatura)\n",
    "    temperatura_K = int(temperatura)\n",
    "\n",
    "    if unidades == \"°C\" :\n",
    "        temperatura_F = (((temperatura_C * 9)/5) + 32)\n",
    "        #print (f' {temperatura_C} {unidades} es {temperatura_F} °F \\n')\n",
    "        temperatura_K = int((temperatura_C + 273.15))\n",
    "        #print (f' {temperatura_C} {unidades} es {temperatura_K} °G \\n')\n",
    "        #print(f'{temperatura_C} {unidades}  equivale a {temperatura_F} °F  \\n{temperatura_C} {unidades}  equivale a {temperatura_K} °K  \\n')\n",
    "        return f'{temperatura_C} {unidades}  equivale a {temperatura_F} °F  \\n{temperatura_C} {unidades}  equivale a {temperatura_K} °K  \\n'\n",
    "\n",
    "    elif unidades == \"°F\" :\n",
    "        temperatura_C = (((temperatura_F -32 ) * 5)/9)\n",
    "        #print (f' {temperatura_F} {unidades} es {temperatura_C} °C \\n')\n",
    "        temperatura_K = int((temperatura_F -32)*5/9 + 273.15)\n",
    "        #print (f' {temperatura_F} {unidades} es {temperatura_K} °K \\n')\n",
    "        #print(f'R : {temperatura_F} {unidades}  equivale a {temperatura_C} °C  \\n{temperatura_F} {unidades}  equivale a {temperatura_K} °K  \\n')\n",
    "        return f'{temperatura_F} {unidades}  equivale a {temperatura_C} °C  \\n{temperatura_F} {unidades}  equivale a {temperatura_K} °K  \\n'\n",
    "    \n",
    "    elif unidades == \"°K\" :\n",
    "        temperatura_F = ((((temperatura_K - 273.15 ) * 9/5) + 32))\n",
    "        #print (f' {temperatura_K} {unidades} es {temperatura_F} °F \\n')\n",
    "        temperatura_C = int(temperatura_K - 273.15)\n",
    "        #print (f' {temperatura_K} {unidades} es {temperatura_C} °C \\n')\n",
    "        #print(f'R : {temperatura_K} {unidades}  equivale a {temperatura_F} °F  \\n{temperatura_K} {unidades}  equivale a {temperatura_C} °C  \\n')\n",
    "        return f'{temperatura_K} {unidades}  equivale a {temperatura_F} °F  \\n{temperatura_K} {unidades}  equivale a {temperatura_C} °C  \\n'\n",
    "    \n",
    "    else :\n",
    "        print(f' Seleccione las unidades como : \"C\" , \"F\"  o \"K\"   \\n')\n",
    "        return 'Indique las unidades como : \"C\" , \"F\"  o \"K\"   \\n'\n",
    "    \n",
    "\n",
    "print(f'{convertidor_temperatura ('c', 0)}')"
   ]
  },
  {
   "attachments": {},
   "cell_type": "markdown",
   "metadata": {},
   "source": [
    "6) Iterando una lista con los tres valores posibles de temperatura que recibe la función del punto 5, hacer un print para cada combinación de los mismos:"
   ]
  },
  {
   "cell_type": "code",
   "execution_count": 9,
   "metadata": {},
   "outputs": [
    {
     "ename": "SyntaxError",
     "evalue": "expected ':' (3747292006.py, line 57)",
     "output_type": "error",
     "traceback": [
      "\u001b[1;36m  Cell \u001b[1;32mIn[9], line 57\u001b[1;36m\u001b[0m\n\u001b[1;33m    else unidades == \"°K\" :\u001b[0m\n\u001b[1;37m         ^\u001b[0m\n\u001b[1;31mSyntaxError\u001b[0m\u001b[1;31m:\u001b[0m expected ':'\n"
     ]
    }
   ],
   "source": [
    "\n",
    "def convertidor_temperatura (unidades_entrada, temperatura, unidades_salida ) :\n",
    "\n",
    "    #temperatura = 0\n",
    "    #unidades = \"K\"\n",
    "\n",
    "    unidadess = unidades_entrada.upper()\n",
    "    unidades ='°'+ unidadess\n",
    "\n",
    "    unidades_salidas = unidades_salida.upper()\n",
    "    unidades_salida  ='°'+ unidades_salidas\n",
    "    \n",
    "    print(f'Las unidades de la temperatura a transformar {unidades}')\n",
    "\n",
    "    temperatura_C = int(temperatura)\n",
    "    temperatura_F = int(temperatura)\n",
    "    temperatura_K = int(temperatura)\n",
    "\n",
    "    metricas = [\"°C\" , \"°F\" , \"°K\"]\n",
    "\n",
    "    for i in metricas :\n",
    "        if unidades != i :\n",
    "            return 'Indique las unidades de la temperatura como : \"C\" , \"F\"  o \"K\"   \\n'\n",
    "        else :\n",
    "\n",
    "            if unidades == unidades_salida :\n",
    "                return f'{temperatura} {unidades}  equivale a {temperatura} {unidades} ' \n",
    "            \n",
    "            elif unidades == \"°C\" :\n",
    "                if unidades_salida == \"°F\":\n",
    "                    temperatura_F = (((temperatura_C * 9)/5) + 32)\n",
    "                    #print (f' {temperatura_C} {unidades} es {temperatura_F} °F \\n')\n",
    "                    return f'{temperatura_C} {unidades}  equivale a {temperatura_F} °F'  \n",
    "                \n",
    "                elif unidades_salida == \"°K\" :\n",
    "                    temperatura_K = int((temperatura_C + 273.15))\n",
    "                    #print (f' {temperatura_C} {unidades} es {temperatura_K} °G \\n')\n",
    "                    #print(f'{temperatura_C} {unidades}  equivale a {temperatura_F} °F  \\n{temperatura_C} {unidades}  equivale a {temperatura_K} °K  \\n')\n",
    "                    return f'{temperatura_C} {unidades}  equivale a {temperatura_K} °K  \\n'\n",
    "                \n",
    "                else :\n",
    "                    return 'Indique las unidades de conversion como : \"C\" , \"F\"  o \"K\"   \\n'\n",
    "            \n",
    "\n",
    "            elif unidades == \"°F\" :\n",
    "                if unidades_salida == \"°C\":\n",
    "                    temperatura_C = (((temperatura_F -32 ) * 5)/9)\n",
    "                    #print (f' {temperatura_F} {unidades} es {temperatura_C} °C \\n')\n",
    "                    return f'{temperatura_F} {unidades}  equivale a {temperatura_C} °C'\n",
    "                elif unidades_salida == \"°K\" :\n",
    "                    temperatura_K = int((temperatura_F -32)*5/9 + 273.15)\n",
    "                    #print (f' {temperatura_F} {unidades} es {temperatura_K} °K \\n')\n",
    "                    #print(f'R : {temperatura_F} {unidades}  equivale a {temperatura_C} °C  \\n{temperatura_F} {unidades}  equivale a {temperatura_K} °K  \\n')\n",
    "                    return f'{temperatura_F} {unidades}  equivale a {temperatura_K} °K  \\n'\n",
    "                else :\n",
    "                    return 'Indique las unidades de conversion como : \"C\" , \"F\"  o \"K\"   \\n'\n",
    "                \n",
    "            else unidades == \"°K\" :\n",
    "                if unidades_salida == \"°F\" :    \n",
    "                    temperatura_F = ((((temperatura_K - 273.15 ) * 9/5) + 32))\n",
    "                    #print (f' {temperatura_K} {unidades} es {temperatura_F} °F \\n')\n",
    "                    return f'{temperatura_K} {unidades}  equivale a {temperatura_F} °F'\n",
    "                \n",
    "                elif unidades_salida == \"°C\":\n",
    "                    temperatura_C = int(temperatura_K - 273.15)\n",
    "                    #print (f' {temperatura_K} {unidades} es {temperatura_C} °C \\n')\n",
    "                    #print(f'R : {temperatura_K} {unidades}  equivale a {temperatura_F} °F  \\n{temperatura_K} {unidades}  equivale a {temperatura_C} °C  \\n')\n",
    "                    return f'{temperatura_K} {unidades}  equivale a {temperatura_C} °C  \\n'\n",
    "                else :\n",
    "                    print(f' Seleccione las unidades como : \"C\" , \"F\"  o \"K\"   \\n')\n",
    "                    return 'Indique las unidades de conversion como : \"C\" , \"F\"  o \"K\"   \\n'\n",
    " \n",
    "print(f'{convertidor_temperatura ('m', 0, 'f')}')"
   ]
  },
  {
   "attachments": {},
   "cell_type": "markdown",
   "metadata": {},
   "source": [
    "7) Armar una función que devuelva el factorial de un número. Tener en cuenta que el usuario puede equivocarse y enviar de parámetro un número no entero o negativo"
   ]
  },
  {
   "cell_type": "code",
   "execution_count": 28,
   "metadata": {},
   "outputs": [
    {
     "name": "stdout",
     "output_type": "stream",
     "text": [
      "El factorial de  10  es  3628800\n"
     ]
    }
   ],
   "source": [
    "num = 10\n",
    "x = num\n",
    "i = x\n",
    "if type(num) == int :\n",
    "    if num > 0 :\n",
    "        while i > 2:\n",
    "            x = x *(i-1)\n",
    "            #print('En el paso' , i , ' x ', i-1 ,'el factorial es ', x )\n",
    "            i -= 1\n",
    "        print(f'El factorial de  {num}  es  {x}' ) # usar memlayout.com para ver el paso a paso de las salidas del codigo   \n",
    "        "
   ]
  },
  {
   "cell_type": "code",
   "execution_count": 36,
   "metadata": {},
   "outputs": [
    {
     "data": {
      "text/plain": [
       "'El factorial de  1  es  1'"
      ]
     },
     "execution_count": 36,
     "metadata": {},
     "output_type": "execute_result"
    }
   ],
   "source": [
    "def factorial2 (num) :\n",
    "    '''\n",
    "    Calcula el factorial de un numero\n",
    "    num : numero entero mayor o igual a 1, (no strting, no float)\n",
    "    '''\n",
    "    x = num\n",
    "    i = x\n",
    "    if type(num) == int :\n",
    "        if num > 0 :\n",
    "            while i > 2:\n",
    "                x = x *(i-1)\n",
    "                #print('En el paso' , i , ' x ', i-1 ,'el factorial es ', x )\n",
    "                i -= 1\n",
    "            #print(f'El factorial de  {num}  es  {x}' ) # \n",
    "            return f'El factorial de  {num}  es  {x}'\n",
    "    else : \n",
    "        return f'Error, ingrese un numero entero mayor a 1'\n",
    "\n",
    "factorial2(1)"
   ]
  },
  {
   "cell_type": "code",
   "execution_count": 37,
   "metadata": {},
   "outputs": [
    {
     "name": "stdout",
     "output_type": "stream",
     "text": [
      "Help on function factorial2 in module __main__:\n",
      "\n",
      "factorial2(num)\n",
      "    Calcula el factorial de un numero\n",
      "    num : numero entero mayor o igual a 1, (no strting, no float)\n",
      "\n"
     ]
    }
   ],
   "source": [
    "help (factorial2)"
   ]
  },
  {
   "cell_type": "markdown",
   "metadata": {},
   "source": [
    "PRACTICA DE OTROS TEMAS DEL MODULO"
   ]
  },
  {
   "cell_type": "code",
   "execution_count": 65,
   "metadata": {},
   "outputs": [
    {
     "name": "stdout",
     "output_type": "stream",
     "text": [
      "[10, 20, 30] 2347039155584\n",
      "[] 2347039441088\n",
      " Uso de la Funcion declarada  None\n",
      "[10, 20, 30] 2347039155584\n"
     ]
    }
   ],
   "source": [
    "x = [10, 20, 30]\n",
    "print((x) , id(x)) \n",
    "\n",
    "def funcion(entrada) :\n",
    "    entrada = []  # es una lista vacia \n",
    "    #return entrada # retorna un lista vacia\n",
    "    #print(entrada , id(entrada))\n",
    "    return print(entrada , id(entrada))  # con returnd se imprime la posicion de entrada, si return no toma a x como entrada\n",
    "\n",
    "print(f' Uso de la Funcion declarada  {funcion(x)}')   # En teoria x es la entrada que se espera, no se permite ingresar otro parametro diferente de x, \n",
    "                    # qué relacion tiene x con la funcion?\n",
    "\n",
    "print((x) , id(x)) # repite el print de antes de la funcion\n",
    "\n"
   ]
  },
  {
   "cell_type": "code",
   "execution_count": 70,
   "metadata": {},
   "outputs": [
    {
     "name": "stdout",
     "output_type": "stream",
     "text": [
      "[[10, 20, 30], [10, 20, 30], 3] 2347033091840\n",
      "[[10, 20, 30], [10, 20, 30], 3] 2347033091840\n"
     ]
    }
   ],
   "source": [
    "# OJO con listas no se guarda la copia original, entonces por que me funiona con dataframe?\n",
    "x = [[10, 20, 30],[10, 20, 30]]\n",
    "x2 = x\n",
    "x.append(3)\n",
    "\n",
    "print((x) , id(x))\n",
    "print((x2) , id(x2))"
   ]
  },
  {
   "cell_type": "code",
   "execution_count": 71,
   "metadata": {},
   "outputs": [
    {
     "name": "stdout",
     "output_type": "stream",
     "text": [
      "13\n"
     ]
    }
   ],
   "source": [
    "# funcion Lamnda\n",
    "lambda_suma = lambda x , y : x + y\n",
    "print (lambda_suma(5,8))"
   ]
  }
 ],
 "metadata": {
  "interpreter": {
   "hash": "c85384e4cb51c8b72350f3a8712cc8351fdc3955e32a27f9b60c6242ab125f01"
  },
  "kernelspec": {
   "display_name": "Python 3 (ipykernel)",
   "language": "python",
   "name": "python3"
  },
  "language_info": {
   "codemirror_mode": {
    "name": "ipython",
    "version": 3
   },
   "file_extension": ".py",
   "mimetype": "text/x-python",
   "name": "python",
   "nbconvert_exporter": "python",
   "pygments_lexer": "ipython3",
   "version": "3.12.2"
  }
 },
 "nbformat": 4,
 "nbformat_minor": 4
}
