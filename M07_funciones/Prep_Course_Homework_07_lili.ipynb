{
 "cells": [
  {
   "attachments": {},
   "cell_type": "markdown",
   "metadata": {},
   "source": [
    "## Funciones"
   ]
  },
  {
   "attachments": {},
   "cell_type": "markdown",
   "metadata": {},
   "source": [
    "1) Crear una función que reciba un número como parámetro y devuelva True si es primo y False si no lo es"
   ]
  },
  {
   "cell_type": "code",
   "execution_count": 1,
   "metadata": {},
   "outputs": [
    {
     "name": "stdout",
     "output_type": "stream",
     "text": [
      "True\n"
     ]
    }
   ],
   "source": [
    "# Funcion para saber si x es primo\n",
    "#todos son primos excepto si tienen un divisor diferenta a 1 y al número mismo\n",
    "def evalua_primo(x:int):\n",
    "    numero_primo = True\n",
    "    for i in range(2, x): # Evalua hasta x-1, excluyendo el 2\n",
    "        #print(i)\n",
    "        if x % i == 0:\n",
    "            numero_primo = False\n",
    "            break # si encuetra un duvisor se detiene el for\n",
    "    return numero_primo\n",
    "\n",
    "print(evalua_primo(3))"
   ]
  },
  {
   "attachments": {},
   "cell_type": "markdown",
   "metadata": {},
   "source": [
    "2) Utilizando la función del punto 1, realizar otra función que reciba de parámetro una lista de números y devuelva sólo aquellos que son primos en otra lista"
   ]
  },
  {
   "cell_type": "code",
   "execution_count": 59,
   "metadata": {},
   "outputs": [
    {
     "name": "stdout",
     "output_type": "stream",
     "text": [
      "lista de primos es [7, 3, 2, 13]\n"
     ]
    }
   ],
   "source": [
    "lista_x = [4, 8, 7, 3, 2, 13, 20, 15]\n",
    "primos =[]\n",
    "for x in lista_x :\n",
    "    if evalua_primo(x) == True :\n",
    "        primos.append(x)\n",
    "print(f'lista de primos es {primos}' )"
   ]
  },
  {
   "cell_type": "code",
   "execution_count": 60,
   "metadata": {},
   "outputs": [
    {
     "name": "stdout",
     "output_type": "stream",
     "text": [
      "Los primos de esta lista son\n",
      "(None, [7, 3, 2, 13])\n"
     ]
    }
   ],
   "source": [
    "\n",
    "def lista_primos (lista_x:list) :\n",
    "    primos =[]\n",
    "    for x in lista_x :\n",
    "        numero_primo = True\n",
    "        for i in range(2, x): # Evalua hasta x-1, excluyendo el 2\n",
    "            #print(i)\n",
    "            if x % i == 0:\n",
    "                numero_primo = False\n",
    "                \n",
    "                break # si encuetra un duvisor se detiene el for\n",
    "        #print(f'{x} : {numero_primo}')\n",
    "        if numero_primo == True :\n",
    "            primos.append(x)\n",
    "    return print('Los primos de esta lista son') , primos\n",
    "\n",
    "\n",
    "lista_x = [4, 8, 7, 3, 2, 13, 20, 15]\n",
    "\n",
    "print(lista_primos(lista_x))"
   ]
  },
  {
   "cell_type": "code",
   "execution_count": 61,
   "metadata": {},
   "outputs": [
    {
     "name": "stdout",
     "output_type": "stream",
     "text": [
      "Los primos de esta lista son\n",
      "(None, [7, 3, 2, 13])\n"
     ]
    }
   ],
   "source": [
    "\n",
    "def lista_primos (lista_x) :\n",
    "    primos =[]\n",
    "    for x in lista_x :\n",
    "        numero_primo = True\n",
    "        for i in range(2, x): # Evalua hasta x-1, excluyendo el 2\n",
    "            #print(i)\n",
    "            if x % i == 0:\n",
    "                numero_primo = False\n",
    "                \n",
    "                break # si encuetra un duvisor se detiene el for\n",
    "        #print(f'{x} : {numero_primo}')\n",
    "        if numero_primo == True :\n",
    "            primos.append(x)\n",
    "    return print('Los primos de esta lista son') , primos\n",
    "\n",
    "\n",
    "lista_x = [4, 8, 7, 3, 2, 13, 20, 15]\n",
    "print(lista_primos(lista_x))"
   ]
  },
  {
   "attachments": {},
   "cell_type": "markdown",
   "metadata": {},
   "source": [
    "3) Crear una función que al recibir una lista de números, devuelva el que más se repite y cuántas veces lo hace. Si hay más de un \"más repetido\", que devuelva cualquiera"
   ]
  },
  {
   "cell_type": "code",
   "execution_count": 62,
   "metadata": {},
   "outputs": [
    {
     "name": "stdout",
     "output_type": "stream",
     "text": [
      "5\n"
     ]
    }
   ],
   "source": [
    "# Selecciona el mayor entre dos numeros\n",
    "a = 3\n",
    "b = 5\n",
    "maximo = a\n",
    "if a > b:\n",
    "    maximo = a\n",
    "    print(a)\n",
    "else :\n",
    "    print(b)\n",
    "\n",
    "# "
   ]
  },
  {
   "cell_type": "code",
   "execution_count": 63,
   "metadata": {},
   "outputs": [
    {
     "name": "stdout",
     "output_type": "stream",
     "text": [
      "La moda es 8 con una frecuencia de 3\n"
     ]
    }
   ],
   "source": [
    "lista_x = [4, 3, 7, 8, 2, 13, 8, 8]\n",
    "valores = []\n",
    "frecuencia = []\n",
    "\n",
    "\n",
    "# Armar los vectores de: Datos unicos y frecuencias\n",
    "for elemento in lista_x:\n",
    "    if elemento in valores :\n",
    "       \n",
    "        i = valores.index(elemento) # tomar en cuenta la posicion del elemento en el vector valores\n",
    "        frecuencia[i] += 1\n",
    "       \n",
    "    else :\n",
    "        frecuencia.append(1)\n",
    "        valores.append(elemento)\n",
    "\n",
    "#print(F'Vector de elementos unicos {valores}')\n",
    "#print(F'Vector de Frecuencia {frecuencia}')    \n",
    "\n",
    "#Halla la moda y su frecuencia\n",
    "moda = valores [0] # es el valor de la posicion 0 de Valores. por que\n",
    "maxima_frecuencia = frecuencia[0]  # es el valor de la posicion 0 de Valores. por que\n",
    "\n",
    "for i in range(0 , len(valores)):\n",
    "    if frecuencia[i] >= maxima_frecuencia: # cuando esto no se da, va a lsiguiente i\n",
    "        #print (f'Antes de la desicion la moda es {moda} con una frecuencia de {maxima_frecuencia}')\n",
    "        moda = valores[i]\n",
    "        maxima_frecuencia = frecuencia[i]\n",
    "print (f'La moda es {moda} con una frecuencia de {maxima_frecuencia}')"
   ]
  },
  {
   "cell_type": "code",
   "execution_count": 14,
   "metadata": {},
   "outputs": [],
   "source": [
    "#declara la funcion que halla la moda\n",
    "def moda_preCourse (lista_x) :\n",
    "    #lista_x = [4, 3, 7, 8, 2, 13, 8, 8]\n",
    "    valores = []\n",
    "    frecuencia = []\n",
    "\n",
    "    # Armar los vectores de: Datos unicos y frecuencias\n",
    "    for elemento in lista_x:\n",
    "        if elemento in valores :\n",
    "        \n",
    "            i = valores.index(elemento) # tomar en cuenta la posicion del elemento en el vector valores\n",
    "            frecuencia[i] += 1\n",
    "        \n",
    "        else :\n",
    "            frecuencia.append(1)\n",
    "            valores.append(elemento)\n",
    "\n",
    "    #print(F'Vector de elementos unicos {valores}')\n",
    "    #print(F'Vector de Frecuencia {frecuencia}')    \n",
    "\n",
    "    #Halla la moda y su frecuencia\n",
    "    moda = valores [0] # es el valor de la posicion 0 de Valores. por que\n",
    "    maxima_frecuencia = frecuencia[0]  # es el valor de la posicion 0 de Valores. por que\n",
    "\n",
    "    for i in range(0 , len(valores)):\n",
    "        if frecuencia[i] >= maxima_frecuencia: # cuando esto no se da, va a lsiguiente i\n",
    "            #print (f'Antes de la desicion la moda es {moda} con una frecuencia de {maxima_frecuencia}')\n",
    "            moda = valores[i]\n",
    "            maxima_frecuencia = frecuencia[i]\n",
    "        print (f'La moda es {moda} con una frecuencia de {maxima_frecuencia}')\n",
    "    return f'La moda es {moda} con una frecuencia de {maxima_frecuencia}'"
   ]
  },
  {
   "cell_type": "code",
   "execution_count": 15,
   "metadata": {},
   "outputs": [
    {
     "name": "stdout",
     "output_type": "stream",
     "text": [
      "La moda es 4 con una frecuencia de 3\n",
      "La moda es 4 con una frecuencia de 3\n",
      "La moda es 8 con una frecuencia de 3\n",
      "La moda es 8 con una frecuencia de 3\n",
      "La moda es 8 con una frecuencia de 3\n"
     ]
    }
   ],
   "source": [
    "x = [4, 4, 7, 8, 4, 13, 8, 8]\n",
    "print (moda_preCourse(x))"
   ]
  },
  {
   "attachments": {},
   "cell_type": "markdown",
   "metadata": {},
   "source": [
    "4) A la función del punto 3, agregar un parámetro más, que permita elegir si se requiere el menor o el mayor de los mas repetidos."
   ]
  },
  {
   "cell_type": "code",
   "execution_count": 33,
   "metadata": {},
   "outputs": [
    {
     "name": "stdout",
     "output_type": "stream",
     "text": [
      "Vector de elementos unicos [4, 3, 8]\n",
      "Vector de Frecuencia [4, 4, 4]\n",
      "\n",
      "La moda con menor valor es 3\n"
     ]
    }
   ],
   "source": [
    "\n",
    "lista_x = [4, 3, 4, 8, 4, 4, 8, 8, 8,3,3,3]\n",
    "valores = []\n",
    "frecuencia = []\n",
    "selec_moda = 'min'\n",
    "\n",
    "# Armar los vectores de: Datos unicos y frecuencias\n",
    "for elemento in lista_x:\n",
    "    if elemento in valores :\n",
    "       \n",
    "        i = valores.index(elemento) # tomar en cuenta la posicion del elemento en el vector valores\n",
    "        frecuencia[i] += 1\n",
    "       \n",
    "    else :\n",
    "        frecuencia.append(1)\n",
    "        valores.append(elemento)\n",
    "\n",
    "print(F'Vector de elementos unicos {valores}')\n",
    "print(F'Vector de Frecuencia {frecuencia}\\n')    \n",
    "\n",
    "#Halla la moda y su frecuencia\n",
    "moda = valores [0] # es el valor de la posicion 0 de Valores. por que\n",
    "maxima_frecuencia = frecuencia[0]  # es el valor de la posicion 0 de Valores. por que\n",
    "\n",
    "modas = []\n",
    "for i in range(0 , len(valores)):\n",
    "    if frecuencia[i] >= maxima_frecuencia: # cuando esto no se da, va a lsiguiente i\n",
    "        #print (f'Antes de la desicion la moda es {moda} con una frecuencia de {maxima_frecuencia}')\n",
    "        moda = valores[i]\n",
    "        modas.append(moda)\n",
    "        maxima_frecuencia = frecuencia[i]\n",
    "        #maxima_moda = valores[0]\n",
    "#print (f'Las modas son {modas} con una frecuencia de {maxima_frecuencia}')        \n",
    "\n",
    "maxima_moda = modas[0]\n",
    "minima_moda = modas[0]\n",
    "# Selecciona el mayor entre dos numeros\n",
    "\n",
    "if selec_moda == 'max' :\n",
    "    for i in modas :\n",
    "        if i > maxima_moda:\n",
    "            moda = i\n",
    "            print(f'La moda con mayor valor es {moda}')\n",
    "            maxima_moda = i\n",
    "\n",
    "elif selec_moda == 'min' :\n",
    "    for i in modas :\n",
    "        if i < minima_moda:\n",
    "            moda = i\n",
    "            print(f'La moda con menor valor es {moda}')\n",
    "            minima_moda = i\n",
    "else : \n",
    "    print (f'Las modas son {modas} con una frecuencia de {maxima_frecuencia}')        \n",
    "\n",
    "\n"
   ]
  },
  {
   "cell_type": "code",
   "execution_count": 42,
   "metadata": {},
   "outputs": [],
   "source": [
    "#declara la funcion que halla la moda \n",
    "def modas_preCourse (lista_x ):\n",
    "\n",
    "    valores = []\n",
    "    frecuencia = []\n",
    "    \n",
    "\n",
    "\n",
    "    # Armar los vectores de: Datos unicos y frecuencias\n",
    "    for elemento in lista_x:\n",
    "        if elemento in valores :\n",
    "        \n",
    "            i = valores.index(elemento) # tomar en cuenta la posicion del elemento en el vector valores\n",
    "            frecuencia[i] += 1\n",
    "        \n",
    "        else :\n",
    "            frecuencia.append(1)\n",
    "            valores.append(elemento)\n",
    "\n",
    "    #print(F'Vector de elementos unicos {valores}')\n",
    "    #print(F'Vector de Frecuencia {frecuencia}\\n')    \n",
    "\n",
    "    #Halla la moda y su frecuencia\n",
    "    moda = valores [0] # es el valor de la posicion 0 de Valores. por que\n",
    "    maxima_frecuencia = frecuencia[0]  # es el valor de la posicion 0 de Valores. por que\n",
    "\n",
    "    modas = []\n",
    "    for i in range(0 , len(valores)):\n",
    "        if frecuencia[i] >= maxima_frecuencia: # cuando esto no se da, va a la siguiente i\n",
    "            #print (f'Antes de la desicion la moda es {moda} con una frecuencia de {maxima_frecuencia}')\n",
    "            moda = valores[i]\n",
    "            modas.append(moda)\n",
    "            maxima_frecuencia = frecuencia[i]\n",
    "            #maxima_moda = valores[0]\n",
    "    #print (f'Las modas son {modas} con una frecuencia de {maxima_frecuencia}')        \n",
    "\n",
    "    maxima_moda = 0\n",
    "    print(maxima_moda)\n",
    "    # Selecciona el mayor entre dos numeros\n",
    "    if len(modas)>=2:\n",
    "        for i in modas :\n",
    "            print(i)\n",
    "            if i > maxima_moda:\n",
    "                print(i)\n",
    "                moda = i\n",
    "                maxima_moda = moda\n",
    "            else :\n",
    "                moda = maxima_moda\n",
    "        print(f'La moda con mayor valor es {moda}')\n",
    "            \n",
    "                \n",
    "\n",
    "\n",
    "    else : \n",
    "        print (f'La moda es {moda} con una frecuencia de {maxima_frecuencia}')"
   ]
  },
  {
   "cell_type": "code",
   "execution_count": 45,
   "metadata": {},
   "outputs": [
    {
     "name": "stdout",
     "output_type": "stream",
     "text": [
      "0\n",
      "8\n",
      "8\n",
      "1\n",
      "10\n",
      "10\n",
      "La moda con mayor valor es 10\n"
     ]
    }
   ],
   "source": [
    "x = [ 8, 8 , 8,  1, 10 , 10 , 10, 1 , 1 ]\n",
    "modas_preCourse(x) \n"
   ]
  },
  {
   "attachments": {},
   "cell_type": "markdown",
   "metadata": {},
   "source": [
    "5) Crear una función que convierta entre grados Celsius, Farenheit y Kelvin<br>\n",
    "Fórmula 1\t: (°C × 9/5) + 32 = °F<br>\n",
    "Fórmula 2\t: °C + 273.15 = °K<br>\n",
    "Debe recibir 3 parámetros: el valor, la medida de orígen y la medida de destino\n"
   ]
  },
  {
   "cell_type": "code",
   "execution_count": 1,
   "metadata": {},
   "outputs": [
    {
     "name": "stdout",
     "output_type": "stream",
     "text": [
      "°C °C\n",
      "Indique las unidades de entrada y conversion como : \"C\" , \"F\"  o \"K\"   \n",
      "\n",
      "0 °C  equivale a 0 °C\n"
     ]
    }
   ],
   "source": [
    "\n",
    "\n",
    "temperatura = 0\n",
    "unidades_entrada = 'c'\n",
    "unidades_salida = 'c'\n",
    "\n",
    "unidadess = unidades_entrada.upper()\n",
    "unidades ='°'+ unidadess\n",
    "\n",
    "unidades_salidas = unidades_salida.upper()\n",
    "unidades_salida  ='°'+ unidades_salidas\n",
    "\n",
    "temperatura_C = int(temperatura)\n",
    "temperatura_F = int(temperatura)\n",
    "temperatura_K = int(temperatura)\n",
    "\n",
    "metricas = [\"°C\" , \"°F\" , \"°K\"]\n",
    "print(unidades , unidades_salida)\n",
    "\n",
    "if unidades != metricas or unidades_salida != metricas  :\n",
    "    print(f'Indique las unidades de entrada y conversion como : \"C\" , \"F\"  o \"K\"   \\n')\n",
    "    \n",
    "for i in metricas :\n",
    "    \n",
    "    if unidades == unidades_salida :\n",
    "        print(f'{temperatura} {unidades}  equivale a {temperatura} {unidades}')\n",
    "        break    \n",
    "    elif unidades == \"°C\" :\n",
    "        \n",
    "        if unidades_salida == \"°F\":\n",
    "            temperatura_F = (((temperatura_C * 9)/5) + 32)\n",
    "            #print (f' {temperatura_C} {unidades} es {temperatura_F} °F \\n')\n",
    "            print(f'{temperatura_C} {unidades}  equivale a {temperatura_F} °F')\n",
    "        \n",
    "        elif unidades_salida == \"°K\" :\n",
    "            temperatura_K = int((temperatura_C + 273.15))\n",
    "            #print (f' {temperatura_C} {unidades} es {temperatura_K} °G \\n')\n",
    "            #print(f'{temperatura_C} {unidades}  equivale a {temperatura_F} °F  \\n{temperatura_C} {unidades}  equivale a {temperatura_K} °K  \\n')\n",
    "            print(f'{temperatura_C} {unidades}  equivale a {temperatura_K} °K  \\n')\n",
    " \n",
    "    \n",
    "\n",
    "    elif unidades == \"°F\" :\n",
    "\n",
    "        if unidades_salida == \"°C\":\n",
    "            temperatura_C = (((temperatura_F -32 ) * 5)/9)\n",
    "            #print (f' {temperatura_F} {unidades} es {temperatura_C} °C \\n')\n",
    "            print(f'{temperatura_F} {unidades}  equivale a {temperatura_C} °C')\n",
    "        elif unidades_salida == \"°K\" :\n",
    "            temperatura_K = int((temperatura_F -32)*5/9 + 273.15)\n",
    "            #print (f' {temperatura_F} {unidades} es {temperatura_K} °K \\n')\n",
    "            #print(f'R : {temperatura_F} {unidades}  equivale a {temperatura_C} °C  \\n{temperatura_F} {unidades}  equivale a {temperatura_K} °K  \\n')\n",
    "            print(f'{temperatura_F} {unidades}  equivale a {temperatura_K} °K  \\n')\n",
    "\n",
    "        \n",
    "    elif unidades == \"°K\" :\n",
    "        \n",
    "        if unidades_salida == \"°F\" :    \n",
    "            temperatura_F = ((((temperatura_K - 273.15 ) * 9/5) + 32))\n",
    "            #print (f' {temperatura_K} {unidades} es {temperatura_F} °F \\n')\n",
    "            print(f'{temperatura_K} {unidades}  equivale a {temperatura_F} °F')\n",
    "        \n",
    "        elif unidades_salida == \"°C\":\n",
    "            temperatura_C = int(temperatura_K - 273.15)\n",
    "            #print (f' {temperatura_K} {unidades} es {temperatura_C} °C \\n')\n",
    "            #print(f'R : {temperatura_K} {unidades}  equivale a {temperatura_F} °F  \\n{temperatura_K} {unidades}  equivale a {temperatura_C} °C  \\n')\n",
    "            print(f'{temperatura_K} {unidades}  equivale a {temperatura_C} °C  \\n')\n",
    "\n",
    "        #print(f' Seleccione las unidades como : \"C\" , \"F\"  o \"K\"   \\n')\n",
    "\n",
    "                \n",
    "\n",
    "    \n"
   ]
  },
  {
   "cell_type": "code",
   "execution_count": null,
   "metadata": {},
   "outputs": [],
   "source": [
    "def convertidor_temperatura (unidades_entrada, temperatura, unidades_salida ) :\n",
    "\n",
    "    #temperatura = 0\n",
    "    #unidades = \"K\"\n",
    "\n",
    "    unidadess = unidades_entrada.upper()\n",
    "    unidades ='°'+ unidadess\n",
    "\n",
    "    unidades_salidas = unidades_salida.upper()\n",
    "    unidades_salida  ='°'+ unidades_salidas\n",
    "    \n",
    "    #print(f'Las unidades de la temperatura {unidades} se transforman a {unidades_salida}')\n",
    "\n",
    "    temperatura_C = int(temperatura)\n",
    "    temperatura_F = int(temperatura)\n",
    "    temperatura_K = int(temperatura)\n",
    "\n",
    "    metricas = [\"°C\" , \"°F\" , \"°K\"]\n",
    "\n",
    "    for i in metricas :\n",
    "        if unidades == i :\n",
    "\n",
    "            if unidades == unidades_salida :\n",
    "                return f'{temperatura} {unidades}  equivale a {temperatura} {unidades} ' \n",
    "            \n",
    "            elif unidades == \"°C\" :\n",
    "                \n",
    "                if unidades_salida == \"°F\":\n",
    "                    temperatura_F = (((temperatura_C * 9)/5) + 32)\n",
    "                    #print (f' {temperatura_C} {unidades} es {temperatura_F} °F \\n')\n",
    "                    return f'{temperatura_C} {unidades}  equivale a {temperatura_F} °F'  \n",
    "                \n",
    "                elif unidades_salida == \"°K\" :\n",
    "                    temperatura_K = int((temperatura_C + 273.15))\n",
    "                    #print (f' {temperatura_C} {unidades} es {temperatura_K} °G \\n')\n",
    "                    #print(f'{temperatura_C} {unidades}  equivale a {temperatura_F} °F  \\n{temperatura_C} {unidades}  equivale a {temperatura_K} °K  \\n')\n",
    "                    return f'{temperatura_C} {unidades}  equivale a {temperatura_K} °K  \\n'\n",
    "                else :\n",
    "                    return 'Indique las unidades de conversion como : \"C\" , \"F\"  o \"K\"   \\n'\n",
    "            \n",
    "\n",
    "            elif unidades == \"°F\" :\n",
    "\n",
    "                if unidades_salida == \"°C\":\n",
    "                    temperatura_C = (((temperatura_F -32 ) * 5)/9)\n",
    "                    #print (f' {temperatura_F} {unidades} es {temperatura_C} °C \\n')\n",
    "                    return f'{temperatura_F} {unidades}  equivale a {temperatura_C} °C'\n",
    "                elif unidades_salida == \"°K\" :\n",
    "                    temperatura_K = int((temperatura_F -32)*5/9 + 273.15)\n",
    "                    #print (f' {temperatura_F} {unidades} es {temperatura_K} °K \\n')\n",
    "                    #print(f'R : {temperatura_F} {unidades}  equivale a {temperatura_C} °C  \\n{temperatura_F} {unidades}  equivale a {temperatura_K} °K  \\n')\n",
    "                    return f'{temperatura_F} {unidades}  equivale a {temperatura_K} °K  \\n'\n",
    "                else :\n",
    "                    return 'Indique las unidades de conversion como : \"C\" , \"F\"  o \"K\"   \\n'\n",
    "                \n",
    "            elif unidades == \"°K\" :\n",
    "                \n",
    "                if unidades_salida == \"°F\" :    \n",
    "                    temperatura_F = ((((temperatura_K - 273.15 ) * 9/5) + 32))\n",
    "                    #print (f' {temperatura_K} {unidades} es {temperatura_F} °F \\n')\n",
    "                    return f'{temperatura_K} {unidades}  equivale a {temperatura_F} °F'\n",
    "                \n",
    "                elif unidades_salida == \"°C\":\n",
    "                    temperatura_C = int(temperatura_K - 273.15)\n",
    "                    #print (f' {temperatura_K} {unidades} es {temperatura_C} °C \\n')\n",
    "                    #print(f'R : {temperatura_K} {unidades}  equivale a {temperatura_F} °F  \\n{temperatura_K} {unidades}  equivale a {temperatura_C} °C  \\n')\n",
    "                    return f'{temperatura_K} {unidades}  equivale a {temperatura_C} °C  \\n'\n",
    "                else :\n",
    "                    print(f' Seleccione las unidades como : \"C\" , \"F\"  o \"K\"   \\n')\n",
    "                    return 'Indique las unidades de conversion como : \"C\" , \"F\"  o \"K\"   \\n'\n",
    "                    \n",
    "        else :\n",
    "            return 'Indique las unidades de la temperatura como : \"C\" , \"F\"  o \"K\"   \\n'\n",
    "    \n",
    "print(f'{convertidor_temperatura ('F', 10, 'm')}')"
   ]
  },
  {
   "cell_type": "code",
   "execution_count": 60,
   "metadata": {},
   "outputs": [
    {
     "name": "stdout",
     "output_type": "stream",
     "text": [
      "Las unidades de la temperatura a transformar son °C\n",
      "0 °C  equivale a 32.0 °F  \n",
      "0 °C  equivale a 273 °K  \n",
      "\n"
     ]
    }
   ],
   "source": [
    "\n",
    "def convertidor_temperatura2 (unidades, temperatura ) :\n",
    "\n",
    "    #temperatura = 0\n",
    "    #unidades = \"K\"\n",
    "\n",
    "    unidadess = unidades.upper()\n",
    "    unidades ='°'+ unidadess\n",
    "\n",
    "   \n",
    "    print(f'Las unidades de la temperatura a transformar son {unidades}')\n",
    "\n",
    "    temperatura_C = int(temperatura)\n",
    "    temperatura_F = int(temperatura)\n",
    "    temperatura_K = int(temperatura)\n",
    "\n",
    "    if unidades == \"°C\" :\n",
    "        temperatura_F = (((temperatura_C * 9)/5) + 32)\n",
    "        #print (f' {temperatura_C} {unidades} es {temperatura_F} °F \\n')\n",
    "        temperatura_K = int((temperatura_C + 273.15))\n",
    "        #print (f' {temperatura_C} {unidades} es {temperatura_K} °G \\n')\n",
    "        #print(f'{temperatura_C} {unidades}  equivale a {temperatura_F} °F  \\n{temperatura_C} {unidades}  equivale a {temperatura_K} °K  \\n')\n",
    "        return f'{temperatura_C} {unidades}  equivale a {temperatura_F} °F  \\n{temperatura_C} {unidades}  equivale a {temperatura_K} °K  \\n'\n",
    "\n",
    "    elif unidades == \"°F\" :\n",
    "        temperatura_C = (((temperatura_F -32 ) * 5)/9)\n",
    "        #print (f' {temperatura_F} {unidades} es {temperatura_C} °C \\n')\n",
    "        temperatura_K = int((temperatura_F -32)*5/9 + 273.15)\n",
    "        #print (f' {temperatura_F} {unidades} es {temperatura_K} °K \\n')\n",
    "        #print(f'R : {temperatura_F} {unidades}  equivale a {temperatura_C} °C  \\n{temperatura_F} {unidades}  equivale a {temperatura_K} °K  \\n')\n",
    "        return f'{temperatura_F} {unidades}  equivale a {temperatura_C} °C  \\n{temperatura_F} {unidades}  equivale a {temperatura_K} °K  \\n'\n",
    "    \n",
    "    elif unidades == \"°K\" :\n",
    "        temperatura_F = ((((temperatura_K - 273.15 ) * 9/5) + 32))\n",
    "        #print (f' {temperatura_K} {unidades} es {temperatura_F} °F \\n')\n",
    "        temperatura_C = int(temperatura_K - 273.15)\n",
    "        #print (f' {temperatura_K} {unidades} es {temperatura_C} °C \\n')\n",
    "        #print(f'R : {temperatura_K} {unidades}  equivale a {temperatura_F} °F  \\n{temperatura_K} {unidades}  equivale a {temperatura_C} °C  \\n')\n",
    "        return f'{temperatura_K} {unidades}  equivale a {temperatura_F} °F  \\n{temperatura_K} {unidades}  equivale a {temperatura_C} °C  \\n'\n",
    "    \n",
    "    else :\n",
    "        print(f' Seleccione las unidades como : \"C\" , \"F\"  o \"K\"   \\n')\n",
    "        return 'Indique las unidades como : \"C\" , \"F\"  o \"K\"   \\n'\n",
    "    \n",
    "\n",
    "print(f'{convertidor_temperatura2 ('c', 0)}')"
   ]
  },
  {
   "attachments": {},
   "cell_type": "markdown",
   "metadata": {},
   "source": [
    "6) Iterando una lista con los tres valores posibles de temperatura que recibe la función del punto 5, hacer un print para cada combinación de los mismos:"
   ]
  },
  {
   "cell_type": "code",
   "execution_count": 59,
   "metadata": {},
   "outputs": [
    {
     "name": "stdout",
     "output_type": "stream",
     "text": [
      "Las unidades de la temperatura a transformar °C\n",
      "0 °C  equivale a 0 °C \n",
      "Las unidades de la temperatura a transformar °C\n",
      "0 °C  equivale a 32.0 °F\n",
      "Las unidades de la temperatura a transformar °C\n",
      "0 °C  equivale a 273 °K  \n",
      "\n"
     ]
    }
   ],
   "source": [
    "# Convierte la temparatura a las\n",
    "\n",
    "temperatura = 0\n",
    "Unidades_entrada = 'c'\n",
    "metricas = ['C', 'F',  'K' ]\n",
    "\n",
    "for i in metricas :\n",
    "    print(f'{convertidor_temperatura (Unidades_entrada, temperatura, i)}')\n"
   ]
  },
  {
   "attachments": {},
   "cell_type": "markdown",
   "metadata": {},
   "source": [
    "7) Armar una función que devuelva el factorial de un número. Tener en cuenta que el usuario puede equivocarse y enviar de parámetro un número no entero o negativo"
   ]
  },
  {
   "cell_type": "code",
   "execution_count": 1,
   "metadata": {},
   "outputs": [
    {
     "name": "stdout",
     "output_type": "stream",
     "text": [
      "El factorial de  10  es  3628800\n"
     ]
    }
   ],
   "source": [
    "num = 10\n",
    "x = num\n",
    "i = x\n",
    "if type(num) == int :\n",
    "    if num > 0 :\n",
    "        while i > 2:\n",
    "            x = x *(i-1)\n",
    "            #print('En el paso' , i , ' x ', i-1 ,'el factorial es ', x )\n",
    "            i -= 1\n",
    "        print(f'El factorial de  {num}  es  {x}' ) # usar memlayout.com para ver el paso a paso de las salidas del codigo   \n",
    "        "
   ]
  },
  {
   "cell_type": "code",
   "execution_count": 32,
   "metadata": {},
   "outputs": [],
   "source": [
    "def factorial (num : int) :\n",
    "    '''\n",
    "    Calcula el factorial de un numero\n",
    "    num : numero entero mayor o igual a 1, (no strting, no float)\n",
    "    '''\n",
    "    \n",
    "    x = num\n",
    "    i = x\n",
    "    if type(num) == int :\n",
    "        if num > 0 :\n",
    "            while i > 2:\n",
    "                x = x *(i-1)\n",
    "                #print('En el paso' , i , ' x ', i-1 ,'el factorial es ', x )\n",
    "                i -= 1\n",
    "            print(f'El factorial de  {num}  es  {x}' ) # usar memlayout.com para ver el paso a paso de las salidas del codigo     "
   ]
  },
  {
   "cell_type": "code",
   "execution_count": 33,
   "metadata": {},
   "outputs": [
    {
     "data": {
      "text/plain": [
       "'Error, ingrese un numero entero mayor a 1'"
      ]
     },
     "execution_count": 33,
     "metadata": {},
     "output_type": "execute_result"
    }
   ],
   "source": [
    "def factorial2 (num : int) :\n",
    "    '''\n",
    "    Calcula el factorial de un numero\n",
    "    num : numero entero mayor o igual a 1, (no strting, no float)\n",
    "    '''\n",
    "\n",
    "    if num < 0 :\n",
    "        return f'Error, ingrese un numero entero mayor a 1'\n",
    "    if num == 1 :\n",
    "        return 1\n",
    "    \n",
    "    num = num * factorial (num-1) # se multiplica con el factorial anterior\n",
    "    \n",
    "    return  num\n",
    "\n",
    "\n",
    "factorial2(-1)"
   ]
  },
  {
   "cell_type": "code",
   "execution_count": 2,
   "metadata": {},
   "outputs": [
    {
     "data": {
      "text/plain": [
       "'El factorial de  1  es  1'"
      ]
     },
     "execution_count": 2,
     "metadata": {},
     "output_type": "execute_result"
    }
   ],
   "source": [
    "def factorial3 (num) :\n",
    "    '''\n",
    "    Calcula el factorial de un numero\n",
    "    num : numero entero mayor o igual a 1, (no strting, no float)\n",
    "    '''\n",
    "    x = num\n",
    "    i = x\n",
    "    if type(num) == int :\n",
    "        if num > 0 :\n",
    "            while i > 2:\n",
    "                x = x *(i-1)\n",
    "                #print('En el paso' , i , ' x ', i-1 ,'el factorial es ', x )\n",
    "                i -= 1\n",
    "            #print(f'El factorial de  {num}  es  {x}' ) # \n",
    "            return f'El factorial de  {num}  es  {x}'\n",
    "    else : \n",
    "        return f'Error, ingrese un numero entero mayor a 1'\n",
    "\n",
    "factorial3(1)"
   ]
  },
  {
   "cell_type": "code",
   "execution_count": 35,
   "metadata": {},
   "outputs": [
    {
     "name": "stdout",
     "output_type": "stream",
     "text": [
      "Help on function factorial3 in module __main__:\n",
      "\n",
      "factorial3(num)\n",
      "    Calcula el factorial de un numero\n",
      "    num : numero entero mayor o igual a 1, (no strting, no float)\n",
      "\n"
     ]
    }
   ],
   "source": [
    "help (factorial3)"
   ]
  },
  {
   "cell_type": "markdown",
   "metadata": {},
   "source": [
    "PRACTICA DE OTROS TEMAS DEL MODULO"
   ]
  },
  {
   "cell_type": "code",
   "execution_count": 65,
   "metadata": {},
   "outputs": [
    {
     "name": "stdout",
     "output_type": "stream",
     "text": [
      "[10, 20, 30] 2347039155584\n",
      "[] 2347039441088\n",
      " Uso de la Funcion declarada  None\n",
      "[10, 20, 30] 2347039155584\n"
     ]
    }
   ],
   "source": [
    "x = [10, 20, 30]\n",
    "print((x) , id(x)) \n",
    "\n",
    "def funcion(entrada) :\n",
    "    entrada = []  # es una lista vacia \n",
    "    #return entrada # retorna un lista vacia\n",
    "    #print(entrada , id(entrada))\n",
    "    return print(entrada , id(entrada))  # con returnd se imprime la posicion de entrada, si return no toma a x como entrada\n",
    "\n",
    "print(f' Uso de la Funcion declarada  {funcion(x)}')   # En teoria x es la entrada que se espera, no se permite ingresar otro parametro diferente de x, \n",
    "                    # qué relacion tiene x con la funcion?\n",
    "\n",
    "print((x) , id(x)) # repite el print de antes de la funcion\n",
    "\n"
   ]
  },
  {
   "cell_type": "code",
   "execution_count": 70,
   "metadata": {},
   "outputs": [
    {
     "name": "stdout",
     "output_type": "stream",
     "text": [
      "[[10, 20, 30], [10, 20, 30], 3] 2347033091840\n",
      "[[10, 20, 30], [10, 20, 30], 3] 2347033091840\n"
     ]
    }
   ],
   "source": [
    "# OJO con listas no se guarda la copia original, entonces por que me funiona con dataframe?\n",
    "x = [[10, 20, 30],[10, 20, 30]]\n",
    "x2 = x\n",
    "x.append(3)\n",
    "\n",
    "print((x) , id(x))\n",
    "print((x2) , id(x2))"
   ]
  },
  {
   "cell_type": "code",
   "execution_count": 71,
   "metadata": {},
   "outputs": [
    {
     "name": "stdout",
     "output_type": "stream",
     "text": [
      "13\n"
     ]
    }
   ],
   "source": [
    "# funcion Lamnda\n",
    "lambda_suma = lambda x , y : x + y\n",
    "print (lambda_suma(5,8))"
   ]
  }
 ],
 "metadata": {
  "interpreter": {
   "hash": "c85384e4cb51c8b72350f3a8712cc8351fdc3955e32a27f9b60c6242ab125f01"
  },
  "kernelspec": {
   "display_name": "Python 3 (ipykernel)",
   "language": "python",
   "name": "python3"
  },
  "language_info": {
   "codemirror_mode": {
    "name": "ipython",
    "version": 3
   },
   "file_extension": ".py",
   "mimetype": "text/x-python",
   "name": "python",
   "nbconvert_exporter": "python",
   "pygments_lexer": "ipython3",
   "version": "3.12.2"
  }
 },
 "nbformat": 4,
 "nbformat_minor": 4
}
