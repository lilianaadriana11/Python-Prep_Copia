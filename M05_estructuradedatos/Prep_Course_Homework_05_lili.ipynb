{
 "cells": [
  {
   "attachments": {},
   "cell_type": "markdown",
   "metadata": {},
   "source": [
    "## Estructuras de Datos"
   ]
  },
  {
   "attachments": {},
   "cell_type": "markdown",
   "metadata": {},
   "source": [
    "1) Crear una lista que contenga nombres de ciudades del mundo que contenga más de 5 elementos e imprimir por pantalla"
   ]
  },
  {
   "cell_type": "code",
   "execution_count": 1,
   "metadata": {},
   "outputs": [
    {
     "name": "stdout",
     "output_type": "stream",
     "text": [
      "('Colombia', 'Ecuador', 'Peru', 'Bolivia', 'Venezuela')\n"
     ]
    }
   ],
   "source": [
    "paises =['Colombia' , 'Ecuador' , 'Peru' , 'Bolivia' , 'Venezuela']\n",
    "print(paises)"
   ]
  },
  {
   "attachments": {},
   "cell_type": "markdown",
   "metadata": {},
   "source": [
    "2) Imprimir por pantalla el segundo elemento de la lista"
   ]
  },
  {
   "cell_type": "code",
   "execution_count": 3,
   "metadata": {},
   "outputs": [
    {
     "name": "stdout",
     "output_type": "stream",
     "text": [
      "Ecuador\n"
     ]
    }
   ],
   "source": [
    "paises =['Colombia' , 'Ecuador' , 'Peru' , 'Bolivia' , 'Venezuela']\n",
    "print(paises[1])"
   ]
  },
  {
   "attachments": {},
   "cell_type": "markdown",
   "metadata": {},
   "source": [
    "3) Imprimir por pantalla del segundo al cuarto elemento"
   ]
  },
  {
   "cell_type": "code",
   "execution_count": 5,
   "metadata": {},
   "outputs": [
    {
     "name": "stdout",
     "output_type": "stream",
     "text": [
      "('Ecuador', 'Peru', 'Bolivia')\n"
     ]
    }
   ],
   "source": [
    "paises =('Colombia' , 'Ecuador' , 'Peru' , 'Bolivia' , 'Venezuela')\n",
    "print(paises[1:4])"
   ]
  },
  {
   "attachments": {},
   "cell_type": "markdown",
   "metadata": {},
   "source": [
    "4) Visualizar el tipo de dato de la lista"
   ]
  },
  {
   "cell_type": "code",
   "execution_count": 6,
   "metadata": {},
   "outputs": [
    {
     "name": "stdout",
     "output_type": "stream",
     "text": [
      "<class 'tuple'>\n"
     ]
    }
   ],
   "source": [
    "paises =['Colombia' , 'Ecuador' , 'Peru' , 'Bolivia' , 'Venezuela']\n",
    "print(type(paises))"
   ]
  },
  {
   "attachments": {},
   "cell_type": "markdown",
   "metadata": {},
   "source": [
    "5) Visualizar todos los elementos de la lista a partir del tercero de manera genérica, es decir, sin explicitar la posición del último elemento"
   ]
  },
  {
   "cell_type": "code",
   "execution_count": 2,
   "metadata": {},
   "outputs": [
    {
     "name": "stdout",
     "output_type": "stream",
     "text": [
      "('Peru', 'Bolivia', 'Venezuela')\n"
     ]
    }
   ],
   "source": [
    "paises =['Colombia' , 'Ecuador' , 'Peru' , 'Bolivia' , 'Venezuela']\n",
    "print(paises[2:])"
   ]
  },
  {
   "attachments": {},
   "cell_type": "markdown",
   "metadata": {},
   "source": [
    "6) Visualizar los primeros 4 elementos de la lista"
   ]
  },
  {
   "cell_type": "code",
   "execution_count": 3,
   "metadata": {},
   "outputs": [
    {
     "name": "stdout",
     "output_type": "stream",
     "text": [
      "('Colombia', 'Ecuador', 'Peru', 'Bolivia')\n"
     ]
    }
   ],
   "source": [
    "paises =['Colombia' , 'Ecuador' , 'Peru' , 'Bolivia' , 'Venezuela']\n",
    "print(paises[:4])"
   ]
  },
  {
   "attachments": {},
   "cell_type": "markdown",
   "metadata": {},
   "source": [
    "7) Agregar una ciudad más a la lista que ya exista y otra que no ¿Arroja algún tipo de error?"
   ]
  },
  {
   "cell_type": "code",
   "execution_count": 69,
   "metadata": {},
   "outputs": [
    {
     "name": "stdout",
     "output_type": "stream",
     "text": [
      "['Colombia', 'Ecuador', 'Peru', 'Bolivia', 'Venezuela', 'Argentina', 'Argentina', 'Paraguay']\n"
     ]
    }
   ],
   "source": [
    "paises =['Colombia', 'Ecuador', 'Peru', 'Bolivia', 'Venezuela', 'Argentina']\n",
    "#paises2 = ['Argentina', 'Paraguay']\n",
    "#paises.extend(paises2)\n",
    "paises.extend(['Argentina', 'Paraguay'])\n",
    "print(paises)"
   ]
  },
  {
   "attachments": {},
   "cell_type": "markdown",
   "metadata": {},
   "source": [
    "8) Agregar otra ciudad, pero en la cuarta posición"
   ]
  },
  {
   "cell_type": "code",
   "execution_count": 4,
   "metadata": {},
   "outputs": [
    {
     "name": "stdout",
     "output_type": "stream",
     "text": [
      "['Colombia', 'Ecuador', 'Peru', 'Bolivia', 'Venezuela', 'Argentina', 'Argentina', 'Paraguay']\n"
     ]
    }
   ],
   "source": [
    "paises =['Colombia' , 'Ecuador' , 'Peru' , 'Bolivia' , 'Venezuela']\n",
    "paises.insert(3, 'Argentina')\n",
    "print(paises)\n",
    "\n",
    "print(paises)"
   ]
  },
  {
   "attachments": {},
   "cell_type": "markdown",
   "metadata": {},
   "source": [
    "9) Concatenar otra lista a la ya creada"
   ]
  },
  {
   "cell_type": "code",
   "execution_count": null,
   "metadata": {},
   "outputs": [],
   "source": [
    "paises =['Colombia', 'Ecuador', 'Peru', 'Bolivia', 'Venezuela', 'Argentina']\n",
    "paises2 = ['Argentina', 'Paraguay']\n",
    "paises.extend(paises2)"
   ]
  },
  {
   "attachments": {},
   "cell_type": "markdown",
   "metadata": {},
   "source": [
    "10) Encontrar el índice de la ciudad que en el punto 7 agregamos duplicada. ¿Se nota alguna particularidad?"
   ]
  },
  {
   "cell_type": "code",
   "execution_count": 31,
   "metadata": {},
   "outputs": [
    {
     "name": "stdout",
     "output_type": "stream",
     "text": [
      "['Colombia', 'Ecuador', 'Peru', 'Bolivia', 'Venezuela', 'Argentina', 'Paraguay', 'Argentina']\n",
      " el pais Colombia no está repetido\n",
      " el pais Ecuador no está repetido\n",
      " el pais Peru no está repetido\n",
      " el pais Bolivia no está repetido\n",
      " el pais Venezuela no está repetido\n",
      " el pais Argentina esta reperido en las posiciones 5 y 7 \n",
      " el pais Argentina no está repetido\n",
      " el pais Paraguay no está repetido\n"
     ]
    }
   ],
   "source": [
    "paises =['Colombia', 'Ecuador', 'Peru', 'Bolivia', 'Venezuela', 'Argentina']\n",
    "paises2 = ['Paraguay' , 'Argentina']\n",
    "paises.extend(paises2)\n",
    "print(paises)\n",
    "\n",
    "# Busca el pais que esta repetido\n",
    "for i in range (0, 7):\n",
    "    #print(f' el indice para de {paises[i]} es {i}')\n",
    "    for j in range(i+1, 8):\n",
    "        #print(f' el indice para comparar es {j} y el pais de esta posicion es {paises[j]} ')\n",
    "        if {paises[i]} == {paises[j]} :\n",
    "            #print(f' el pais {paises[i]} esta reperido y el indice es {i}')\n",
    "            print(f' el pais {paises[i]} esta reperido en las posiciones {i} y {j} ')\n",
    "        j+=1\n",
    "    print(f' el pais {paises[i]} no está repetido')\n"
   ]
  },
  {
   "cell_type": "code",
   "execution_count": 37,
   "metadata": {},
   "outputs": [
    {
     "name": "stdout",
     "output_type": "stream",
     "text": [
      " el pais Argentina se repite en indice 5 la posicion 6\n",
      " el pais Argentina se repite en indice 6 la posicion 7\n"
     ]
    }
   ],
   "source": [
    "\n",
    "paises =['Colombia', 'Ecuador', 'Peru', 'Bolivia', 'Venezuela','Argentina',  'Argentina', 'Paraguay']\n",
    "paises_buscado = ['Argentina']\n",
    "\n",
    "for i in range (0, 7):\n",
    "    if paises[i] == paises_buscado[0]:\n",
    "        print(f' el pais {paises[i]} se repite en indice {i} la posicion {i+1}')\n",
    "\n",
    "    i+=1\n"
   ]
  },
  {
   "cell_type": "code",
   "execution_count": 71,
   "metadata": {},
   "outputs": [
    {
     "name": "stdout",
     "output_type": "stream",
     "text": [
      "5\n"
     ]
    }
   ],
   "source": [
    "# Busca el primner indice en el que se encuentre Argentina\n",
    "paises =['Colombia', 'Ecuador', 'Peru', 'Bolivia', 'Venezuela','Argentina',  'Argentina', 'Paraguay']\n",
    "print(paises.index('Argentina'))"
   ]
  },
  {
   "attachments": {},
   "cell_type": "markdown",
   "metadata": {},
   "source": [
    "11) ¿Qué pasa si se busca un elemento que no existe?"
   ]
  },
  {
   "cell_type": "code",
   "execution_count": 72,
   "metadata": {},
   "outputs": [
    {
     "ename": "ValueError",
     "evalue": "'Paraguay' is not in list",
     "output_type": "error",
     "traceback": [
      "\u001b[1;31m---------------------------------------------------------------------------\u001b[0m",
      "\u001b[1;31mValueError\u001b[0m                                Traceback (most recent call last)",
      "Cell \u001b[1;32mIn[72], line 3\u001b[0m\n\u001b[0;32m      1\u001b[0m \u001b[38;5;66;03m# Busca el primner indice en el que se encuentre Argentina\u001b[39;00m\n\u001b[0;32m      2\u001b[0m paises \u001b[38;5;241m=\u001b[39m[\u001b[38;5;124m'\u001b[39m\u001b[38;5;124mColombia\u001b[39m\u001b[38;5;124m'\u001b[39m, \u001b[38;5;124m'\u001b[39m\u001b[38;5;124mEcuador\u001b[39m\u001b[38;5;124m'\u001b[39m, \u001b[38;5;124m'\u001b[39m\u001b[38;5;124mPeru\u001b[39m\u001b[38;5;124m'\u001b[39m, \u001b[38;5;124m'\u001b[39m\u001b[38;5;124mBolivia\u001b[39m\u001b[38;5;124m'\u001b[39m, \u001b[38;5;124m'\u001b[39m\u001b[38;5;124mVenezuela\u001b[39m\u001b[38;5;124m'\u001b[39m,\u001b[38;5;124m'\u001b[39m\u001b[38;5;124mArgentina\u001b[39m\u001b[38;5;124m'\u001b[39m,  \u001b[38;5;124m'\u001b[39m\u001b[38;5;124mArgentina\u001b[39m\u001b[38;5;124m'\u001b[39m]\n\u001b[1;32m----> 3\u001b[0m \u001b[38;5;28mprint\u001b[39m(\u001b[43mpaises\u001b[49m\u001b[38;5;241;43m.\u001b[39;49m\u001b[43mindex\u001b[49m\u001b[43m(\u001b[49m\u001b[38;5;124;43m'\u001b[39;49m\u001b[38;5;124;43mParaguay\u001b[39;49m\u001b[38;5;124;43m'\u001b[39;49m\u001b[43m)\u001b[49m)\n",
      "\u001b[1;31mValueError\u001b[0m: 'Paraguay' is not in list"
     ]
    }
   ],
   "source": [
    "# Busca el primner indice en el que se encuentre Argentina\n",
    "paises =['Colombia', 'Ecuador', 'Peru', 'Bolivia', 'Venezuela','Argentina',  'Argentina']\n",
    "print(paises.index('Paraguay'))"
   ]
  },
  {
   "attachments": {},
   "cell_type": "markdown",
   "metadata": {},
   "source": [
    "12) Eliminar un elemento de la lista"
   ]
  },
  {
   "cell_type": "code",
   "execution_count": 81,
   "metadata": {},
   "outputs": [
    {
     "name": "stdout",
     "output_type": "stream",
     "text": [
      "['Colombia', 'Ecuador', 'Peru', 'Bolivia', 'Venezuela', 'Argentina', 'Argentina']\n",
      "Peru\n",
      "['Colombia', 'Ecuador', 'Bolivia', 'Venezuela', 'Argentina', 'Argentina']\n"
     ]
    }
   ],
   "source": [
    "# Elimina el elemento de indice 2 \"Peru\"\n",
    "paises =['Colombia', 'Ecuador', 'Peru', 'Bolivia', 'Venezuela','Argentina',  'Argentina']\n",
    "print(paises)\n",
    "print(paises.pop(2))\n",
    "print(paises)"
   ]
  },
  {
   "attachments": {},
   "cell_type": "markdown",
   "metadata": {},
   "source": [
    "13) ¿Qué pasa si el elemento a eliminar no existe?"
   ]
  },
  {
   "cell_type": "code",
   "execution_count": 90,
   "metadata": {},
   "outputs": [
    {
     "name": "stdout",
     "output_type": "stream",
     "text": [
      "False\n"
     ]
    }
   ],
   "source": [
    "# Buscar 'Paraguay', si no existe, arroja False\n",
    "paises =['Colombia', 'Ecuador', 'Peru', 'Bolivia', 'Venezuela','Argentina',  'Argentina']\n",
    "print('Paraguay' in paises)"
   ]
  },
  {
   "attachments": {},
   "cell_type": "markdown",
   "metadata": {},
   "source": [
    "14) Extraer el úlimo elemento de la lista, guardarlo en una variable e imprimirlo"
   ]
  },
  {
   "cell_type": "code",
   "execution_count": 83,
   "metadata": {},
   "outputs": [
    {
     "name": "stdout",
     "output_type": "stream",
     "text": [
      "Paraguay\n"
     ]
    }
   ],
   "source": [
    "paises =['Colombia', 'Ecuador', 'Peru', 'Bolivia', 'Venezuela','Argentina',  'Argentina' , 'Paraguay']\n",
    "ultimo = paises.pop()\n",
    "print(ultimo)\n"
   ]
  },
  {
   "attachments": {},
   "cell_type": "markdown",
   "metadata": {},
   "source": [
    "15) Mostrar la lista multiplicada por 4"
   ]
  },
  {
   "cell_type": "code",
   "execution_count": 85,
   "metadata": {},
   "outputs": [
    {
     "name": "stdout",
     "output_type": "stream",
     "text": [
      "['Colombia', 'Ecuador', 'Peru', 'Colombia', 'Ecuador', 'Peru', 'Colombia', 'Ecuador', 'Peru', 'Colombia', 'Ecuador', 'Peru']\n"
     ]
    }
   ],
   "source": [
    "paises =['Colombia', 'Ecuador', 'Peru']\n",
    "print(paises*4)"
   ]
  },
  {
   "attachments": {},
   "cell_type": "markdown",
   "metadata": {},
   "source": [
    "16) Crear una tupla que contenga los números enteros del 1 al 20"
   ]
  },
  {
   "cell_type": "code",
   "execution_count": 124,
   "metadata": {},
   "outputs": [
    {
     "name": "stdout",
     "output_type": "stream",
     "text": [
      "[]\n",
      "<class 'list'>\n",
      "se crea lista [1, 2, 3, 4, 5, 6, 7, 8, 9, 10, 11, 12, 13, 14, 15, 16, 17, 18, 19, 20]\n",
      "<class 'tuple'>\n"
     ]
    }
   ],
   "source": [
    "x = []\n",
    "print(x)\n",
    "print(type(x))\n",
    "\n",
    "for i in range(1,21):\n",
    "    x.append(i)\n",
    "    i+=1\n",
    "print(f'se crea lista {x}')\n",
    "x = tuple(x)\n",
    "print(type(x))"
   ]
  },
  {
   "attachments": {},
   "cell_type": "markdown",
   "metadata": {},
   "source": [
    "17) Imprimir desde el índice 10 al 15 de la tupla"
   ]
  },
  {
   "cell_type": "code",
   "execution_count": 127,
   "metadata": {},
   "outputs": [
    {
     "name": "stdout",
     "output_type": "stream",
     "text": [
      "[]\n",
      "<class 'list'>\n",
      "se crea lista [1, 2, 3, 4, 5, 6, 7, 8, 9, 10, 11, 12, 13, 14, 15, 16, 17, 18, 19, 20]\n",
      "<class 'tuple'>\n",
      "se crea una lista de los indice de los enteros de x entre 10 a 15 [11, 12, 13, 14, 15, 16]\n",
      "<class 'list'>\n"
     ]
    }
   ],
   "source": [
    "x = []\n",
    "print(x)\n",
    "print(type(x))\n",
    "\n",
    "for i in range(1,21):\n",
    "    x.append(i)\n",
    "    i+=1\n",
    "print(f'se crea lista {x}')\n",
    "x = tuple(x)\n",
    "print(type(x))\n",
    "\n",
    "y = []\n",
    "for i in range(10,16):\n",
    "    y.append(x[i])\n",
    "    i+=1\n",
    "print(f'se crea una lista de los indice de los enteros de x entre 10 a 15 {y}')\n",
    "print(type(y))"
   ]
  },
  {
   "cell_type": "code",
   "execution_count": null,
   "metadata": {},
   "outputs": [],
   "source": []
  },
  {
   "attachments": {},
   "cell_type": "markdown",
   "metadata": {},
   "source": [
    "18) Evaluar si los números 20 y 30 están dentro de la tupla"
   ]
  },
  {
   "cell_type": "code",
   "execution_count": 134,
   "metadata": {},
   "outputs": [
    {
     "name": "stdout",
     "output_type": "stream",
     "text": [
      "<class 'tuple'>\n",
      "True\n",
      "True 20 se encuentra en la Tupla x\n",
      " False 30 no se encuentra en la Tupla x\n"
     ]
    }
   ],
   "source": [
    "x = (1, 2, 3, 4, 5, 6, 7, 8, 9, 10, 11, 12, 13, 14, 15, 16, 17, 18, 19, 20 )\n",
    "print(type(x))\n",
    "print(20 in x)\n",
    "\n",
    "for i in (20 , 30) :\n",
    "    if i in x :\n",
    "        print(f'{i in x} {i} se encuentra en la Tupla x')\n",
    "    else:\n",
    "        print(f' {i in x} {i} no se encuentra en la Tupla x')   \n",
    "       \n"
   ]
  },
  {
   "attachments": {},
   "cell_type": "markdown",
   "metadata": {},
   "source": [
    "19) Con la lista creada en el punto 1, validar la existencia del elemento 'París' y si no existe, agregarlo. Utilizar una variable e informar lo sucedido."
   ]
  },
  {
   "cell_type": "code",
   "execution_count": 139,
   "metadata": {},
   "outputs": [
    {
     "name": "stdout",
     "output_type": "stream",
     "text": [
      "False\n",
      "Paris no se encuentra en la lista por lo que se agrega a la lista\n"
     ]
    }
   ],
   "source": [
    "paises =['Colombia' , 'Ecuador' , 'Peru' , 'Bolivia' , 'Venezuela' ]\n",
    "print('Paris' in paises)\n",
    "if 'Paris' in paises :\n",
    "    print(f' Paris se encuentra en la lista')\n",
    "else:\n",
    "    paises.append('Paris')\n",
    "    print(f'Paris no se encuentra en la lista por lo que se agrega a la lista')\n"
   ]
  },
  {
   "attachments": {},
   "cell_type": "markdown",
   "metadata": {},
   "source": [
    "20) Mostrar la cantidad de veces que se encuentra un elemento específico dentro de la tupla y de la lista"
   ]
  },
  {
   "cell_type": "code",
   "execution_count": 1,
   "metadata": {},
   "outputs": [
    {
     "name": "stdout",
     "output_type": "stream",
     "text": [
      "<class 'tuple'>\n",
      "8\n",
      "Argentina se encuentra 0 veces en la Tupla paises\n",
      "8\n",
      "['Argentina'] se encuentra 2 veces en la Lista paises\n"
     ]
    }
   ],
   "source": [
    "#Tupla de paises\n",
    "paises =('Colombia' , 'Ecuador' , 'Peru' , 'Argentina' , 'Bolivia' , 'Venezuela', 'Ecuador' , 'Argentina' )\n",
    "print(type(paises))\n",
    "paises_buscado = ('Argentina')\n",
    "print(len(paises))\n",
    "x = 0\n",
    "for i in range (1 , len(paises)):\n",
    "    #print(f'{paises_buscado[0]} y {paises[i]}')\n",
    "    \n",
    "    if paises_buscado[0] == paises[i] :\n",
    "        x += 1\n",
    "print(f'{paises_buscado} se encuentra {x} veces en la Tupla paises')\n",
    "\n",
    "#Lista de paises\n",
    "paises =['Colombia' , 'Ecuador' , 'Peru' , 'Argentina' , 'Bolivia' , 'Venezuela', 'Ecuador' , 'Argentina' ]\n",
    "paises_buscado = ['Argentina']\n",
    "print(len(paises))\n",
    "x = 0\n",
    "for i in range (1 , len(paises)):\n",
    "    #print(f'{paises_buscado[0]} y {paises[i]}')\n",
    "    \n",
    "    if paises_buscado[0] == paises[i] :\n",
    "        x += 1\n",
    "print(f'{paises_buscado} se encuentra {x} veces en la Lista paises')"
   ]
  },
  {
   "cell_type": "code",
   "execution_count": 2,
   "metadata": {},
   "outputs": [
    {
     "name": "stdout",
     "output_type": "stream",
     "text": [
      "2\n"
     ]
    }
   ],
   "source": [
    "print(paises.count('Argentina'))"
   ]
  },
  {
   "attachments": {},
   "cell_type": "markdown",
   "metadata": {},
   "source": [
    "21) Convertir la tupla en una lista"
   ]
  },
  {
   "cell_type": "code",
   "execution_count": 154,
   "metadata": {},
   "outputs": [
    {
     "name": "stdout",
     "output_type": "stream",
     "text": [
      "<class 'tuple'>\n",
      "<class 'list'>\n"
     ]
    }
   ],
   "source": [
    "#Tupla de paises\n",
    "paises =('Colombia' , 'Ecuador' , 'Peru' , 'Argentina' , 'Bolivia' , 'Venezuela', 'Ecuador' , 'Argentina' )\n",
    "paises_buscado = ('Argentina')\n",
    "print(type(paises))\n",
    "\n",
    "paises_lista = list(paises)\n",
    "print(type(paises_lista))"
   ]
  },
  {
   "attachments": {},
   "cell_type": "markdown",
   "metadata": {},
   "source": [
    "22) Desempaquetar solo los primeros 3 elementos de la tupla en 3 variables"
   ]
  },
  {
   "cell_type": "code",
   "execution_count": 158,
   "metadata": {},
   "outputs": [
    {
     "name": "stdout",
     "output_type": "stream",
     "text": [
      "Colombia\n",
      "Ecuador\n",
      "Peru\n"
     ]
    }
   ],
   "source": [
    "paises =('Colombia' , 'Ecuador' , 'Peru' , 'Argentina' , 'Bolivia' , 'Venezuela', 'Ecuador' , 'Argentina' )\n",
    "uno, dos, tres ,_ ,_ ,_ ,_ ,_ = paises\n",
    "print(uno)\n",
    "print(dos)\n",
    "print(tres)"
   ]
  },
  {
   "attachments": {},
   "cell_type": "markdown",
   "metadata": {},
   "source": [
    "23) Crear un diccionario utilizando la lista crada en el punto 1, asignandole la clave \"ciudad\". Agregar tambien otras claves, como puede ser \"Pais\" y \"Continente\"."
   ]
  },
  {
   "cell_type": "code",
   "execution_count": 160,
   "metadata": {},
   "outputs": [
    {
     "name": "stdout",
     "output_type": "stream",
     "text": [
      "['Colombia', 'Ecuador', 'Peru', 'Bolivia', 'Venezuela']\n",
      "{'paises': ['Colombia', 'Ecuador', 'Peru', 'Bolivia', 'Venezuela'], 'cuidades': ['Bogota', 'Quito', 'Lima', 'La Paz', 'Caracas']}\n"
     ]
    }
   ],
   "source": [
    "paises =['Colombia' , 'Ecuador' , 'Peru' , 'Bolivia' , 'Venezuela']\n",
    "print(paises)\n",
    "\n",
    "diccionario = dict()\n",
    "\n",
    "\n",
    "diccionario = { 'paises' : paises, 'cuidades' : ['Bogota' , 'Quito' , 'Lima' , 'La Paz' , 'Caracas']}\n",
    "print(diccionario)"
   ]
  },
  {
   "attachments": {},
   "cell_type": "markdown",
   "metadata": {},
   "source": [
    "24) Imprimir las claves del diccionario"
   ]
  },
  {
   "cell_type": "code",
   "execution_count": 161,
   "metadata": {},
   "outputs": [
    {
     "name": "stdout",
     "output_type": "stream",
     "text": [
      "['paises', 'cuidades']\n"
     ]
    }
   ],
   "source": [
    "print(list(diccionario.keys()))"
   ]
  },
  {
   "attachments": {},
   "cell_type": "markdown",
   "metadata": {},
   "source": [
    "25) Imprimir las ciudades a través de su clave"
   ]
  },
  {
   "cell_type": "code",
   "execution_count": 168,
   "metadata": {},
   "outputs": [
    {
     "name": "stdout",
     "output_type": "stream",
     "text": [
      "['Bogota', 'Quito', 'Lima', 'La Paz', 'Caracas']\n"
     ]
    }
   ],
   "source": [
    "print(diccionario['cuidades\"\"\"  \"\"\"'])"
   ]
  }
 ],
 "metadata": {
  "interpreter": {
   "hash": "c85384e4cb51c8b72350f3a8712cc8351fdc3955e32a27f9b60c6242ab125f01"
  },
  "kernelspec": {
   "display_name": "Python 3 (ipykernel)",
   "language": "python",
   "name": "python3"
  },
  "language_info": {
   "codemirror_mode": {
    "name": "ipython",
    "version": 3
   },
   "file_extension": ".py",
   "mimetype": "text/x-python",
   "name": "python",
   "nbconvert_exporter": "python",
   "pygments_lexer": "ipython3",
   "version": "3.12.2"
  }
 },
 "nbformat": 4,
 "nbformat_minor": 4
}
