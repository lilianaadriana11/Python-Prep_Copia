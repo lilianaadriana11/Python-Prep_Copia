{
 "cells": [
  {
   "attachments": {},
   "cell_type": "markdown",
   "metadata": {},
   "source": [
    "## Manejo de errores"
   ]
  },
  {
   "attachments": {},
   "cell_type": "markdown",
   "metadata": {},
   "source": [
    "1) Con la clase creada en el módulo 7, tener en cuenta diferentes casos en que el código pudiera arrojar error. Por ejemplo, en la creación del objeto recibimos una lista de números enteros pero ¿qué pasa si se envía otro tipo de dato?"
   ]
  },
  {
   "cell_type": "code",
   "execution_count": 1,
   "metadata": {},
   "outputs": [],
   "source": [
    "#(las clases fueron creadas en el modulo 8)\n",
    "# Agregar un dato cadena en las funciones primo o factorial o temperatura\n",
    "# Agregar numero nagativos en las funciones, primo o factorial\n",
    "# No agregar parametros a las funciones\n",
    "\n"
   ]
  },
  {
   "cell_type": "code",
   "execution_count": 7,
   "metadata": {},
   "outputs": [
    {
     "name": "stdout",
     "output_type": "stream",
     "text": [
      "True\n"
     ]
    }
   ],
   "source": [
    "# agregar a la clase unittest.TestCase funciones de testeo\n",
    "\n",
    "\n",
    "import unittest\n",
    "import numero_primo\n",
    "\n",
    "primo = numero_primo.evalua_primo(5)\n",
    "print(primo)\n"
   ]
  },
  {
   "cell_type": "code",
   "execution_count": 13,
   "metadata": {},
   "outputs": [
    {
     "name": "stderr",
     "output_type": "stream",
     "text": [
      "test_numero_primo (__main__.cajaNegraTest.test_numero_primo) ... ok\n",
      "\n",
      "----------------------------------------------------------------------\n",
      "Ran 1 test in 0.002s\n",
      "\n",
      "OK\n"
     ]
    },
    {
     "data": {
      "text/plain": [
       "<unittest.main.TestProgram at 0x1e54e33a240>"
      ]
     },
     "execution_count": 13,
     "metadata": {},
     "output_type": "execute_result"
    }
   ],
   "source": [
    "\n",
    "# testeo del tipo de datos de entrada para la funcion primo............. POR que da ERROR?\n",
    "class cajaNegraTest (unittest.TestCase) :\n",
    "    def test_numero_primo (self) :\n",
    "        esperado = True\n",
    "        resultado = numero_primo.evalua_primo(5)\n",
    "        self.assertEqual (resultado, esperado)\n",
    "\n",
    "\n",
    "\n",
    "unittest.main(argv=[''], verbosity = 2 , exit= False)"
   ]
  },
  {
   "cell_type": "code",
   "execution_count": 14,
   "metadata": {},
   "outputs": [],
   "source": [
    "import sys\n",
    "sys.path.append(r'c:/LILIANA PORTATIL hP 2023/TRABAJO/SoyHenry/Pre-Course/M08_clasesyOOP')"
   ]
  },
  {
   "cell_type": "code",
   "execution_count": 15,
   "metadata": {},
   "outputs": [],
   "source": [
    "import metodos_math_preCourse  as met2\n",
    "\n",
    "lista = [ 1 , 2, 3, 4, 5, 6, 7 ]\n",
    "\n",
    "bb = met2.Operaciones_PreCurso_SoyHenry(lista)\n"
   ]
  },
  {
   "cell_type": "code",
   "execution_count": 16,
   "metadata": {},
   "outputs": [],
   "source": [
    "import sys\n",
    "sys.path.append(r'c:/LILIANA PORTATIL hP 2023/TRABAJO/SoyHenry/Pre-Course/M09_errorhandling')"
   ]
  },
  {
   "cell_type": "code",
   "execution_count": 17,
   "metadata": {},
   "outputs": [
    {
     "name": "stdout",
     "output_type": "stream",
     "text": [
      "<class 'str'>\n"
     ]
    },
    {
     "ename": "ValueError",
     "evalue": "Indique una lista de numeros",
     "output_type": "error",
     "traceback": [
      "\u001b[1;31m---------------------------------------------------------------------------\u001b[0m",
      "\u001b[1;31mValueError\u001b[0m                                Traceback (most recent call last)",
      "Cell \u001b[1;32mIn[17], line 7\u001b[0m\n\u001b[0;32m      3\u001b[0m lista \u001b[38;5;241m=\u001b[39m \u001b[38;5;124m'\u001b[39m\u001b[38;5;124mLista_error\u001b[39m\u001b[38;5;124m'\u001b[39m\n\u001b[0;32m      5\u001b[0m \u001b[38;5;28mprint\u001b[39m(\u001b[38;5;28mtype\u001b[39m(lista))\n\u001b[1;32m----> 7\u001b[0m bb3 \u001b[38;5;241m=\u001b[39m \u001b[43mmet3\u001b[49m\u001b[38;5;241;43m.\u001b[39;49m\u001b[43mOperaciones_PreCurso_SoyHenry_9\u001b[49m\u001b[43m(\u001b[49m\u001b[43mlista\u001b[49m\u001b[43m)\u001b[49m\n",
      "File \u001b[1;32mc:\\LILIANA PORTATIL hP 2023\\TRABAJO\\SoyHenry\\Pre-Course\\M09_errorhandling\\metodos_math_preCourse_pruebas_error.py:5\u001b[0m, in \u001b[0;36mOperaciones_PreCurso_SoyHenry_9.__init__\u001b[1;34m(self, lista_x)\u001b[0m\n\u001b[0;32m      3\u001b[0m \u001b[38;5;28;01mif\u001b[39;00m \u001b[38;5;28mtype\u001b[39m(lista_x) \u001b[38;5;241m!=\u001b[39m \u001b[38;5;28mlist\u001b[39m :\n\u001b[0;32m      4\u001b[0m     \u001b[38;5;28mself\u001b[39m\u001b[38;5;241m.\u001b[39mlista_x \u001b[38;5;241m=\u001b[39m []\n\u001b[1;32m----> 5\u001b[0m     \u001b[38;5;28;01mraise\u001b[39;00m \u001b[38;5;167;01mValueError\u001b[39;00m(\u001b[38;5;124m'\u001b[39m\u001b[38;5;124mIndique una lista de numeros\u001b[39m\u001b[38;5;124m'\u001b[39m)\n\u001b[0;32m      6\u001b[0m \u001b[38;5;28;01melse\u001b[39;00m :\n\u001b[0;32m      7\u001b[0m     \u001b[38;5;28mself\u001b[39m\u001b[38;5;241m.\u001b[39mlista_x \u001b[38;5;241m=\u001b[39m lista_x\n",
      "\u001b[1;31mValueError\u001b[0m: Indique una lista de numeros"
     ]
    }
   ],
   "source": [
    "import metodos_math_preCourse_pruebas_error  as met3\n",
    "\n",
    "lista = 'Lista_error'\n",
    "\n",
    "print(type(lista))\n",
    "\n",
    "bb3 = met3.Operaciones_PreCurso_SoyHenry_9(lista)"
   ]
  },
  {
   "cell_type": "code",
   "execution_count": 2,
   "metadata": {},
   "outputs": [
    {
     "name": "stdout",
     "output_type": "stream",
     "text": [
      "<class 'list'>\n"
     ]
    }
   ],
   "source": [
    "import metodos_math_preCourse_pruebas_error  as met3\n",
    "\n",
    "lista = [ 1 , 2, 3, 4, 5, 6, 7 ]\n",
    "\n",
    "print(type(lista))\n",
    "\n",
    "bb = met3.Operaciones_PreCurso_SoyHenry_9(lista)"
   ]
  },
  {
   "attachments": {},
   "cell_type": "markdown",
   "metadata": {},
   "source": [
    "2) En la función que hace la conversión de grados, validar que los parámetros enviados sean los esperados, de no serlo, informar cuáles son los valores esperados."
   ]
  },
  {
   "cell_type": "code",
   "execution_count": 1,
   "metadata": {},
   "outputs": [],
   "source": [
    "# Que ingresen datos no numericos en el vector de temperatura\n",
    "# Modulo original del en M8\n",
    "\n",
    "import sys\n",
    "sys.path.append(r'c:/LILIANA PORTATIL hP 2023/TRABAJO/SoyHenry/Pre-Course/M08_clasesyOOP')\n",
    "\n",
    "import metodos_math_preCourse  as met3\n",
    "\n"
   ]
  },
  {
   "cell_type": "code",
   "execution_count": 2,
   "metadata": {},
   "outputs": [
    {
     "ename": "NameError",
     "evalue": "name 'M' is not defined",
     "output_type": "error",
     "traceback": [
      "\u001b[1;31m---------------------------------------------------------------------------\u001b[0m",
      "\u001b[1;31mNameError\u001b[0m                                 Traceback (most recent call last)",
      "Cell \u001b[1;32mIn[2], line 1\u001b[0m\n\u001b[1;32m----> 1\u001b[0m lista \u001b[38;5;241m=\u001b[39m [ \u001b[38;5;241m1\u001b[39m , \u001b[38;5;241m2\u001b[39m, \u001b[38;5;241m3\u001b[39m, \u001b[38;5;241m4\u001b[39m, \u001b[43mM\u001b[49m, \u001b[38;5;241m6\u001b[39m, \u001b[38;5;241m7\u001b[39m ]\n\u001b[0;32m      2\u001b[0m bb \u001b[38;5;241m=\u001b[39m met3\u001b[38;5;241m.\u001b[39mOperaciones_PreCurso_SoyHenry(lista)\n\u001b[0;32m      4\u001b[0m bb_resultado  \u001b[38;5;241m=\u001b[39m bb\u001b[38;5;241m.\u001b[39mconvertidor_temperatura(\u001b[38;5;124m'\u001b[39m\u001b[38;5;124mF\u001b[39m\u001b[38;5;124m'\u001b[39m , \u001b[38;5;124m'\u001b[39m\u001b[38;5;124mC\u001b[39m\u001b[38;5;124m'\u001b[39m)\n",
      "\u001b[1;31mNameError\u001b[0m: name 'M' is not defined"
     ]
    }
   ],
   "source": [
    "lista = [ 1 , 2, 3, 4, M, 6, 7 ]\n",
    "bb = met3.Operaciones_PreCurso_SoyHenry(lista)\n",
    "\n",
    "bb_resultado  = bb.convertidor_temperatura('F' , 'C')\n",
    "print(bb_resultado )\n"
   ]
  },
  {
   "cell_type": "code",
   "execution_count": 1,
   "metadata": {},
   "outputs": [
    {
     "name": "stdout",
     "output_type": "stream",
     "text": [
      " 1°F equivalen a -17.22222222222222°C\n",
      " 2°F equivalen a -16.666666666666668°C\n",
      " 3°F equivalen a -16.11111111111111°C\n",
      " 4°F equivalen a -15.555555555555555°C\n",
      " 5°F equivalen a -15.0°C\n",
      "Indique un numero real\n",
      " u\n"
     ]
    }
   ],
   "source": [
    "# Que ingresen datos no numericos en el vector de temperatura\n",
    "# Modulo modificado en M9\n",
    "'''\n",
    "La funcion original:\n",
    "----------------------------------------------------------------------------------------\n",
    "    def convertidor_temperatura(self, unidades_entrada , unidades_salida) :\n",
    "        for elemento in self.lista_x :\n",
    "            self.__convertidor_temperatura (  unidades_entrada , elemento,  unidades_salida )# tengo duda sobre los parametros de entrada (unidades)\n",
    "----------------------------------------------------------------------------------------\n",
    "\n",
    "se camnbia por la siguiente:\n",
    "----------------------------------------------------------------------------------------\n",
    "    def convertidor_temperatura(self, unidades_entrada , unidades_salida) :\n",
    "        for elemento in self.lista_x :\n",
    "            try:\n",
    "                self.__convertidor_temperatura (  unidades_entrada , elemento,  unidades_salida )# tengo duda sobre los parametros de entrada (unidades)\n",
    "            except ValueError:\n",
    "                print('Indique un numero real')\n",
    "                return f' {elemento}'\n",
    "----------------------------------------------------------------------------------------\n",
    "'''\n",
    "\n",
    "\n",
    "import sys\n",
    "sys.path.append(r'c:/LILIANA PORTATIL hP 2023/TRABAJO/SoyHenry/Pre-Course/M09_errorhandling')\n",
    "\n",
    "import metodos_math_preCourse_pruebas_error  as met2\n",
    "\n",
    "\n",
    "lista = [ 1 , 2, 3, 4, 5, 'u', 7 ]\n",
    "bb2 = met2.Operaciones_PreCurso_SoyHenry_9(lista)\n",
    "\n",
    "bb2_resultado  = bb2.convertidor_temperatura('F' , 'C')\n",
    "print(bb2_resultado )"
   ]
  },
  {
   "attachments": {},
   "cell_type": "markdown",
   "metadata": {},
   "source": [
    "3) Importar el modulo \"unittest\" y crear los siguientes casos de pruebas sobre la clase utilizada en el punto 2<br>\n",
    "Creacion del objeto incorrecta<br>\n",
    "Creacion correcta del objeto<br>\n",
    "Metodo valor_modal()<br>\n",
    "\n",
    "Se puede usar \"raise ValueError()\" en la creación de la clase para verificar el error. Investigar sobre esta funcionalidad."
   ]
  },
  {
   "cell_type": "code",
   "execution_count": 1,
   "metadata": {},
   "outputs": [
    {
     "name": "stdout",
     "output_type": "stream",
     "text": [
      "2\n"
     ]
    }
   ],
   "source": [
    "## Llama el modulo en M9\n",
    "\n",
    "import sys\n",
    "sys.path.append(r'c:/LILIANA PORTATIL hP 2023/TRABAJO/SoyHenry/Pre-Course/M09_errorhandling')\n",
    "\n",
    "import metodos_math_preCourse_pruebas_error  as met2\n",
    "lista = [ 1 , 2, 2 ]\n",
    "\n",
    "bb2 = met2.Operaciones_PreCurso_SoyHenry_9(lista)\n",
    "\n",
    "bb3_resultado  = bb2.modas_preCourse(lista)\n",
    "\n",
    "#print(bb3_resultado )"
   ]
  },
  {
   "cell_type": "code",
   "execution_count": 1,
   "metadata": {},
   "outputs": [],
   "source": [
    "\n",
    "----Aqui voy y no corre!!\n",
    "import sys\n",
    "sys.path.append(r'c:/LILIANA PORTATIL hP 2023/TRABAJO/SoyHenry/Pre-Course/M09_errorhandling')\n",
    "\n",
    "import metodos_math_preCourse_pruebas_error  as met2\n",
    "\n",
    "## Prueba de los resultados de salida de la funcion moda\n",
    "# Agrega una nueva funcion para prueba de cristal heredada de la class \"unittest.TestCase\"\n",
    "import unittest\n",
    "''' \n",
    "def suma (a, b):\n",
    "    return (a + b)\n",
    "a = 5\n",
    "b = 4\n",
    "\n",
    "suma(5, 4)\n",
    "print(suma(5, 4))\n",
    "'''\n",
    "\n",
    "\n",
    "class validar_tipo_dato_entrada(unittest.TestCase):\n",
    "    \n",
    "    # Objeto de entrada para las funciones incorrecto\n",
    "\n",
    "    def prueba_incorrecta(self) :\n",
    "        objeto = 'Hola'\n",
    "        self.assertRaises(ValueError, met2.Operaciones_PreCurso_SoyHenry_9, objeto)\n",
    "        # No hace el proceso, por qué?\n",
    "        \n",
    "    # Objeto de entrada para las funciones correcto\n",
    "    def prueba_correcta(self) :\n",
    "        objeto =  [1, 2, 3, 5]\n",
    "        self.assertRaises(ValueError, met2.Operaciones_PreCurso_SoyHenry_9, objeto)\n",
    "        # No hace el proceso, por qué?\n",
    "        \n",
    "    def test_valores_moda(self):\n",
    "        self.lista_x = [1, 2, 3, 5]\n",
    "        if type(self.lista_x) != list :\n",
    "            raise TypeError (\"\\n\\n DEBE indicar el conjunto de valores como una lista []\")\n",
    "\n",
    "    \n",
    "    def prueba_moda (self) :\n",
    "        lis = [ 1 , 2, 2 ]\n",
    "        esperado = 2\n",
    "        objeto = met2.Operaciones_PreCurso_SoyHenry_9(lis)\n",
    "        self.assertEqual(objeto.modas_preCourse, esperado)\n",
    "        # No hace el proceso, por qué?\n",
    "\n",
    "    '''\n",
    "    def prueba_incorrecta (self) :\n",
    "        esperado = 9\n",
    "        self.assertEqual(suma(5, 4), 9)\n",
    "        # No hace el proceso, por qué?\n",
    "    '''"
   ]
  },
  {
   "cell_type": "code",
   "execution_count": 2,
   "metadata": {},
   "outputs": [
    {
     "name": "stderr",
     "output_type": "stream",
     "text": [
      "test_valores_moda (__main__.validar_tipo_dato_entrada.test_valores_moda) ... ok\n",
      "\n",
      "----------------------------------------------------------------------\n",
      "Ran 1 test in 0.003s\n",
      "\n",
      "OK\n"
     ]
    },
    {
     "data": {
      "text/plain": [
       "<unittest.main.TestProgram at 0x22266db4e00>"
      ]
     },
     "execution_count": 2,
     "metadata": {},
     "output_type": "execute_result"
    }
   ],
   "source": [
    "unittest.main(argv=[''], verbosity=2, exit=False)"
   ]
  },
  {
   "cell_type": "code",
   "execution_count": null,
   "metadata": {},
   "outputs": [],
   "source": [
    "\n",
    "\n",
    "    def test_valores_moda(self):\n",
    "        self.lista = x1\n",
    "        if type(lista) != list :\n",
    "            raise TypeError (\"\\n\\n DEBE indicar el conjunto de valores como una lista []\")\n",
    "\n"
   ]
  },
  {
   "cell_type": "code",
   "execution_count": 10,
   "metadata": {},
   "outputs": [
    {
     "name": "stderr",
     "output_type": "stream",
     "text": [
      "test_valores_moda (__main__.validar_tipo_dato_entrada.test_valores_moda) ... ok\n",
      "\n",
      "----------------------------------------------------------------------\n",
      "Ran 1 test in 0.002s\n",
      "\n",
      "OK\n"
     ]
    },
    {
     "data": {
      "text/plain": [
       "<unittest.main.TestProgram at 0x21e5582e150>"
      ]
     },
     "execution_count": 10,
     "metadata": {},
     "output_type": "execute_result"
    }
   ],
   "source": [
    "unittest.main(argv=[''], verbosity = 2 , exit= False)"
   ]
  },
  {
   "cell_type": "code",
   "execution_count": 29,
   "metadata": {},
   "outputs": [
    {
     "name": "stdout",
     "output_type": "stream",
     "text": [
      "\n",
      " --- Evalua si el dato de entrada para la funcion moda es correcto\n"
     ]
    },
    {
     "ename": "TypeError",
     "evalue": "validar_tipo_dato_entrada.test_valores_moda() takes 1 positional argument but 2 were given",
     "output_type": "error",
     "traceback": [
      "\u001b[1;31m---------------------------------------------------------------------------\u001b[0m",
      "\u001b[1;31mTypeError\u001b[0m                                 Traceback (most recent call last)",
      "Cell \u001b[1;32mIn[29], line 9\u001b[0m\n\u001b[0;32m      7\u001b[0m vtde \u001b[38;5;241m=\u001b[39m validar_tipo_dato_entrada() \u001b[38;5;66;03m# se requiere corre la \"clase\" anterior\u001b[39;00m\n\u001b[0;32m      8\u001b[0m \u001b[38;5;28mprint\u001b[39m(\u001b[38;5;124mf\u001b[39m\u001b[38;5;124m'\u001b[39m\u001b[38;5;130;01m\\n\u001b[39;00m\u001b[38;5;124m --- Evalua si el dato de entrada para la funcion moda es correcto\u001b[39m\u001b[38;5;124m'\u001b[39m)\n\u001b[1;32m----> 9\u001b[0m \u001b[43mvtde\u001b[49m\u001b[38;5;241;43m.\u001b[39;49m\u001b[43mtest_valores_moda\u001b[49m\u001b[43m(\u001b[49m\u001b[43mx\u001b[49m\u001b[43m)\u001b[49m\n\u001b[0;32m     11\u001b[0m \u001b[38;5;28mprint\u001b[39m(\u001b[38;5;124mf\u001b[39m\u001b[38;5;124m'\u001b[39m\u001b[38;5;124m imprime -------salida de def test_valores_moda \u001b[39m\u001b[38;5;132;01m{\u001b[39;00mvtde\u001b[38;5;241m.\u001b[39mtest_valores_moda(x)\u001b[38;5;132;01m}\u001b[39;00m\u001b[38;5;130;01m\\n\u001b[39;00m\u001b[38;5;124m'\u001b[39m)\n\u001b[0;32m     14\u001b[0m bb \u001b[38;5;241m=\u001b[39m met2\u001b[38;5;241m.\u001b[39mOperaciones_PreCurso_SoyHenry(x)\n",
      "\u001b[1;31mTypeError\u001b[0m: validar_tipo_dato_entrada.test_valores_moda() takes 1 positional argument but 2 were given"
     ]
    }
   ],
   "source": [
    "\n",
    "import importlib  #se importa el módulo importlib, el cual proporciona funciones para recargar (reload) módulos previamente importados. \n",
    "importlib.reload(met2)\n",
    "\n",
    "#x =  ''                                 # creacion incorrecta del la entrada#\n",
    "x = [ 4 , 5 , 4 , 5 , 6 , 'm',  10 , 12] # creacion correcta del la entrada\n",
    "\n",
    "vtde = validar_tipo_dato_entrada() # se requiere corre la \"clase\" anterior\n",
    "print(f'\\n --- Evalua si el dato de entrada para la funcion moda es correcto')\n",
    "\n",
    "vtde.test_valores_moda(x)\n",
    "\n",
    "print(f' imprime -------salida de def test_valores_moda {vtde.test_valores_moda(x)}\\n')\n",
    "\n",
    "\n",
    "bb = met2.Operaciones_PreCurso_SoyHenry(x)\n",
    "moda = bb.modas_preCourse(x)\n",
    "print(moda)\n"
   ]
  },
  {
   "attachments": {},
   "cell_type": "markdown",
   "metadata": {},
   "source": [
    "4) Probar una creación incorrecta y visualizar la salida del \"raise\""
   ]
  },
  {
   "cell_type": "code",
   "execution_count": 5,
   "metadata": {},
   "outputs": [
    {
     "name": "stdout",
     "output_type": "stream",
     "text": [
      "\n",
      " --- Evalua si el dato de entrada para la funcion moda es correcto\n"
     ]
    },
    {
     "ename": "TypeError",
     "evalue": "\n\nDEBE indicar el conjunto de valores como una lista []",
     "output_type": "error",
     "traceback": [
      "\u001b[1;31m---------------------------------------------------------------------------\u001b[0m",
      "\u001b[1;31mTypeError\u001b[0m                                 Traceback (most recent call last)",
      "Cell \u001b[1;32mIn[5], line 8\u001b[0m\n\u001b[0;32m      6\u001b[0m vtde \u001b[38;5;241m=\u001b[39m validar_tipo_dato_entrada() \u001b[38;5;66;03m# se requiere corre la \"clase\" anterior\u001b[39;00m\n\u001b[0;32m      7\u001b[0m \u001b[38;5;28mprint\u001b[39m(\u001b[38;5;124mf\u001b[39m\u001b[38;5;124m'\u001b[39m\u001b[38;5;130;01m\\n\u001b[39;00m\u001b[38;5;124m --- Evalua si el dato de entrada para la funcion moda es correcto\u001b[39m\u001b[38;5;124m'\u001b[39m)\n\u001b[1;32m----> 8\u001b[0m \u001b[43mvtde\u001b[49m\u001b[38;5;241;43m.\u001b[39;49m\u001b[43mtest_valores_moda\u001b[49m\u001b[43m(\u001b[49m\u001b[43mx\u001b[49m\u001b[43m)\u001b[49m\n\u001b[0;32m     10\u001b[0m \u001b[38;5;28mprint\u001b[39m(\u001b[38;5;124mf\u001b[39m\u001b[38;5;124m'\u001b[39m\u001b[38;5;124m imprime -------salida de def test_valores_moda \u001b[39m\u001b[38;5;132;01m{\u001b[39;00mvtde\u001b[38;5;241m.\u001b[39mtest_valores_moda(x)\u001b[38;5;132;01m}\u001b[39;00m\u001b[38;5;130;01m\\n\u001b[39;00m\u001b[38;5;124m'\u001b[39m)\n\u001b[0;32m     13\u001b[0m bb \u001b[38;5;241m=\u001b[39m met4\u001b[38;5;241m.\u001b[39mOperaciones_PreCurso_SoyHenry(x)\n",
      "Cell \u001b[1;32mIn[3], line 17\u001b[0m, in \u001b[0;36mvalidar_tipo_dato_entrada.test_valores_moda\u001b[1;34m(self, lista)\u001b[0m\n\u001b[0;32m     15\u001b[0m \u001b[38;5;28mself\u001b[39m\u001b[38;5;241m.\u001b[39mlista \u001b[38;5;241m=\u001b[39m \u001b[38;5;241m0\u001b[39m\n\u001b[0;32m     16\u001b[0m \u001b[38;5;28;01mif\u001b[39;00m \u001b[38;5;28mtype\u001b[39m(lista) \u001b[38;5;241m!=\u001b[39m \u001b[38;5;28mlist\u001b[39m :\n\u001b[1;32m---> 17\u001b[0m     \u001b[38;5;28;01mraise\u001b[39;00m \u001b[38;5;167;01mTypeError\u001b[39;00m (\u001b[38;5;124m\"\u001b[39m\u001b[38;5;130;01m\\n\u001b[39;00m\u001b[38;5;130;01m\\n\u001b[39;00m\u001b[38;5;124mDEBE indicar el conjunto de valores como una lista []\u001b[39m\u001b[38;5;124m\"\u001b[39m)\n",
      "\u001b[1;31mTypeError\u001b[0m: \n\nDEBE indicar el conjunto de valores como una lista []"
     ]
    }
   ],
   "source": [
    "import metodos_math_preCourse_pruebas_error as met4\n",
    "\n",
    "x =  ''                                 # creacion incorrecta del la entrada#\n",
    "#x = [ 4 , 5 , 4 , 5 , 6 , 'm',  10 , 12] # creacion correcta del la entrada\n",
    "\n",
    "vtde = validar_tipo_dato_entrada() # se requiere corre la \"clase\" anterior\n",
    "print(f'\\n --- Evalua si el dato de entrada para la funcion moda es correcto')\n",
    "vtde.test_valores_moda(x)\n",
    "\n",
    "print(f' imprime -------salida de def test_valores_moda {vtde.test_valores_moda(x)}\\n')\n",
    "\n",
    "\n",
    "bb = met4.Operaciones_PreCurso_SoyHenry(x)\n",
    "moda = bb.modas_preCourse(x)\n",
    "print(moda)"
   ]
  },
  {
   "attachments": {},
   "cell_type": "markdown",
   "metadata": {},
   "source": [
    "6) Agregar casos de pruebas para el método verifica_primos() realizando el cambio en la clase, para que devuelva una lista de True o False en función de que el elemento en la posisicón sea o no primo"
   ]
  },
  {
   "cell_type": "code",
   "execution_count": 6,
   "metadata": {},
   "outputs": [
    {
     "name": "stdout",
     "output_type": "stream",
     "text": [
      "5 es primo : True\n",
      "None\n"
     ]
    }
   ],
   "source": [
    "##1. Llamar el archivo y la funcion \"evalua_primo\"\n",
    "\n",
    "import metodos_math_preCourse_pruebas_error as met6\n",
    "\n",
    "Lista = [5]\n",
    "\n",
    "clase = met6.Operaciones_PreCurso_SoyHenry(Lista)\n",
    "resultado = clase.evalua_primo()\n",
    "print(resultado)"
   ]
  },
  {
   "cell_type": "code",
   "execution_count": 3,
   "metadata": {},
   "outputs": [],
   "source": [
    "# 2. Cambio en la clase \"Operaciones_PreCurso_SoyHenry\" uso de Super\n",
    "\n",
    "'''#clase original\n",
    "class Operaciones_PreCurso_SoyHenry: #recopilacion de funciones desarrolladas en M7 - opera sobre una lista de numeros\n",
    "    def __init__(self, lista_x) :\n",
    "        self.lista_x = lista_x\n",
    "        pass\n",
    "'''\n",
    "\n",
    "import metodos_math_preCourse_pruebas_error as met6\n",
    "\n",
    "class primo(Operaciones_PreCurso_SoyHenry):\n",
    "    def __init__(selt, lista, numero):\n",
    "        super.__init__(lista)\n",
    "        selt.numero = x\n",
    "\n",
    "    def evalua_valor_primo(self, x:int):\n",
    "        numero_primo = True\n",
    "        for i in range(2, x): # Evalua hasta x-1, excluyendo el 2\n",
    "            #print(i)\n",
    "            if x % i == 0:\n",
    "                numero_primo = False\n",
    "                break # si encuetra un divisor se detiene el for\n",
    "        #return numero_primo\n",
    "        print(f'{x}: {numero_primo}')\n",
    "\n"
   ]
  },
  {
   "cell_type": "code",
   "execution_count": 2,
   "metadata": {},
   "outputs": [
    {
     "ename": "NameError",
     "evalue": "name 'evalua_valor_primo' is not defined",
     "output_type": "error",
     "traceback": [
      "\u001b[1;31m---------------------------------------------------------------------------\u001b[0m",
      "\u001b[1;31mNameError\u001b[0m                                 Traceback (most recent call last)",
      "Cell \u001b[1;32mIn[2], line 5\u001b[0m\n\u001b[0;32m      1\u001b[0m \u001b[38;5;66;03m##3. Llamar nuevamente el archivo y la funcion \"evalua_primo\"\u001b[39;00m\n\u001b[0;32m      3\u001b[0m x \u001b[38;5;241m=\u001b[39m \u001b[38;5;241m7\u001b[39m\n\u001b[1;32m----> 5\u001b[0m resultado \u001b[38;5;241m=\u001b[39m \u001b[43mevalua_valor_primo\u001b[49m(x)\n\u001b[0;32m      6\u001b[0m \u001b[38;5;28mprint\u001b[39m(resultado)\n",
      "\u001b[1;31mNameError\u001b[0m: name 'evalua_valor_primo' is not defined"
     ]
    }
   ],
   "source": [
    "##3. Llamar nuevamente el archivo y la funcion \"evalua_primo\"\n",
    "\n",
    "\n",
    "x = 7\n",
    "\n",
    "resultado = evalua_valor_primo(x)\n",
    "print(resultado)"
   ]
  },
  {
   "attachments": {},
   "cell_type": "markdown",
   "metadata": {},
   "source": [
    "7) Agregar casos de pruebas para el método conversion_grados()"
   ]
  },
  {
   "cell_type": "code",
   "execution_count": null,
   "metadata": {},
   "outputs": [],
   "source": []
  },
  {
   "attachments": {},
   "cell_type": "markdown",
   "metadata": {},
   "source": [
    "8) Agregar casos de pruebas para el método factorial()"
   ]
  },
  {
   "cell_type": "code",
   "execution_count": null,
   "metadata": {},
   "outputs": [],
   "source": []
  }
 ],
 "metadata": {
  "interpreter": {
   "hash": "c85384e4cb51c8b72350f3a8712cc8351fdc3955e32a27f9b60c6242ab125f01"
  },
  "kernelspec": {
   "display_name": "Python 3 (ipykernel)",
   "language": "python",
   "name": "python3"
  },
  "language_info": {
   "codemirror_mode": {
    "name": "ipython",
    "version": 3
   },
   "file_extension": ".py",
   "mimetype": "text/x-python",
   "name": "python",
   "nbconvert_exporter": "python",
   "pygments_lexer": "ipython3",
   "version": "3.12.2"
  }
 },
 "nbformat": 4,
 "nbformat_minor": 4
}
